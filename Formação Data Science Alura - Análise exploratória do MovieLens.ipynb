{
 "cells": [
  {
   "cell_type": "markdown",
   "metadata": {},
   "source": [
    "## Pergunta: Coloque um cabeçalho nesse notebook com o seu nome e resumindo o que descobriu ao explorar esses dados"
   ]
  },
  {
   "cell_type": "markdown",
   "metadata": {},
   "source": [
    "### Aluno : Samuel Hericles Souza Silveira\n",
    "    \n",
    "### Data da realização: 07/06/2002"
   ]
  },
  {
   "cell_type": "markdown",
   "metadata": {},
   "source": [
    "## Formação Data Science Alura - Análise exploratória do MovieLens\n",
    "\n",
    "Na formação de Data Scienda www.alura.com.br um dos conjuntos de dados que utilizamos é o de avaliações para filmes no site MovieLens. Neste projeto faremos uma análise exploratória desses dados."
   ]
  },
  {
   "cell_type": "markdown",
   "metadata": {},
   "source": [
    "### Dicas para o projeto completo:\n",
    "\n",
    "- todo gráfico deve ter um título, labels e legendas que fazem sentido\n",
    "- configure um tamanho adequado para os gráficos\n",
    "- utilize as versões dos arquivos de dados disponíveis no github"
   ]
  },
  {
   "cell_type": "markdown",
   "metadata": {},
   "source": [
    "## Pergunta: conferindo as versões utilizadas\n",
    "\n",
    "- Devemos usar pandas 0.24.0 ou mais recente\n",
    "- Devemos usar seaborn 0.9.0 ou mais recente\n",
    "- Devemos usar scipy 1.2.0 ou mais recente"
   ]
  },
  {
   "cell_type": "code",
   "execution_count": 11,
   "metadata": {},
   "outputs": [],
   "source": [
    "# !pip install pandas==\"0.24.0\" --quiet\n",
    "# !pip install seaborn==\"0.9.0\" --quiet\n",
    "# !pip install scipy==\"1.2.0\" --quiet\n",
    "# !pip install statsmodels\n",
    "# !pip install matplotlib"
   ]
  },
  {
   "cell_type": "code",
   "execution_count": 12,
   "metadata": {},
   "outputs": [
    {
     "name": "stdout",
     "output_type": "stream",
     "text": [
      "Usando pandas 1.0.4\n",
      "Usando seaborn 0.9.0\n",
      "Usando scipy 1.4.1\n"
     ]
    }
   ],
   "source": [
    "import pandas as pd\n",
    "import seaborn as sns\n",
    "import scipy\n",
    "import matplotlib.pyplot as plt\n",
    "from scipy.stats import shapiro # Teste shapiro-wilk avalia se as amostra se comportam em uma gaussiana.\n",
    "from scipy.stats import  anderson # Teste que avaliar qual tipo de distribuição os dados se comportam.\n",
    "from scipy.stats import normaltest # Teste D'Agostino ou K² teste, retorna um remuso estatístico dos dados\n",
    "\n",
    "print(\"Usando pandas %s\" % pd.__version__)\n",
    "print(\"Usando seaborn %s\" % sns.__version__)\n",
    "print(\"Usando scipy %s\" % scipy.__version__)\n"
   ]
  },
  {
   "cell_type": "markdown",
   "metadata": {},
   "source": [
    "## Pergunta: carregue os filmes\n",
    "\n",
    "- os dados `https://raw.githubusercontent.com/alura-cursos/formacao-data-science/master/movies.csv` devem ser carregado em `filmes`\n",
    "- renomeie as colunas para `filmeId`, `titulo` e `generos`\n",
    "- configure o indice (`index`) para ser o `filmeId`"
   ]
  },
  {
   "cell_type": "code",
   "execution_count": 87,
   "metadata": {},
   "outputs": [],
   "source": [
    "# solução\n",
    "filmes = pd.read_csv('https://raw.githubusercontent.com/alura-cursos/formacao-data-science/master/movies.csv')\n",
    "filmes.columns = ['filmeId','titulo','generos']\n",
    "filmes.set_index('filmeId',inplace=True)"
   ]
  },
  {
   "cell_type": "code",
   "execution_count": 88,
   "metadata": {},
   "outputs": [
    {
     "data": {
      "text/html": [
       "<div>\n",
       "<style scoped>\n",
       "    .dataframe tbody tr th:only-of-type {\n",
       "        vertical-align: middle;\n",
       "    }\n",
       "\n",
       "    .dataframe tbody tr th {\n",
       "        vertical-align: top;\n",
       "    }\n",
       "\n",
       "    .dataframe thead th {\n",
       "        text-align: right;\n",
       "    }\n",
       "</style>\n",
       "<table border=\"1\" class=\"dataframe\">\n",
       "  <thead>\n",
       "    <tr style=\"text-align: right;\">\n",
       "      <th></th>\n",
       "      <th>titulo</th>\n",
       "      <th>generos</th>\n",
       "    </tr>\n",
       "    <tr>\n",
       "      <th>filmeId</th>\n",
       "      <th></th>\n",
       "      <th></th>\n",
       "    </tr>\n",
       "  </thead>\n",
       "  <tbody>\n",
       "    <tr>\n",
       "      <th>1</th>\n",
       "      <td>Toy Story (1995)</td>\n",
       "      <td>Adventure|Animation|Children|Comedy|Fantasy</td>\n",
       "    </tr>\n",
       "    <tr>\n",
       "      <th>2</th>\n",
       "      <td>Jumanji (1995)</td>\n",
       "      <td>Adventure|Children|Fantasy</td>\n",
       "    </tr>\n",
       "    <tr>\n",
       "      <th>3</th>\n",
       "      <td>Grumpier Old Men (1995)</td>\n",
       "      <td>Comedy|Romance</td>\n",
       "    </tr>\n",
       "    <tr>\n",
       "      <th>4</th>\n",
       "      <td>Waiting to Exhale (1995)</td>\n",
       "      <td>Comedy|Drama|Romance</td>\n",
       "    </tr>\n",
       "    <tr>\n",
       "      <th>5</th>\n",
       "      <td>Father of the Bride Part II (1995)</td>\n",
       "      <td>Comedy</td>\n",
       "    </tr>\n",
       "    <tr>\n",
       "      <th>...</th>\n",
       "      <td>...</td>\n",
       "      <td>...</td>\n",
       "    </tr>\n",
       "    <tr>\n",
       "      <th>193581</th>\n",
       "      <td>Black Butler: Book of the Atlantic (2017)</td>\n",
       "      <td>Action|Animation|Comedy|Fantasy</td>\n",
       "    </tr>\n",
       "    <tr>\n",
       "      <th>193583</th>\n",
       "      <td>No Game No Life: Zero (2017)</td>\n",
       "      <td>Animation|Comedy|Fantasy</td>\n",
       "    </tr>\n",
       "    <tr>\n",
       "      <th>193585</th>\n",
       "      <td>Flint (2017)</td>\n",
       "      <td>Drama</td>\n",
       "    </tr>\n",
       "    <tr>\n",
       "      <th>193587</th>\n",
       "      <td>Bungo Stray Dogs: Dead Apple (2018)</td>\n",
       "      <td>Action|Animation</td>\n",
       "    </tr>\n",
       "    <tr>\n",
       "      <th>193609</th>\n",
       "      <td>Andrew Dice Clay: Dice Rules (1991)</td>\n",
       "      <td>Comedy</td>\n",
       "    </tr>\n",
       "  </tbody>\n",
       "</table>\n",
       "<p>9742 rows × 2 columns</p>\n",
       "</div>"
      ],
      "text/plain": [
       "                                            titulo  \\\n",
       "filmeId                                              \n",
       "1                                 Toy Story (1995)   \n",
       "2                                   Jumanji (1995)   \n",
       "3                          Grumpier Old Men (1995)   \n",
       "4                         Waiting to Exhale (1995)   \n",
       "5               Father of the Bride Part II (1995)   \n",
       "...                                            ...   \n",
       "193581   Black Butler: Book of the Atlantic (2017)   \n",
       "193583                No Game No Life: Zero (2017)   \n",
       "193585                                Flint (2017)   \n",
       "193587         Bungo Stray Dogs: Dead Apple (2018)   \n",
       "193609         Andrew Dice Clay: Dice Rules (1991)   \n",
       "\n",
       "                                             generos  \n",
       "filmeId                                               \n",
       "1        Adventure|Animation|Children|Comedy|Fantasy  \n",
       "2                         Adventure|Children|Fantasy  \n",
       "3                                     Comedy|Romance  \n",
       "4                               Comedy|Drama|Romance  \n",
       "5                                             Comedy  \n",
       "...                                              ...  \n",
       "193581               Action|Animation|Comedy|Fantasy  \n",
       "193583                      Animation|Comedy|Fantasy  \n",
       "193585                                         Drama  \n",
       "193587                              Action|Animation  \n",
       "193609                                        Comedy  \n",
       "\n",
       "[9742 rows x 2 columns]"
      ]
     },
     "execution_count": 88,
     "metadata": {},
     "output_type": "execute_result"
    }
   ],
   "source": [
    "filmes"
   ]
  },
  {
   "cell_type": "code",
   "execution_count": 89,
   "metadata": {
    "scrolled": true
   },
   "outputs": [
    {
     "name": "stdout",
     "output_type": "stream",
     "text": [
      "Carregamos 9742 filmes\n"
     ]
    }
   ],
   "source": [
    "print(\"Carregamos %d filmes\" % len(filmes))\n",
    "if(len(filmes) != 9742):\n",
    "    print(\"ERRO! O conjunto de dados que estamos trabalhando nesse projeto possui 9742 elementos.\")"
   ]
  },
  {
   "cell_type": "markdown",
   "metadata": {},
   "source": [
    "Vamos extrair o ano dos filmes (código já pronto): "
   ]
  },
  {
   "cell_type": "code",
   "execution_count": 90,
   "metadata": {},
   "outputs": [
    {
     "data": {
      "text/html": [
       "<div>\n",
       "<style scoped>\n",
       "    .dataframe tbody tr th:only-of-type {\n",
       "        vertical-align: middle;\n",
       "    }\n",
       "\n",
       "    .dataframe tbody tr th {\n",
       "        vertical-align: top;\n",
       "    }\n",
       "\n",
       "    .dataframe thead th {\n",
       "        text-align: right;\n",
       "    }\n",
       "</style>\n",
       "<table border=\"1\" class=\"dataframe\">\n",
       "  <thead>\n",
       "    <tr style=\"text-align: right;\">\n",
       "      <th></th>\n",
       "      <th>titulo</th>\n",
       "      <th>generos</th>\n",
       "      <th>ano_de_lancamento</th>\n",
       "    </tr>\n",
       "    <tr>\n",
       "      <th>filmeId</th>\n",
       "      <th></th>\n",
       "      <th></th>\n",
       "      <th></th>\n",
       "    </tr>\n",
       "  </thead>\n",
       "  <tbody>\n",
       "    <tr>\n",
       "      <th>1</th>\n",
       "      <td>Toy Story (1995)</td>\n",
       "      <td>Adventure|Animation|Children|Comedy|Fantasy</td>\n",
       "      <td>1995.0</td>\n",
       "    </tr>\n",
       "    <tr>\n",
       "      <th>2</th>\n",
       "      <td>Jumanji (1995)</td>\n",
       "      <td>Adventure|Children|Fantasy</td>\n",
       "      <td>1995.0</td>\n",
       "    </tr>\n",
       "    <tr>\n",
       "      <th>3</th>\n",
       "      <td>Grumpier Old Men (1995)</td>\n",
       "      <td>Comedy|Romance</td>\n",
       "      <td>1995.0</td>\n",
       "    </tr>\n",
       "    <tr>\n",
       "      <th>4</th>\n",
       "      <td>Waiting to Exhale (1995)</td>\n",
       "      <td>Comedy|Drama|Romance</td>\n",
       "      <td>1995.0</td>\n",
       "    </tr>\n",
       "    <tr>\n",
       "      <th>5</th>\n",
       "      <td>Father of the Bride Part II (1995)</td>\n",
       "      <td>Comedy</td>\n",
       "      <td>1995.0</td>\n",
       "    </tr>\n",
       "  </tbody>\n",
       "</table>\n",
       "</div>"
      ],
      "text/plain": [
       "                                     titulo  \\\n",
       "filmeId                                       \n",
       "1                          Toy Story (1995)   \n",
       "2                            Jumanji (1995)   \n",
       "3                   Grumpier Old Men (1995)   \n",
       "4                  Waiting to Exhale (1995)   \n",
       "5        Father of the Bride Part II (1995)   \n",
       "\n",
       "                                             generos  ano_de_lancamento  \n",
       "filmeId                                                                  \n",
       "1        Adventure|Animation|Children|Comedy|Fantasy             1995.0  \n",
       "2                         Adventure|Children|Fantasy             1995.0  \n",
       "3                                     Comedy|Romance             1995.0  \n",
       "4                               Comedy|Drama|Romance             1995.0  \n",
       "5                                             Comedy             1995.0  "
      ]
     },
     "execution_count": 90,
     "metadata": {},
     "output_type": "execute_result"
    }
   ],
   "source": [
    "ano_de_lancamento = filmes.titulo.str.extract(\"\\((\\d{4})\\)\")\n",
    "filmes['ano_de_lancamento'] = ano_de_lancamento.astype(float)\n",
    "filmes.head()"
   ]
  },
  {
   "cell_type": "markdown",
   "metadata": {},
   "source": [
    "## Pergunta: carregando as notas\n",
    "\n",
    "- os dados `https://raw.githubusercontent.com/alura-cursos/formacao-data-science/master/ratings.csv` devem ser carregado em `notas`\n",
    "- renomeie as colunas para `usuarioId`, `filmeId`, `nota` e `momento`"
   ]
  },
  {
   "cell_type": "code",
   "execution_count": 91,
   "metadata": {},
   "outputs": [],
   "source": [
    "# solução\n",
    "notas = pd.read_csv('https://raw.githubusercontent.com/alura-cursos/formacao-data-science/master/ratings.csv')\n",
    "notas.columns = ['usuarioId','filmeId','nota','momento']"
   ]
  },
  {
   "cell_type": "code",
   "execution_count": 92,
   "metadata": {},
   "outputs": [
    {
     "data": {
      "text/html": [
       "<div>\n",
       "<style scoped>\n",
       "    .dataframe tbody tr th:only-of-type {\n",
       "        vertical-align: middle;\n",
       "    }\n",
       "\n",
       "    .dataframe tbody tr th {\n",
       "        vertical-align: top;\n",
       "    }\n",
       "\n",
       "    .dataframe thead th {\n",
       "        text-align: right;\n",
       "    }\n",
       "</style>\n",
       "<table border=\"1\" class=\"dataframe\">\n",
       "  <thead>\n",
       "    <tr style=\"text-align: right;\">\n",
       "      <th></th>\n",
       "      <th>usuarioId</th>\n",
       "      <th>filmeId</th>\n",
       "      <th>nota</th>\n",
       "      <th>momento</th>\n",
       "    </tr>\n",
       "  </thead>\n",
       "  <tbody>\n",
       "    <tr>\n",
       "      <th>0</th>\n",
       "      <td>1</td>\n",
       "      <td>1</td>\n",
       "      <td>4.0</td>\n",
       "      <td>964982703</td>\n",
       "    </tr>\n",
       "    <tr>\n",
       "      <th>1</th>\n",
       "      <td>1</td>\n",
       "      <td>3</td>\n",
       "      <td>4.0</td>\n",
       "      <td>964981247</td>\n",
       "    </tr>\n",
       "    <tr>\n",
       "      <th>2</th>\n",
       "      <td>1</td>\n",
       "      <td>6</td>\n",
       "      <td>4.0</td>\n",
       "      <td>964982224</td>\n",
       "    </tr>\n",
       "    <tr>\n",
       "      <th>3</th>\n",
       "      <td>1</td>\n",
       "      <td>47</td>\n",
       "      <td>5.0</td>\n",
       "      <td>964983815</td>\n",
       "    </tr>\n",
       "    <tr>\n",
       "      <th>4</th>\n",
       "      <td>1</td>\n",
       "      <td>50</td>\n",
       "      <td>5.0</td>\n",
       "      <td>964982931</td>\n",
       "    </tr>\n",
       "  </tbody>\n",
       "</table>\n",
       "</div>"
      ],
      "text/plain": [
       "   usuarioId  filmeId  nota    momento\n",
       "0          1        1   4.0  964982703\n",
       "1          1        3   4.0  964981247\n",
       "2          1        6   4.0  964982224\n",
       "3          1       47   5.0  964983815\n",
       "4          1       50   5.0  964982931"
      ]
     },
     "execution_count": 92,
     "metadata": {},
     "output_type": "execute_result"
    }
   ],
   "source": [
    "notas.head()"
   ]
  },
  {
   "cell_type": "markdown",
   "metadata": {},
   "source": [
    "## Pergunta: gere uma nova feature, a média dos votos por filme\n",
    "\n",
    "- crie uma nova coluna chamada `nota_media` dentro do dataframe `filmes`\n",
    "\n",
    "Dicas:\n",
    "- como filmeId já é o indice de seu dataframe filmes, se você possui uma série com o número de votos por filme, basta atribuir uma nova coluna normalmente que será usado o mesmo índice"
   ]
  },
  {
   "cell_type": "code",
   "execution_count": 93,
   "metadata": {},
   "outputs": [],
   "source": [
    "# solução\n",
    "filme_por_nota = notas.groupby('filmeId').nota\n",
    "media_do_filme = filme_por_nota.mean()\n",
    "filmes['nota_media'] = media_do_filme"
   ]
  },
  {
   "cell_type": "code",
   "execution_count": 94,
   "metadata": {},
   "outputs": [
    {
     "data": {
      "text/html": [
       "<div>\n",
       "<style scoped>\n",
       "    .dataframe tbody tr th:only-of-type {\n",
       "        vertical-align: middle;\n",
       "    }\n",
       "\n",
       "    .dataframe tbody tr th {\n",
       "        vertical-align: top;\n",
       "    }\n",
       "\n",
       "    .dataframe thead th {\n",
       "        text-align: right;\n",
       "    }\n",
       "</style>\n",
       "<table border=\"1\" class=\"dataframe\">\n",
       "  <thead>\n",
       "    <tr style=\"text-align: right;\">\n",
       "      <th></th>\n",
       "      <th>titulo</th>\n",
       "      <th>generos</th>\n",
       "      <th>ano_de_lancamento</th>\n",
       "      <th>nota_media</th>\n",
       "    </tr>\n",
       "    <tr>\n",
       "      <th>filmeId</th>\n",
       "      <th></th>\n",
       "      <th></th>\n",
       "      <th></th>\n",
       "      <th></th>\n",
       "    </tr>\n",
       "  </thead>\n",
       "  <tbody>\n",
       "    <tr>\n",
       "      <th>1</th>\n",
       "      <td>Toy Story (1995)</td>\n",
       "      <td>Adventure|Animation|Children|Comedy|Fantasy</td>\n",
       "      <td>1995.0</td>\n",
       "      <td>3.920930</td>\n",
       "    </tr>\n",
       "    <tr>\n",
       "      <th>2</th>\n",
       "      <td>Jumanji (1995)</td>\n",
       "      <td>Adventure|Children|Fantasy</td>\n",
       "      <td>1995.0</td>\n",
       "      <td>3.431818</td>\n",
       "    </tr>\n",
       "    <tr>\n",
       "      <th>3</th>\n",
       "      <td>Grumpier Old Men (1995)</td>\n",
       "      <td>Comedy|Romance</td>\n",
       "      <td>1995.0</td>\n",
       "      <td>3.259615</td>\n",
       "    </tr>\n",
       "    <tr>\n",
       "      <th>4</th>\n",
       "      <td>Waiting to Exhale (1995)</td>\n",
       "      <td>Comedy|Drama|Romance</td>\n",
       "      <td>1995.0</td>\n",
       "      <td>2.357143</td>\n",
       "    </tr>\n",
       "    <tr>\n",
       "      <th>5</th>\n",
       "      <td>Father of the Bride Part II (1995)</td>\n",
       "      <td>Comedy</td>\n",
       "      <td>1995.0</td>\n",
       "      <td>3.071429</td>\n",
       "    </tr>\n",
       "  </tbody>\n",
       "</table>\n",
       "</div>"
      ],
      "text/plain": [
       "                                     titulo  \\\n",
       "filmeId                                       \n",
       "1                          Toy Story (1995)   \n",
       "2                            Jumanji (1995)   \n",
       "3                   Grumpier Old Men (1995)   \n",
       "4                  Waiting to Exhale (1995)   \n",
       "5        Father of the Bride Part II (1995)   \n",
       "\n",
       "                                             generos  ano_de_lancamento  \\\n",
       "filmeId                                                                   \n",
       "1        Adventure|Animation|Children|Comedy|Fantasy             1995.0   \n",
       "2                         Adventure|Children|Fantasy             1995.0   \n",
       "3                                     Comedy|Romance             1995.0   \n",
       "4                               Comedy|Drama|Romance             1995.0   \n",
       "5                                             Comedy             1995.0   \n",
       "\n",
       "         nota_media  \n",
       "filmeId              \n",
       "1          3.920930  \n",
       "2          3.431818  \n",
       "3          3.259615  \n",
       "4          2.357143  \n",
       "5          3.071429  "
      ]
     },
     "execution_count": 94,
     "metadata": {},
     "output_type": "execute_result"
    }
   ],
   "source": [
    "filmes.head()"
   ]
  },
  {
   "cell_type": "markdown",
   "metadata": {},
   "source": [
    "## Pergunta: remova os filmes com menos de 50 avaliações\n",
    "\n",
    "- conte o número de notas por filme\n",
    "- adicione uma coluna nova chamada `total_de_votos` a `filmes` que representa o número de avaliações que aquele filme teve no conjunto de dados\n",
    "- remova os que tem 49 ou menos de `filmes`"
   ]
  },
  {
   "cell_type": "markdown",
   "metadata": {},
   "source": [
    "## Solução"
   ]
  },
  {
   "cell_type": "code",
   "execution_count": 95,
   "metadata": {},
   "outputs": [],
   "source": [
    "# solução para calcular o total de votos por filme\n",
    "total_de_votos = notas['filmeId'].value_counts()\n",
    "filmes['total_de_votos'] = total_de_votos"
   ]
  },
  {
   "cell_type": "code",
   "execution_count": 96,
   "metadata": {},
   "outputs": [
    {
     "data": {
      "text/html": [
       "<div>\n",
       "<style scoped>\n",
       "    .dataframe tbody tr th:only-of-type {\n",
       "        vertical-align: middle;\n",
       "    }\n",
       "\n",
       "    .dataframe tbody tr th {\n",
       "        vertical-align: top;\n",
       "    }\n",
       "\n",
       "    .dataframe thead th {\n",
       "        text-align: right;\n",
       "    }\n",
       "</style>\n",
       "<table border=\"1\" class=\"dataframe\">\n",
       "  <thead>\n",
       "    <tr style=\"text-align: right;\">\n",
       "      <th></th>\n",
       "      <th>titulo</th>\n",
       "      <th>generos</th>\n",
       "      <th>ano_de_lancamento</th>\n",
       "      <th>nota_media</th>\n",
       "      <th>total_de_votos</th>\n",
       "    </tr>\n",
       "    <tr>\n",
       "      <th>filmeId</th>\n",
       "      <th></th>\n",
       "      <th></th>\n",
       "      <th></th>\n",
       "      <th></th>\n",
       "      <th></th>\n",
       "    </tr>\n",
       "  </thead>\n",
       "  <tbody>\n",
       "    <tr>\n",
       "      <th>1</th>\n",
       "      <td>Toy Story (1995)</td>\n",
       "      <td>Adventure|Animation|Children|Comedy|Fantasy</td>\n",
       "      <td>1995.0</td>\n",
       "      <td>3.920930</td>\n",
       "      <td>215.0</td>\n",
       "    </tr>\n",
       "    <tr>\n",
       "      <th>2</th>\n",
       "      <td>Jumanji (1995)</td>\n",
       "      <td>Adventure|Children|Fantasy</td>\n",
       "      <td>1995.0</td>\n",
       "      <td>3.431818</td>\n",
       "      <td>110.0</td>\n",
       "    </tr>\n",
       "    <tr>\n",
       "      <th>3</th>\n",
       "      <td>Grumpier Old Men (1995)</td>\n",
       "      <td>Comedy|Romance</td>\n",
       "      <td>1995.0</td>\n",
       "      <td>3.259615</td>\n",
       "      <td>52.0</td>\n",
       "    </tr>\n",
       "    <tr>\n",
       "      <th>6</th>\n",
       "      <td>Heat (1995)</td>\n",
       "      <td>Action|Crime|Thriller</td>\n",
       "      <td>1995.0</td>\n",
       "      <td>3.946078</td>\n",
       "      <td>102.0</td>\n",
       "    </tr>\n",
       "    <tr>\n",
       "      <th>7</th>\n",
       "      <td>Sabrina (1995)</td>\n",
       "      <td>Comedy|Romance</td>\n",
       "      <td>1995.0</td>\n",
       "      <td>3.185185</td>\n",
       "      <td>54.0</td>\n",
       "    </tr>\n",
       "    <tr>\n",
       "      <th>...</th>\n",
       "      <td>...</td>\n",
       "      <td>...</td>\n",
       "      <td>...</td>\n",
       "      <td>...</td>\n",
       "      <td>...</td>\n",
       "    </tr>\n",
       "    <tr>\n",
       "      <th>109374</th>\n",
       "      <td>Grand Budapest Hotel, The (2014)</td>\n",
       "      <td>Comedy|Drama</td>\n",
       "      <td>2014.0</td>\n",
       "      <td>3.778846</td>\n",
       "      <td>52.0</td>\n",
       "    </tr>\n",
       "    <tr>\n",
       "      <th>109487</th>\n",
       "      <td>Interstellar (2014)</td>\n",
       "      <td>Sci-Fi|IMAX</td>\n",
       "      <td>2014.0</td>\n",
       "      <td>3.993151</td>\n",
       "      <td>73.0</td>\n",
       "    </tr>\n",
       "    <tr>\n",
       "      <th>112852</th>\n",
       "      <td>Guardians of the Galaxy (2014)</td>\n",
       "      <td>Action|Adventure|Sci-Fi</td>\n",
       "      <td>2014.0</td>\n",
       "      <td>4.050847</td>\n",
       "      <td>59.0</td>\n",
       "    </tr>\n",
       "    <tr>\n",
       "      <th>116797</th>\n",
       "      <td>The Imitation Game (2014)</td>\n",
       "      <td>Drama|Thriller|War</td>\n",
       "      <td>2014.0</td>\n",
       "      <td>4.020000</td>\n",
       "      <td>50.0</td>\n",
       "    </tr>\n",
       "    <tr>\n",
       "      <th>122904</th>\n",
       "      <td>Deadpool (2016)</td>\n",
       "      <td>Action|Adventure|Comedy|Sci-Fi</td>\n",
       "      <td>2016.0</td>\n",
       "      <td>3.833333</td>\n",
       "      <td>54.0</td>\n",
       "    </tr>\n",
       "  </tbody>\n",
       "</table>\n",
       "<p>450 rows × 5 columns</p>\n",
       "</div>"
      ],
      "text/plain": [
       "                                   titulo  \\\n",
       "filmeId                                     \n",
       "1                        Toy Story (1995)   \n",
       "2                          Jumanji (1995)   \n",
       "3                 Grumpier Old Men (1995)   \n",
       "6                             Heat (1995)   \n",
       "7                          Sabrina (1995)   \n",
       "...                                   ...   \n",
       "109374   Grand Budapest Hotel, The (2014)   \n",
       "109487                Interstellar (2014)   \n",
       "112852     Guardians of the Galaxy (2014)   \n",
       "116797          The Imitation Game (2014)   \n",
       "122904                    Deadpool (2016)   \n",
       "\n",
       "                                             generos  ano_de_lancamento  \\\n",
       "filmeId                                                                   \n",
       "1        Adventure|Animation|Children|Comedy|Fantasy             1995.0   \n",
       "2                         Adventure|Children|Fantasy             1995.0   \n",
       "3                                     Comedy|Romance             1995.0   \n",
       "6                              Action|Crime|Thriller             1995.0   \n",
       "7                                     Comedy|Romance             1995.0   \n",
       "...                                              ...                ...   \n",
       "109374                                  Comedy|Drama             2014.0   \n",
       "109487                                   Sci-Fi|IMAX             2014.0   \n",
       "112852                       Action|Adventure|Sci-Fi             2014.0   \n",
       "116797                            Drama|Thriller|War             2014.0   \n",
       "122904                Action|Adventure|Comedy|Sci-Fi             2016.0   \n",
       "\n",
       "         nota_media  total_de_votos  \n",
       "filmeId                              \n",
       "1          3.920930           215.0  \n",
       "2          3.431818           110.0  \n",
       "3          3.259615            52.0  \n",
       "6          3.946078           102.0  \n",
       "7          3.185185            54.0  \n",
       "...             ...             ...  \n",
       "109374     3.778846            52.0  \n",
       "109487     3.993151            73.0  \n",
       "112852     4.050847            59.0  \n",
       "116797     4.020000            50.0  \n",
       "122904     3.833333            54.0  \n",
       "\n",
       "[450 rows x 5 columns]"
      ]
     },
     "execution_count": 96,
     "metadata": {},
     "output_type": "execute_result"
    }
   ],
   "source": [
    "# solução para criar a nova coluna e filtrar os filmes\n",
    "index_filmes_menos_50 = filmes.query('total_de_votos < 50').index\n",
    "index_filmes_menos_50\n",
    "filmes.drop(index = index_filmes_menos_50,inplace=True)\n",
    "filmes.dropna(inplace=True)\n",
    "filmes"
   ]
  },
  {
   "cell_type": "code",
   "execution_count": 97,
   "metadata": {},
   "outputs": [
    {
     "data": {
      "text/html": [
       "<div>\n",
       "<style scoped>\n",
       "    .dataframe tbody tr th:only-of-type {\n",
       "        vertical-align: middle;\n",
       "    }\n",
       "\n",
       "    .dataframe tbody tr th {\n",
       "        vertical-align: top;\n",
       "    }\n",
       "\n",
       "    .dataframe thead th {\n",
       "        text-align: right;\n",
       "    }\n",
       "</style>\n",
       "<table border=\"1\" class=\"dataframe\">\n",
       "  <thead>\n",
       "    <tr style=\"text-align: right;\">\n",
       "      <th></th>\n",
       "      <th>titulo</th>\n",
       "      <th>generos</th>\n",
       "      <th>ano_de_lancamento</th>\n",
       "      <th>nota_media</th>\n",
       "      <th>total_de_votos</th>\n",
       "    </tr>\n",
       "    <tr>\n",
       "      <th>filmeId</th>\n",
       "      <th></th>\n",
       "      <th></th>\n",
       "      <th></th>\n",
       "      <th></th>\n",
       "      <th></th>\n",
       "    </tr>\n",
       "  </thead>\n",
       "  <tbody>\n",
       "    <tr>\n",
       "      <th>1</th>\n",
       "      <td>Toy Story (1995)</td>\n",
       "      <td>Adventure|Animation|Children|Comedy|Fantasy</td>\n",
       "      <td>1995.0</td>\n",
       "      <td>3.920930</td>\n",
       "      <td>215.0</td>\n",
       "    </tr>\n",
       "    <tr>\n",
       "      <th>2</th>\n",
       "      <td>Jumanji (1995)</td>\n",
       "      <td>Adventure|Children|Fantasy</td>\n",
       "      <td>1995.0</td>\n",
       "      <td>3.431818</td>\n",
       "      <td>110.0</td>\n",
       "    </tr>\n",
       "    <tr>\n",
       "      <th>3</th>\n",
       "      <td>Grumpier Old Men (1995)</td>\n",
       "      <td>Comedy|Romance</td>\n",
       "      <td>1995.0</td>\n",
       "      <td>3.259615</td>\n",
       "      <td>52.0</td>\n",
       "    </tr>\n",
       "    <tr>\n",
       "      <th>6</th>\n",
       "      <td>Heat (1995)</td>\n",
       "      <td>Action|Crime|Thriller</td>\n",
       "      <td>1995.0</td>\n",
       "      <td>3.946078</td>\n",
       "      <td>102.0</td>\n",
       "    </tr>\n",
       "    <tr>\n",
       "      <th>7</th>\n",
       "      <td>Sabrina (1995)</td>\n",
       "      <td>Comedy|Romance</td>\n",
       "      <td>1995.0</td>\n",
       "      <td>3.185185</td>\n",
       "      <td>54.0</td>\n",
       "    </tr>\n",
       "  </tbody>\n",
       "</table>\n",
       "</div>"
      ],
      "text/plain": [
       "                          titulo                                      generos  \\\n",
       "filmeId                                                                         \n",
       "1               Toy Story (1995)  Adventure|Animation|Children|Comedy|Fantasy   \n",
       "2                 Jumanji (1995)                   Adventure|Children|Fantasy   \n",
       "3        Grumpier Old Men (1995)                               Comedy|Romance   \n",
       "6                    Heat (1995)                        Action|Crime|Thriller   \n",
       "7                 Sabrina (1995)                               Comedy|Romance   \n",
       "\n",
       "         ano_de_lancamento  nota_media  total_de_votos  \n",
       "filmeId                                                 \n",
       "1                   1995.0    3.920930           215.0  \n",
       "2                   1995.0    3.431818           110.0  \n",
       "3                   1995.0    3.259615            52.0  \n",
       "6                   1995.0    3.946078           102.0  \n",
       "7                   1995.0    3.185185            54.0  "
      ]
     },
     "execution_count": 97,
     "metadata": {},
     "output_type": "execute_result"
    }
   ],
   "source": [
    "filmes.head()"
   ]
  },
  {
   "cell_type": "markdown",
   "metadata": {},
   "source": [
    "# Visualizando os dados gerais"
   ]
  },
  {
   "cell_type": "markdown",
   "metadata": {},
   "source": [
    "## Pergunta: Visualize as notas médias\n",
    "\n",
    "- histograma\n",
    "- cummulative distribution function\n",
    "\n",
    "Dicas:\n",
    "\n",
    "- lembre-se de colocar um título nas imagens além de nomes nos eixos x e y\n",
    "- para gerar a versão cumulativa lembre-se de usar os parâmetros `hist_kws` e `kde_kws` para definir `'cumulative'=True`"
   ]
  },
  {
   "cell_type": "code",
   "execution_count": 98,
   "metadata": {},
   "outputs": [
    {
     "data": {
      "text/plain": [
       "<matplotlib.axes._subplots.AxesSubplot at 0x128c7670>"
      ]
     },
     "execution_count": 98,
     "metadata": {},
     "output_type": "execute_result"
    },
    {
     "data": {
      "image/png": "[encoded data removed]",
      "text/plain": [
       "<Figure size 432x288 with 1 Axes>"
      ]
     },
     "metadata": {
      "needs_background": "light"
     },
     "output_type": "display_data"
    }
   ],
   "source": [
    "medias = filmes['nota_media'].round(2).value_counts().index.transpose()\n",
    "freq_medias = filmes['nota_media'].round(2).value_counts().values.transpose()\n",
    "colunas = {'Medias':medias,'Frequência':freq_medias}\n",
    "medias_das_notas = pd.DataFrame(data=colunas)\n",
    "medias_das_notas.set_index('Medias')    \n",
    "sns.barplot(x=\"Frequência\",y=\"Medias\",data=medias_das_notas,color='y')\n"
   ]
  },
  {
   "cell_type": "code",
   "execution_count": 99,
   "metadata": {},
   "outputs": [
    {
     "data": {
      "image/png": "[encoded data removed]",
      "text/plain": [
       "<Figure size 576x360 with 1 Axes>"
      ]
     },
     "metadata": {
      "needs_background": "light"
     },
     "output_type": "display_data"
    }
   ],
   "source": [
    "# solução histograma\n",
    "plt.figure(figsize=(8,5))\n",
    "ax = sns.distplot(filmes['nota_media'],color='blue')\n",
    "ax.set(xlabel = 'nota média', ylabel='Percetagens de filmes',title=\"Histograma - Média das notas dos filmes\")\n",
    "ax.grid()"
   ]
  },
  {
   "cell_type": "code",
   "execution_count": 100,
   "metadata": {},
   "outputs": [
    {
     "data": {
      "image/png": "[encoded data removed]",
      "text/plain": [
       "<Figure size 432x288 with 1 Axes>"
      ]
     },
     "metadata": {
      "needs_background": "light"
     },
     "output_type": "display_data"
    }
   ],
   "source": [
    "# solução cumulativa\n",
    "kwargs = {'cumulative':True}\n",
    "ax = sns.distplot(filmes['nota_media'],hist_kws=kwargs)\n",
    "ax = sns.kdeplot(filmes['nota_media'],cumulative=True)\n",
    "ax.set(xlabel = 'Nota média', ylabel='Percetagens de filmes(%)',title=\"Gráfico cumulativo - Média das notas dos filmes\")\n",
    "ax.grid()"
   ]
  },
  {
   "cell_type": "markdown",
   "metadata": {},
   "source": [
    "## Pergunta: Visualize o total de votos\n",
    "\n",
    "- histograma\n",
    "- cummulative distribution function"
   ]
  },
  {
   "cell_type": "code",
   "execution_count": 101,
   "metadata": {},
   "outputs": [
    {
     "data": {
      "image/png": "[encoded data removed]",
      "text/plain": [
       "<Figure size 432x288 with 1 Axes>"
      ]
     },
     "metadata": {
      "needs_background": "light"
     },
     "output_type": "display_data"
    }
   ],
   "source": [
    "# solução histograma\n",
    "ax = sns.distplot(filmes['total_de_votos'],color='blue')\n",
    "ax.set(xlabel = 'Nota média', ylabel='% do total de votos',title=\"Histograma - Total de votos dos filmes\")\n",
    "ax.grid()"
   ]
  },
  {
   "cell_type": "code",
   "execution_count": 102,
   "metadata": {},
   "outputs": [
    {
     "data": {
      "image/png": "[encoded data removed]",
      "text/plain": [
       "<Figure size 432x288 with 1 Axes>"
      ]
     },
     "metadata": {
      "needs_background": "light"
     },
     "output_type": "display_data"
    }
   ],
   "source": [
    "# solução cumulativa\n",
    "kwargs = {'cumulative':True}\n",
    "ax = sns.distplot(filmes['total_de_votos'],hist_kws=kwargs)\n",
    "ax = sns.kdeplot(filmes['total_de_votos'],cumulative=True)\n",
    "ax.set(xlabel = 'Total de votos', ylabel='% de filmes',title=\"Gráfico cumulativo - Total de votos dos filmes\")\n",
    "ax.grid()"
   ]
  },
  {
   "cell_type": "markdown",
   "metadata": {},
   "source": [
    "## Pergunta: 20% dos filmes do dataframe tem nota maior que? \n",
    "\n",
    "- lembre-se da função `quantile` do pandas"
   ]
  },
  {
   "cell_type": "code",
   "execution_count": 103,
   "metadata": {},
   "outputs": [
    {
     "data": {
      "text/plain": [
       "3.3742857142857146"
      ]
     },
     "execution_count": 103,
     "metadata": {},
     "output_type": "execute_result"
    }
   ],
   "source": [
    "# solução\n",
    "nota_limite_dos_20_porcento = filmes['nota_media'].quantile(0.2)\n",
    "nota_limite_dos_20_porcento"
   ]
  },
  {
   "cell_type": "code",
   "execution_count": 104,
   "metadata": {},
   "outputs": [
    {
     "name": "stdout",
     "output_type": "stream",
     "text": [
      "20 porcento dos filmes tem nota maior que de 3.37\n"
     ]
    }
   ],
   "source": [
    "print(\"20 porcento dos filmes tem nota maior que de %.2f\" % nota_limite_dos_20_porcento)"
   ]
  },
  {
   "cell_type": "markdown",
   "metadata": {},
   "source": [
    "## Vamos separar a coluna `generos` em diversas colunas.\n",
    "\n",
    "- O código já está pronto."
   ]
  },
  {
   "cell_type": "code",
   "execution_count": 105,
   "metadata": {},
   "outputs": [
    {
     "name": "stdout",
     "output_type": "stream",
     "text": [
      "Temos 19 generos distintos\n"
     ]
    }
   ],
   "source": [
    "filmes['generos'] = filmes['generos'].str.replace('-', '')\n",
    "generos = filmes['generos'].str.get_dummies()\n",
    "print(\"Temos %d generos distintos\" % generos.shape[1])"
   ]
  },
  {
   "cell_type": "code",
   "execution_count": 106,
   "metadata": {},
   "outputs": [
    {
     "data": {
      "text/html": [
       "<div>\n",
       "<style scoped>\n",
       "    .dataframe tbody tr th:only-of-type {\n",
       "        vertical-align: middle;\n",
       "    }\n",
       "\n",
       "    .dataframe tbody tr th {\n",
       "        vertical-align: top;\n",
       "    }\n",
       "\n",
       "    .dataframe thead th {\n",
       "        text-align: right;\n",
       "    }\n",
       "</style>\n",
       "<table border=\"1\" class=\"dataframe\">\n",
       "  <thead>\n",
       "    <tr style=\"text-align: right;\">\n",
       "      <th></th>\n",
       "      <th>titulo</th>\n",
       "      <th>ano_de_lancamento</th>\n",
       "      <th>nota_media</th>\n",
       "      <th>total_de_votos</th>\n",
       "      <th>Action</th>\n",
       "      <th>Adventure</th>\n",
       "      <th>Animation</th>\n",
       "      <th>Children</th>\n",
       "      <th>Comedy</th>\n",
       "      <th>Crime</th>\n",
       "      <th>...</th>\n",
       "      <th>FilmNoir</th>\n",
       "      <th>Horror</th>\n",
       "      <th>IMAX</th>\n",
       "      <th>Musical</th>\n",
       "      <th>Mystery</th>\n",
       "      <th>Romance</th>\n",
       "      <th>SciFi</th>\n",
       "      <th>Thriller</th>\n",
       "      <th>War</th>\n",
       "      <th>Western</th>\n",
       "    </tr>\n",
       "    <tr>\n",
       "      <th>filmeId</th>\n",
       "      <th></th>\n",
       "      <th></th>\n",
       "      <th></th>\n",
       "      <th></th>\n",
       "      <th></th>\n",
       "      <th></th>\n",
       "      <th></th>\n",
       "      <th></th>\n",
       "      <th></th>\n",
       "      <th></th>\n",
       "      <th></th>\n",
       "      <th></th>\n",
       "      <th></th>\n",
       "      <th></th>\n",
       "      <th></th>\n",
       "      <th></th>\n",
       "      <th></th>\n",
       "      <th></th>\n",
       "      <th></th>\n",
       "      <th></th>\n",
       "      <th></th>\n",
       "    </tr>\n",
       "  </thead>\n",
       "  <tbody>\n",
       "    <tr>\n",
       "      <th>1</th>\n",
       "      <td>Toy Story (1995)</td>\n",
       "      <td>1995.0</td>\n",
       "      <td>3.920930</td>\n",
       "      <td>215.0</td>\n",
       "      <td>0</td>\n",
       "      <td>1</td>\n",
       "      <td>1</td>\n",
       "      <td>1</td>\n",
       "      <td>1</td>\n",
       "      <td>0</td>\n",
       "      <td>...</td>\n",
       "      <td>0</td>\n",
       "      <td>0</td>\n",
       "      <td>0</td>\n",
       "      <td>0</td>\n",
       "      <td>0</td>\n",
       "      <td>0</td>\n",
       "      <td>0</td>\n",
       "      <td>0</td>\n",
       "      <td>0</td>\n",
       "      <td>0</td>\n",
       "    </tr>\n",
       "    <tr>\n",
       "      <th>2</th>\n",
       "      <td>Jumanji (1995)</td>\n",
       "      <td>1995.0</td>\n",
       "      <td>3.431818</td>\n",
       "      <td>110.0</td>\n",
       "      <td>0</td>\n",
       "      <td>1</td>\n",
       "      <td>0</td>\n",
       "      <td>1</td>\n",
       "      <td>0</td>\n",
       "      <td>0</td>\n",
       "      <td>...</td>\n",
       "      <td>0</td>\n",
       "      <td>0</td>\n",
       "      <td>0</td>\n",
       "      <td>0</td>\n",
       "      <td>0</td>\n",
       "      <td>0</td>\n",
       "      <td>0</td>\n",
       "      <td>0</td>\n",
       "      <td>0</td>\n",
       "      <td>0</td>\n",
       "    </tr>\n",
       "    <tr>\n",
       "      <th>3</th>\n",
       "      <td>Grumpier Old Men (1995)</td>\n",
       "      <td>1995.0</td>\n",
       "      <td>3.259615</td>\n",
       "      <td>52.0</td>\n",
       "      <td>0</td>\n",
       "      <td>0</td>\n",
       "      <td>0</td>\n",
       "      <td>0</td>\n",
       "      <td>1</td>\n",
       "      <td>0</td>\n",
       "      <td>...</td>\n",
       "      <td>0</td>\n",
       "      <td>0</td>\n",
       "      <td>0</td>\n",
       "      <td>0</td>\n",
       "      <td>0</td>\n",
       "      <td>1</td>\n",
       "      <td>0</td>\n",
       "      <td>0</td>\n",
       "      <td>0</td>\n",
       "      <td>0</td>\n",
       "    </tr>\n",
       "    <tr>\n",
       "      <th>6</th>\n",
       "      <td>Heat (1995)</td>\n",
       "      <td>1995.0</td>\n",
       "      <td>3.946078</td>\n",
       "      <td>102.0</td>\n",
       "      <td>1</td>\n",
       "      <td>0</td>\n",
       "      <td>0</td>\n",
       "      <td>0</td>\n",
       "      <td>0</td>\n",
       "      <td>1</td>\n",
       "      <td>...</td>\n",
       "      <td>0</td>\n",
       "      <td>0</td>\n",
       "      <td>0</td>\n",
       "      <td>0</td>\n",
       "      <td>0</td>\n",
       "      <td>0</td>\n",
       "      <td>0</td>\n",
       "      <td>1</td>\n",
       "      <td>0</td>\n",
       "      <td>0</td>\n",
       "    </tr>\n",
       "    <tr>\n",
       "      <th>7</th>\n",
       "      <td>Sabrina (1995)</td>\n",
       "      <td>1995.0</td>\n",
       "      <td>3.185185</td>\n",
       "      <td>54.0</td>\n",
       "      <td>0</td>\n",
       "      <td>0</td>\n",
       "      <td>0</td>\n",
       "      <td>0</td>\n",
       "      <td>1</td>\n",
       "      <td>0</td>\n",
       "      <td>...</td>\n",
       "      <td>0</td>\n",
       "      <td>0</td>\n",
       "      <td>0</td>\n",
       "      <td>0</td>\n",
       "      <td>0</td>\n",
       "      <td>1</td>\n",
       "      <td>0</td>\n",
       "      <td>0</td>\n",
       "      <td>0</td>\n",
       "      <td>0</td>\n",
       "    </tr>\n",
       "  </tbody>\n",
       "</table>\n",
       "<p>5 rows × 23 columns</p>\n",
       "</div>"
      ],
      "text/plain": [
       "                          titulo  ano_de_lancamento  nota_media  \\\n",
       "filmeId                                                           \n",
       "1               Toy Story (1995)             1995.0    3.920930   \n",
       "2                 Jumanji (1995)             1995.0    3.431818   \n",
       "3        Grumpier Old Men (1995)             1995.0    3.259615   \n",
       "6                    Heat (1995)             1995.0    3.946078   \n",
       "7                 Sabrina (1995)             1995.0    3.185185   \n",
       "\n",
       "         total_de_votos  Action  Adventure  Animation  Children  Comedy  \\\n",
       "filmeId                                                                   \n",
       "1                 215.0       0          1          1         1       1   \n",
       "2                 110.0       0          1          0         1       0   \n",
       "3                  52.0       0          0          0         0       1   \n",
       "6                 102.0       1          0          0         0       0   \n",
       "7                  54.0       0          0          0         0       1   \n",
       "\n",
       "         Crime  ...  FilmNoir  Horror  IMAX  Musical  Mystery  Romance  SciFi  \\\n",
       "filmeId         ...                                                             \n",
       "1            0  ...         0       0     0        0        0        0      0   \n",
       "2            0  ...         0       0     0        0        0        0      0   \n",
       "3            0  ...         0       0     0        0        0        1      0   \n",
       "6            1  ...         0       0     0        0        0        0      0   \n",
       "7            0  ...         0       0     0        0        0        1      0   \n",
       "\n",
       "         Thriller  War  Western  \n",
       "filmeId                          \n",
       "1               0    0        0  \n",
       "2               0    0        0  \n",
       "3               0    0        0  \n",
       "6               1    0        0  \n",
       "7               0    0        0  \n",
       "\n",
       "[5 rows x 23 columns]"
      ]
     },
     "execution_count": 106,
     "metadata": {},
     "output_type": "execute_result"
    }
   ],
   "source": [
    "filmes = filmes.join(generos).drop(columns=['generos'], axis=1)\n",
    "filmes.head()"
   ]
  },
  {
   "cell_type": "markdown",
   "metadata": {},
   "source": [
    "## Pergunta: visualização de quantos filmes existem por genero\n",
    "\n",
    "- Para cada um dos generos você deve agrupar o número de filmes\n",
    "- Ordene as barras, na esquerda o genero com mais filmes, na direita o que tem menos filmes\n",
    "\n",
    "Dica:\n",
    "\n",
    "- Para fazer a soma de uma ou mais colunas individualmente você pode usar `seu_dataframe.sum()`\n",
    "- Não precisa usar o dataframe `filmes`, somente o dataframe `generos`\n",
    "- Em certas situações é mais fácil usar as funções de plotagem do pandas ao invés do seaborn"
   ]
  },
  {
   "cell_type": "code",
   "execution_count": 107,
   "metadata": {},
   "outputs": [
    {
     "data": {
      "text/plain": [
       "Index(['titulo', 'ano_de_lancamento', 'nota_media', 'total_de_votos', 'Action',\n",
       "       'Adventure', 'Animation', 'Children', 'Comedy', 'Crime', 'Documentary',\n",
       "       'Drama', 'Fantasy', 'FilmNoir', 'Horror', 'IMAX', 'Musical', 'Mystery',\n",
       "       'Romance', 'SciFi', 'Thriller', 'War', 'Western'],\n",
       "      dtype='object')"
      ]
     },
     "execution_count": 107,
     "metadata": {},
     "output_type": "execute_result"
    }
   ],
   "source": [
    "filmes.columns"
   ]
  },
  {
   "cell_type": "code",
   "execution_count": 108,
   "metadata": {},
   "outputs": [
    {
     "data": {
      "text/html": [
       "<div>\n",
       "<style scoped>\n",
       "    .dataframe tbody tr th:only-of-type {\n",
       "        vertical-align: middle;\n",
       "    }\n",
       "\n",
       "    .dataframe tbody tr th {\n",
       "        vertical-align: top;\n",
       "    }\n",
       "\n",
       "    .dataframe thead th {\n",
       "        text-align: right;\n",
       "    }\n",
       "</style>\n",
       "<table border=\"1\" class=\"dataframe\">\n",
       "  <thead>\n",
       "    <tr style=\"text-align: right;\">\n",
       "      <th></th>\n",
       "      <th>Genero</th>\n",
       "      <th>Frequencia</th>\n",
       "    </tr>\n",
       "  </thead>\n",
       "  <tbody>\n",
       "    <tr>\n",
       "      <th>0</th>\n",
       "      <td>Comedy</td>\n",
       "      <td>181</td>\n",
       "    </tr>\n",
       "    <tr>\n",
       "      <th>1</th>\n",
       "      <td>Drama</td>\n",
       "      <td>166</td>\n",
       "    </tr>\n",
       "    <tr>\n",
       "      <th>2</th>\n",
       "      <td>Action</td>\n",
       "      <td>164</td>\n",
       "    </tr>\n",
       "    <tr>\n",
       "      <th>3</th>\n",
       "      <td>Adventure</td>\n",
       "      <td>132</td>\n",
       "    </tr>\n",
       "    <tr>\n",
       "      <th>4</th>\n",
       "      <td>Thriller</td>\n",
       "      <td>121</td>\n",
       "    </tr>\n",
       "  </tbody>\n",
       "</table>\n",
       "</div>"
      ],
      "text/plain": [
       "      Genero  Frequencia\n",
       "0     Comedy         181\n",
       "1      Drama         166\n",
       "2     Action         164\n",
       "3  Adventure         132\n",
       "4   Thriller         121"
      ]
     },
     "execution_count": 108,
     "metadata": {},
     "output_type": "execute_result"
    }
   ],
   "source": [
    "# solução\n",
    "genero = ['Action','Adventure', 'Animation', 'Children',\n",
    "           'Comedy', 'Crime', 'Documentary', 'Drama',\n",
    "           'Fantasy', 'FilmNoir', 'Horror', 'IMAX',\n",
    "           'Musical', 'Mystery','Romance', 'SciFi',\n",
    "           'Thriller', 'War', 'Western']\n",
    "quantidade_de_filmes_por_genero = []\n",
    "for i in genero:\n",
    "    quantidade_de_filmes_por_genero.append(filmes[i].sum())\n",
    "df_freq_filmes = pd.DataFrame({'Genero':genero,\n",
    "                               'Frequencia':quantidade_de_filmes_por_genero})\n",
    "df_popularidade = df_freq_filmes\n",
    "df_freq_filmes = df_freq_filmes.sort_values('Frequencia',ascending=False)\n",
    "df_freq_filmes.reset_index(drop=True, inplace=True)\n",
    "df_freq_filmes.head()"
   ]
  },
  {
   "cell_type": "code",
   "execution_count": 109,
   "metadata": {},
   "outputs": [
    {
     "data": {
      "text/plain": [
       "Text(0.5, 1.0, 'Frequências de filmes por gênero')"
      ]
     },
     "execution_count": 109,
     "metadata": {},
     "output_type": "execute_result"
    },
    {
     "data": {
      "image/png": "[encoded data removed]",
      "text/plain": [
       "<Figure size 1440x576 with 1 Axes>"
      ]
     },
     "metadata": {
      "needs_background": "light"
     },
     "output_type": "display_data"
    }
   ],
   "source": [
    "plt.figure(figsize=(20,8))\n",
    "ax = sns.barplot(x=\"Genero\",y=\"Frequencia\",data=df_freq_filmes,palette='GnBu_d')\n",
    "ax.set_xlabel('Gêneros',fontsize=20)\n",
    "ax.set_ylabel('Frequêncas',fontsize=20)\n",
    "ax.set_title('Frequências de filmes por gênero',fontsize=30)"
   ]
  },
  {
   "cell_type": "markdown",
   "metadata": {},
   "source": [
    "## Pergunta: Quais são os 5 generos com mais filmes?\n",
    "\n",
    "Dica:\n",
    "\n",
    "- `sort_values()` pode ordenar uma Series do pandas"
   ]
  },
  {
   "cell_type": "code",
   "execution_count": 110,
   "metadata": {},
   "outputs": [],
   "source": [
    "# solução\n",
    "top5_generos_em_quantidade_de_filmes = df_freq_filmes.head()"
   ]
  },
  {
   "cell_type": "code",
   "execution_count": 111,
   "metadata": {},
   "outputs": [
    {
     "name": "stdout",
     "output_type": "stream",
     "text": [
      "      Genero  Frequencia\n",
      "0     Comedy         181\n",
      "1      Drama         166\n",
      "2     Action         164\n",
      "3  Adventure         132\n",
      "4   Thriller         121\n"
     ]
    }
   ],
   "source": [
    "print(top5_generos_em_quantidade_de_filmes)"
   ]
  },
  {
   "cell_type": "markdown",
   "metadata": {},
   "source": [
    "## Pergunta: visualização de votos por genero\n",
    "\n",
    "- o código que gera os votos por genero já está pronto\n",
    "- ordene as categorias da mais visualizada para a menos visualizada\n",
    "- gere a visualização por genero"
   ]
  },
  {
   "cell_type": "code",
   "execution_count": 112,
   "metadata": {},
   "outputs": [
    {
     "data": {
      "text/html": [
       "<div>\n",
       "<style scoped>\n",
       "    .dataframe tbody tr th:only-of-type {\n",
       "        vertical-align: middle;\n",
       "    }\n",
       "\n",
       "    .dataframe tbody tr th {\n",
       "        vertical-align: top;\n",
       "    }\n",
       "\n",
       "    .dataframe thead th {\n",
       "        text-align: right;\n",
       "    }\n",
       "</style>\n",
       "<table border=\"1\" class=\"dataframe\">\n",
       "  <thead>\n",
       "    <tr style=\"text-align: right;\">\n",
       "      <th></th>\n",
       "      <th>Action</th>\n",
       "      <th>Adventure</th>\n",
       "      <th>Animation</th>\n",
       "      <th>Children</th>\n",
       "      <th>Comedy</th>\n",
       "      <th>Crime</th>\n",
       "      <th>Documentary</th>\n",
       "      <th>Drama</th>\n",
       "      <th>Fantasy</th>\n",
       "      <th>FilmNoir</th>\n",
       "      <th>Horror</th>\n",
       "      <th>IMAX</th>\n",
       "      <th>Musical</th>\n",
       "      <th>Mystery</th>\n",
       "      <th>Romance</th>\n",
       "      <th>SciFi</th>\n",
       "      <th>Thriller</th>\n",
       "      <th>War</th>\n",
       "      <th>Western</th>\n",
       "    </tr>\n",
       "  </thead>\n",
       "  <tbody>\n",
       "    <tr>\n",
       "      <th>0</th>\n",
       "      <td>0.0</td>\n",
       "      <td>215.0</td>\n",
       "      <td>215.0</td>\n",
       "      <td>215.0</td>\n",
       "      <td>215.0</td>\n",
       "      <td>0.0</td>\n",
       "      <td>0.0</td>\n",
       "      <td>0.0</td>\n",
       "      <td>215.0</td>\n",
       "      <td>0.0</td>\n",
       "      <td>0.0</td>\n",
       "      <td>0.0</td>\n",
       "      <td>0.0</td>\n",
       "      <td>0.0</td>\n",
       "      <td>0.0</td>\n",
       "      <td>0.0</td>\n",
       "      <td>0.0</td>\n",
       "      <td>0.0</td>\n",
       "      <td>0.0</td>\n",
       "    </tr>\n",
       "    <tr>\n",
       "      <th>1</th>\n",
       "      <td>0.0</td>\n",
       "      <td>110.0</td>\n",
       "      <td>0.0</td>\n",
       "      <td>110.0</td>\n",
       "      <td>0.0</td>\n",
       "      <td>0.0</td>\n",
       "      <td>0.0</td>\n",
       "      <td>0.0</td>\n",
       "      <td>110.0</td>\n",
       "      <td>0.0</td>\n",
       "      <td>0.0</td>\n",
       "      <td>0.0</td>\n",
       "      <td>0.0</td>\n",
       "      <td>0.0</td>\n",
       "      <td>0.0</td>\n",
       "      <td>0.0</td>\n",
       "      <td>0.0</td>\n",
       "      <td>0.0</td>\n",
       "      <td>0.0</td>\n",
       "    </tr>\n",
       "    <tr>\n",
       "      <th>2</th>\n",
       "      <td>0.0</td>\n",
       "      <td>0.0</td>\n",
       "      <td>0.0</td>\n",
       "      <td>0.0</td>\n",
       "      <td>52.0</td>\n",
       "      <td>0.0</td>\n",
       "      <td>0.0</td>\n",
       "      <td>0.0</td>\n",
       "      <td>0.0</td>\n",
       "      <td>0.0</td>\n",
       "      <td>0.0</td>\n",
       "      <td>0.0</td>\n",
       "      <td>0.0</td>\n",
       "      <td>0.0</td>\n",
       "      <td>52.0</td>\n",
       "      <td>0.0</td>\n",
       "      <td>0.0</td>\n",
       "      <td>0.0</td>\n",
       "      <td>0.0</td>\n",
       "    </tr>\n",
       "    <tr>\n",
       "      <th>3</th>\n",
       "      <td>102.0</td>\n",
       "      <td>0.0</td>\n",
       "      <td>0.0</td>\n",
       "      <td>0.0</td>\n",
       "      <td>0.0</td>\n",
       "      <td>102.0</td>\n",
       "      <td>0.0</td>\n",
       "      <td>0.0</td>\n",
       "      <td>0.0</td>\n",
       "      <td>0.0</td>\n",
       "      <td>0.0</td>\n",
       "      <td>0.0</td>\n",
       "      <td>0.0</td>\n",
       "      <td>0.0</td>\n",
       "      <td>0.0</td>\n",
       "      <td>0.0</td>\n",
       "      <td>102.0</td>\n",
       "      <td>0.0</td>\n",
       "      <td>0.0</td>\n",
       "    </tr>\n",
       "    <tr>\n",
       "      <th>4</th>\n",
       "      <td>0.0</td>\n",
       "      <td>0.0</td>\n",
       "      <td>0.0</td>\n",
       "      <td>0.0</td>\n",
       "      <td>54.0</td>\n",
       "      <td>0.0</td>\n",
       "      <td>0.0</td>\n",
       "      <td>0.0</td>\n",
       "      <td>0.0</td>\n",
       "      <td>0.0</td>\n",
       "      <td>0.0</td>\n",
       "      <td>0.0</td>\n",
       "      <td>0.0</td>\n",
       "      <td>0.0</td>\n",
       "      <td>54.0</td>\n",
       "      <td>0.0</td>\n",
       "      <td>0.0</td>\n",
       "      <td>0.0</td>\n",
       "      <td>0.0</td>\n",
       "    </tr>\n",
       "  </tbody>\n",
       "</table>\n",
       "</div>"
      ],
      "text/plain": [
       "   Action  Adventure  Animation  Children  Comedy  Crime  Documentary  Drama  \\\n",
       "0     0.0      215.0      215.0     215.0   215.0    0.0          0.0    0.0   \n",
       "1     0.0      110.0        0.0     110.0     0.0    0.0          0.0    0.0   \n",
       "2     0.0        0.0        0.0       0.0    52.0    0.0          0.0    0.0   \n",
       "3   102.0        0.0        0.0       0.0     0.0  102.0          0.0    0.0   \n",
       "4     0.0        0.0        0.0       0.0    54.0    0.0          0.0    0.0   \n",
       "\n",
       "   Fantasy  FilmNoir  Horror  IMAX  Musical  Mystery  Romance  SciFi  \\\n",
       "0    215.0       0.0     0.0   0.0      0.0      0.0      0.0    0.0   \n",
       "1    110.0       0.0     0.0   0.0      0.0      0.0      0.0    0.0   \n",
       "2      0.0       0.0     0.0   0.0      0.0      0.0     52.0    0.0   \n",
       "3      0.0       0.0     0.0   0.0      0.0      0.0      0.0    0.0   \n",
       "4      0.0       0.0     0.0   0.0      0.0      0.0     54.0    0.0   \n",
       "\n",
       "   Thriller  War  Western  \n",
       "0       0.0  0.0      0.0  \n",
       "1       0.0  0.0      0.0  \n",
       "2       0.0  0.0      0.0  \n",
       "3     102.0  0.0      0.0  \n",
       "4       0.0  0.0      0.0  "
      ]
     },
     "execution_count": 112,
     "metadata": {},
     "output_type": "execute_result"
    }
   ],
   "source": [
    "votos_por_genero_por_filme = pd.DataFrame((generos.values.T * filmes['total_de_votos'].values).T, columns = generos.columns)\n",
    "votos_por_genero_por_filme.head()"
   ]
  },
  {
   "cell_type": "code",
   "execution_count": 113,
   "metadata": {},
   "outputs": [
    {
     "data": {
      "text/plain": [
       "[15734.0,\n",
       " 13117.0,\n",
       " 3066.0,\n",
       " 4331.0,\n",
       " 15330.0,\n",
       " 8649.0,\n",
       " 108.0,\n",
       " 15445.0,\n",
       " 5993.0,\n",
       " 291.0,\n",
       " 2215.0,\n",
       " 2492.0,\n",
       " 1822.0,\n",
       " 3452.0,\n",
       " 7444.0,\n",
       " 8989.0,\n",
       " 11907.0,\n",
       " 2113.0,\n",
       " 900.0]"
      ]
     },
     "execution_count": 113,
     "metadata": {},
     "output_type": "execute_result"
    }
   ],
   "source": [
    "# solucão\n",
    "total_de_votos = []\n",
    "for i in votos_por_genero_por_filme.columns:\n",
    "    total_de_votos.append(votos_por_genero_por_filme[i].sum())\n",
    "df_popularidade['total_de_votos'] = total_de_votos\n",
    "total_de_votos"
   ]
  },
  {
   "cell_type": "code",
   "execution_count": 114,
   "metadata": {},
   "outputs": [
    {
     "data": {
      "text/html": [
       "<div>\n",
       "<style scoped>\n",
       "    .dataframe tbody tr th:only-of-type {\n",
       "        vertical-align: middle;\n",
       "    }\n",
       "\n",
       "    .dataframe tbody tr th {\n",
       "        vertical-align: top;\n",
       "    }\n",
       "\n",
       "    .dataframe thead th {\n",
       "        text-align: right;\n",
       "    }\n",
       "</style>\n",
       "<table border=\"1\" class=\"dataframe\">\n",
       "  <thead>\n",
       "    <tr style=\"text-align: right;\">\n",
       "      <th></th>\n",
       "      <th>Genero</th>\n",
       "      <th>Total de votos</th>\n",
       "    </tr>\n",
       "  </thead>\n",
       "  <tbody>\n",
       "    <tr>\n",
       "      <th>0</th>\n",
       "      <td>Action</td>\n",
       "      <td>15734.0</td>\n",
       "    </tr>\n",
       "    <tr>\n",
       "      <th>7</th>\n",
       "      <td>Drama</td>\n",
       "      <td>15445.0</td>\n",
       "    </tr>\n",
       "    <tr>\n",
       "      <th>4</th>\n",
       "      <td>Comedy</td>\n",
       "      <td>15330.0</td>\n",
       "    </tr>\n",
       "    <tr>\n",
       "      <th>1</th>\n",
       "      <td>Adventure</td>\n",
       "      <td>13117.0</td>\n",
       "    </tr>\n",
       "    <tr>\n",
       "      <th>16</th>\n",
       "      <td>Thriller</td>\n",
       "      <td>11907.0</td>\n",
       "    </tr>\n",
       "  </tbody>\n",
       "</table>\n",
       "</div>"
      ],
      "text/plain": [
       "       Genero  Total de votos\n",
       "0      Action         15734.0\n",
       "7       Drama         15445.0\n",
       "4      Comedy         15330.0\n",
       "1   Adventure         13117.0\n",
       "16   Thriller         11907.0"
      ]
     },
     "execution_count": 114,
     "metadata": {},
     "output_type": "execute_result"
    }
   ],
   "source": [
    "# solução\n",
    "qt_de_votos_por_generos = pd.DataFrame({'Genero':votos_por_genero_por_filme.columns,\n",
    "                                        'Total de votos':total_de_votos})\n",
    "qt_de_votos_por_generos.reset_index(drop=True, inplace=True)\n",
    "qt_de_votos_por_generos.sort_values('Total de votos',ascending=False,inplace=True)\n",
    "qt_de_votos_por_generos.head()"
   ]
  },
  {
   "cell_type": "code",
   "execution_count": 115,
   "metadata": {},
   "outputs": [
    {
     "data": {
      "text/plain": [
       "Text(0.5, 1.0, 'Quantidade de votos por gênero')"
      ]
     },
     "execution_count": 115,
     "metadata": {},
     "output_type": "execute_result"
    },
    {
     "data": {
      "image/png": "[encoded data removed]",
      "text/plain": [
       "<Figure size 1440x576 with 1 Axes>"
      ]
     },
     "metadata": {
      "needs_background": "light"
     },
     "output_type": "display_data"
    }
   ],
   "source": [
    "plt.figure(figsize=(20,8))\n",
    "ax = sns.barplot(x=\"Genero\",y=\"Total de votos\",data=qt_de_votos_por_generos,palette='GnBu_d')\n",
    "ax.set_xlabel('Gêneros',fontsize=20)\n",
    "ax.set_ylabel('Quantidade de votos',fontsize=20)\n",
    "ax.set_title('Quantidade de votos por gênero',fontsize=30)"
   ]
  },
  {
   "cell_type": "markdown",
   "metadata": {},
   "source": [
    "## Pergunta : votos por filme por genero\n",
    "\n",
    "Queremos entender a quantidade de votos em relação a quantidade de filmes existentes naquele genero.\n",
    "\n",
    "Por exemplo: \n",
    "- se temos 1000 votos de `Ação` e 10 filmes desse genero, foram 100 votos por filme nesse genero.\n",
    "- se o gênero `Documentário` tem 2 filmes e 500 votos, ele tem 250 votos por filme nesse gênero.\n",
    "\n",
    "Queremos entender isso, a \"popularidade\" média de um filme em cada categoria, isto é, o número de votos dividido pelo número de filmes, organizado para cada categoria.\n",
    "\n",
    "- Você já possui o número de votos por genero\n",
    "- Calcule o número de votos por genero dividido pelo total de filmes por genero\n",
    "- Ordene do maior para o menor\n",
    "- Plote um gráfico para visualizarmos esses dados"
   ]
  },
  {
   "cell_type": "code",
   "execution_count": 116,
   "metadata": {},
   "outputs": [],
   "source": [
    "# solucao código\n",
    "df_popularidade['Voto/Filme'] = df_popularidade['total_de_votos']/df_popularidade['Frequencia']\n",
    "df_popularidade.sort_values('Voto/Filme',ascending=False, inplace=True)"
   ]
  },
  {
   "cell_type": "code",
   "execution_count": 117,
   "metadata": {},
   "outputs": [
    {
     "data": {
      "text/plain": [
       "Text(0.5, 1.0, 'Votos por filme por genero')"
      ]
     },
     "execution_count": 117,
     "metadata": {},
     "output_type": "execute_result"
    },
    {
     "data": {
      "image/png": "[encoded data removed]",
      "text/plain": [
       "<Figure size 1440x576 with 1 Axes>"
      ]
     },
     "metadata": {
      "needs_background": "light"
     },
     "output_type": "display_data"
    }
   ],
   "source": [
    "# solução com visualização \n",
    "plt.figure(figsize=(20,8))\n",
    "ax = sns.barplot(x=\"Genero\",y=\"Voto/Filme\",data=df_popularidade,palette='GnBu_d')\n",
    "ax.set_xlabel('Gêneros',fontsize=20)\n",
    "ax.set_ylabel('Quantidade de votos',fontsize=20)\n",
    "ax.set_title('Votos por filme por genero',fontsize=30)"
   ]
  },
  {
   "cell_type": "markdown",
   "metadata": {},
   "source": [
    "## Pergunta: Olhando as 3 últimas visualizações o que você conclui sobre os generos `Action` e `War`?"
   ]
  },
  {
   "cell_type": "code",
   "execution_count": 118,
   "metadata": {},
   "outputs": [
    {
     "data": {
      "text/html": [
       "<div>\n",
       "<style scoped>\n",
       "    .dataframe tbody tr th:only-of-type {\n",
       "        vertical-align: middle;\n",
       "    }\n",
       "\n",
       "    .dataframe tbody tr th {\n",
       "        vertical-align: top;\n",
       "    }\n",
       "\n",
       "    .dataframe thead th {\n",
       "        text-align: right;\n",
       "    }\n",
       "</style>\n",
       "<table border=\"1\" class=\"dataframe\">\n",
       "  <thead>\n",
       "    <tr style=\"text-align: right;\">\n",
       "      <th></th>\n",
       "      <th>Genero</th>\n",
       "      <th>Frequencia</th>\n",
       "      <th>total_de_votos</th>\n",
       "      <th>Voto/Filme</th>\n",
       "    </tr>\n",
       "  </thead>\n",
       "  <tbody>\n",
       "    <tr>\n",
       "      <th>17</th>\n",
       "      <td>War</td>\n",
       "      <td>19</td>\n",
       "      <td>2113.0</td>\n",
       "      <td>111.210526</td>\n",
       "    </tr>\n",
       "    <tr>\n",
       "      <th>5</th>\n",
       "      <td>Crime</td>\n",
       "      <td>87</td>\n",
       "      <td>8649.0</td>\n",
       "      <td>99.413793</td>\n",
       "    </tr>\n",
       "    <tr>\n",
       "      <th>1</th>\n",
       "      <td>Adventure</td>\n",
       "      <td>132</td>\n",
       "      <td>13117.0</td>\n",
       "      <td>99.371212</td>\n",
       "    </tr>\n",
       "    <tr>\n",
       "      <th>16</th>\n",
       "      <td>Thriller</td>\n",
       "      <td>121</td>\n",
       "      <td>11907.0</td>\n",
       "      <td>98.404959</td>\n",
       "    </tr>\n",
       "    <tr>\n",
       "      <th>15</th>\n",
       "      <td>SciFi</td>\n",
       "      <td>92</td>\n",
       "      <td>8989.0</td>\n",
       "      <td>97.706522</td>\n",
       "    </tr>\n",
       "    <tr>\n",
       "      <th>0</th>\n",
       "      <td>Action</td>\n",
       "      <td>164</td>\n",
       "      <td>15734.0</td>\n",
       "      <td>95.939024</td>\n",
       "    </tr>\n",
       "    <tr>\n",
       "      <th>2</th>\n",
       "      <td>Animation</td>\n",
       "      <td>32</td>\n",
       "      <td>3066.0</td>\n",
       "      <td>95.812500</td>\n",
       "    </tr>\n",
       "    <tr>\n",
       "      <th>7</th>\n",
       "      <td>Drama</td>\n",
       "      <td>166</td>\n",
       "      <td>15445.0</td>\n",
       "      <td>93.042169</td>\n",
       "    </tr>\n",
       "    <tr>\n",
       "      <th>3</th>\n",
       "      <td>Children</td>\n",
       "      <td>47</td>\n",
       "      <td>4331.0</td>\n",
       "      <td>92.148936</td>\n",
       "    </tr>\n",
       "    <tr>\n",
       "      <th>13</th>\n",
       "      <td>Mystery</td>\n",
       "      <td>38</td>\n",
       "      <td>3452.0</td>\n",
       "      <td>90.842105</td>\n",
       "    </tr>\n",
       "    <tr>\n",
       "      <th>8</th>\n",
       "      <td>Fantasy</td>\n",
       "      <td>66</td>\n",
       "      <td>5993.0</td>\n",
       "      <td>90.803030</td>\n",
       "    </tr>\n",
       "    <tr>\n",
       "      <th>11</th>\n",
       "      <td>IMAX</td>\n",
       "      <td>28</td>\n",
       "      <td>2492.0</td>\n",
       "      <td>89.000000</td>\n",
       "    </tr>\n",
       "    <tr>\n",
       "      <th>14</th>\n",
       "      <td>Romance</td>\n",
       "      <td>85</td>\n",
       "      <td>7444.0</td>\n",
       "      <td>87.576471</td>\n",
       "    </tr>\n",
       "    <tr>\n",
       "      <th>12</th>\n",
       "      <td>Musical</td>\n",
       "      <td>21</td>\n",
       "      <td>1822.0</td>\n",
       "      <td>86.761905</td>\n",
       "    </tr>\n",
       "    <tr>\n",
       "      <th>10</th>\n",
       "      <td>Horror</td>\n",
       "      <td>26</td>\n",
       "      <td>2215.0</td>\n",
       "      <td>85.192308</td>\n",
       "    </tr>\n",
       "    <tr>\n",
       "      <th>4</th>\n",
       "      <td>Comedy</td>\n",
       "      <td>181</td>\n",
       "      <td>15330.0</td>\n",
       "      <td>84.696133</td>\n",
       "    </tr>\n",
       "    <tr>\n",
       "      <th>18</th>\n",
       "      <td>Western</td>\n",
       "      <td>12</td>\n",
       "      <td>900.0</td>\n",
       "      <td>75.000000</td>\n",
       "    </tr>\n",
       "    <tr>\n",
       "      <th>9</th>\n",
       "      <td>FilmNoir</td>\n",
       "      <td>4</td>\n",
       "      <td>291.0</td>\n",
       "      <td>72.750000</td>\n",
       "    </tr>\n",
       "    <tr>\n",
       "      <th>6</th>\n",
       "      <td>Documentary</td>\n",
       "      <td>2</td>\n",
       "      <td>108.0</td>\n",
       "      <td>54.000000</td>\n",
       "    </tr>\n",
       "  </tbody>\n",
       "</table>\n",
       "</div>"
      ],
      "text/plain": [
       "         Genero  Frequencia  total_de_votos  Voto/Filme\n",
       "17          War          19          2113.0  111.210526\n",
       "5         Crime          87          8649.0   99.413793\n",
       "1     Adventure         132         13117.0   99.371212\n",
       "16     Thriller         121         11907.0   98.404959\n",
       "15        SciFi          92          8989.0   97.706522\n",
       "0        Action         164         15734.0   95.939024\n",
       "2     Animation          32          3066.0   95.812500\n",
       "7         Drama         166         15445.0   93.042169\n",
       "3      Children          47          4331.0   92.148936\n",
       "13      Mystery          38          3452.0   90.842105\n",
       "8       Fantasy          66          5993.0   90.803030\n",
       "11         IMAX          28          2492.0   89.000000\n",
       "14      Romance          85          7444.0   87.576471\n",
       "12      Musical          21          1822.0   86.761905\n",
       "10       Horror          26          2215.0   85.192308\n",
       "4        Comedy         181         15330.0   84.696133\n",
       "18      Western          12           900.0   75.000000\n",
       "9      FilmNoir           4           291.0   72.750000\n",
       "6   Documentary           2           108.0   54.000000"
      ]
     },
     "execution_count": 118,
     "metadata": {},
     "output_type": "execute_result"
    }
   ],
   "source": [
    "df_popularidade"
   ]
  },
  {
   "cell_type": "markdown",
   "metadata": {},
   "source": [
    "### Solução (texto livre):\n",
    "    \n",
    "    A nota do gênero Action é mais confiavel, pois houve mais pessoas vontado nesse estilo de filme. Logo, ocorre o contrário no genêro War porque ele recebe o valor valor em Voto/Filmes, mas só há 19 filmes e mais de 2000 votos. Além disso, vemos que os usuários gostam mais de filmes de ação, por conta que há mais filmes nessa categoria.\n",
    "    "
   ]
  },
  {
   "cell_type": "markdown",
   "metadata": {},
   "source": [
    "## Pergunta: Crie 2 boxplots no mesmo plot comparando a coluna `total_de_votos` dos filmes de categoria `Horror` e `Adventure`  \n",
    "\n",
    "Dica:\n",
    "\n",
    "- as vezes é mais fácil usar o boxplot do matplotlib ao invés do seaborn\n",
    "- plt.boxplot suporta o parâmetro labels com uma lista de nomes para cada boxplot plotado"
   ]
  },
  {
   "cell_type": "code",
   "execution_count": 119,
   "metadata": {},
   "outputs": [
    {
     "data": {
      "text/plain": [
       "{'whiskers': [<matplotlib.lines.Line2D at 0x125ac808>,\n",
       "  <matplotlib.lines.Line2D at 0x125ac2e0>,\n",
       "  <matplotlib.lines.Line2D at 0x126aa280>,\n",
       "  <matplotlib.lines.Line2D at 0x126aab80>],\n",
       " 'caps': [<matplotlib.lines.Line2D at 0x125ac430>,\n",
       "  <matplotlib.lines.Line2D at 0x125acb08>,\n",
       "  <matplotlib.lines.Line2D at 0x126aa1c0>,\n",
       "  <matplotlib.lines.Line2D at 0x126501c0>],\n",
       " 'boxes': [<matplotlib.lines.Line2D at 0x125acbc8>,\n",
       "  <matplotlib.lines.Line2D at 0x126aa358>],\n",
       " 'medians': [<matplotlib.lines.Line2D at 0x125ac220>,\n",
       "  <matplotlib.lines.Line2D at 0x126571c0>],\n",
       " 'fliers': [<matplotlib.lines.Line2D at 0x126aa940>,\n",
       "  <matplotlib.lines.Line2D at 0x126573a0>],\n",
       " 'means': []}"
      ]
     },
     "execution_count": 119,
     "metadata": {},
     "output_type": "execute_result"
    },
    {
     "data": {
      "image/png": "[encoded data removed]",
      "text/plain": [
       "<Figure size 432x288 with 1 Axes>"
      ]
     },
     "metadata": {
      "needs_background": "light"
     },
     "output_type": "display_data"
    }
   ],
   "source": [
    "# solução:\n",
    "plt.boxplot([votos_por_genero_por_filme['Horror'],votos_por_genero_por_filme['Adventure']])"
   ]
  },
  {
   "cell_type": "markdown",
   "metadata": {},
   "source": [
    "## Pergunta: mostre agora um boxplot para cada uma das categorias\n",
    "\n",
    "Dica:\n",
    "- use generos.columns para acessar todos os gêneros\n",
    "- já removemos os hífens dos nomes das colunas quando criamos as colunas de gêneros\n",
    "- plt (pyplot) do matplotlib suporta a função xticks(rotation=90) para rotacionar os labels"
   ]
  },
  {
   "cell_type": "code",
   "execution_count": 120,
   "metadata": {},
   "outputs": [
    {
     "data": {
      "image/png": "[encoded data removed]",
      "text/plain": [
       "<Figure size 1296x576 with 1 Axes>"
      ]
     },
     "metadata": {
      "needs_background": "light"
     },
     "output_type": "display_data"
    }
   ],
   "source": [
    "plt.figure(figsize=(18,8))\n",
    "plt.boxplot(votos_por_genero_por_filme[generos.columns.values].transpose())\n",
    "plt.xticks([1, 2, 3, 4, 5, 6, 7, 8, 9, 10, 11, 12, 13, 14, 15, 16, 17, 18, 19], generos.columns.values)\n",
    "plt.title(\"Sem a remoção do zeros\",fontsize=20)\n",
    "plt.grid()"
   ]
  },
  {
   "cell_type": "code",
   "execution_count": 121,
   "metadata": {},
   "outputs": [
    {
     "data": {
      "image/png": "[encoded data removed]",
      "text/plain": [
       "<Figure size 1296x576 with 1 Axes>"
      ]
     },
     "metadata": {
      "needs_background": "light"
     },
     "output_type": "display_data"
    }
   ],
   "source": [
    "a = []\n",
    "for i in generos.columns.values:\n",
    "    a.append(votos_por_genero_por_filme[i].values)\n",
    "b = []\n",
    "for i in range(1,19):\n",
    "    b.append(a[i][a[i]>0].transpose())\n",
    "\n",
    "plt.figure(figsize=(18,8))\n",
    "plt.boxplot(b)\n",
    "plt.xticks([1, 2, 3, 4, 5, 6, 7, 8, 9, 10, 11, 12, 13, 14, 15, 16, 17, 18, 19], generos.columns.values)\n",
    "plt.title(\"Com a remoção do zeros\",fontsize=20)\n",
    "plt.grid()"
   ]
  },
  {
   "cell_type": "markdown",
   "metadata": {},
   "source": [
    "## Pergunta: desejo criar um filme com somente um dos gêneros: `Horror` ou `Adventure`. Quero ter uma chance maior de ter um faturamento que pague minhas contas, mesmo que não seja um super sucesso absurdo de vendas. Qual dos 2 gêneros você sugere?"
   ]
  },
  {
   "cell_type": "code",
   "execution_count": 122,
   "metadata": {},
   "outputs": [
    {
     "data": {
      "image/png": "[encoded data removed]",
      "text/plain": [
       "<Figure size 432x288 with 1 Axes>"
      ]
     },
     "metadata": {
      "needs_background": "light"
     },
     "output_type": "display_data"
    }
   ],
   "source": [
    "Aventura = votos_por_genero_por_filme['Adventure']\n",
    "Horror = votos_por_genero_por_filme['Horror']\n",
    "\n",
    "plt.boxplot([Aventura[Aventura>0],Horror[Horror>0]])\n",
    "plt.xticks([1,2], ['Aventura','Horror'])\n",
    "plt.grid()"
   ]
  },
  {
   "cell_type": "markdown",
   "metadata": {},
   "source": [
    "### Solução:\n",
    "    Cria um filme de aventura! pois há um público maior nele(com base no total de votos), e você tem uma maior chance de obter uma boa nota conforme é visto no boxplot acima. Além disso,a mediana é mais proxima da média e a maior parte dos filmes são muito votados, ou seja, tem mais chance de serem vistos.\n"
   ]
  },
  {
   "cell_type": "markdown",
   "metadata": {},
   "source": [
    "## Pergunta: nossa análise foi até então visual. Aplique um teste estatístico para verificar se existe significância estatística na distribuição dos votos dos filmes de `Adventure` e `Horror`. Sua recomendação continua a mesma? Explique.\n",
    "\n",
    "Passos:\n",
    "\n",
    "- visualize a distribuição de ambas através de histogramas\n",
    "- se suspeitar normalidade na distribuição, faça um teste de normalidade para ambas\n",
    "- aplique um teste adequado de comparação das distribuições\n",
    "- explique o resultado encontrado\n",
    "- utilize p=0.05"
   ]
  },
  {
   "cell_type": "code",
   "execution_count": 123,
   "metadata": {
    "scrolled": true
   },
   "outputs": [
    {
     "data": {
      "text/plain": [
       "<matplotlib.axes._subplots.AxesSubplot at 0x13f34ec8>"
      ]
     },
     "execution_count": 123,
     "metadata": {},
     "output_type": "execute_result"
    },
    {
     "data": {
      "image/png": "[encoded data removed]",
      "text/plain": [
       "<Figure size 432x288 with 1 Axes>"
      ]
     },
     "metadata": {
      "needs_background": "light"
     },
     "output_type": "display_data"
    }
   ],
   "source": [
    "# solucao histograma de aventura\n",
    "\n",
    "# Retirando os zeros no conjunto temos:\n",
    "Aventura[Aventura>0].hist()"
   ]
  },
  {
   "cell_type": "code",
   "execution_count": 124,
   "metadata": {},
   "outputs": [
    {
     "data": {
      "text/plain": [
       "<matplotlib.axes._subplots.AxesSubplot at 0x13f74298>"
      ]
     },
     "execution_count": 124,
     "metadata": {},
     "output_type": "execute_result"
    },
    {
     "data": {
      "image/png": "[encoded data removed]",
      "text/plain": [
       "<Figure size 432x288 with 1 Axes>"
      ]
     },
     "metadata": {
      "needs_background": "light"
     },
     "output_type": "display_data"
    }
   ],
   "source": [
    "# solucao histograma de horror\n",
    "\n",
    "# Retirando os zeros no conjunto temos:\n",
    "Horror[Horror>0].hist()"
   ]
  },
  {
   "cell_type": "code",
   "execution_count": 125,
   "metadata": {},
   "outputs": [],
   "source": [
    "# solucao teste de normalidade ou justificativa para nao utiliza-lo\n",
    "\n",
    "# Teste de shapiro\n",
    "def teste_shapiro(dados):\n",
    "    stat,p = shapiro(dados)\n",
    "    alfa  =  0.05 \n",
    "    if  p  >  alfa : \n",
    "        msg  =  'Teste de shapiro - A amostra parece gaussiana (falha ao rejeitar H0)' \n",
    "    else : \n",
    "        msg  =  'Teste de shapiro - A amostra não parece gaussiana (rejeita H0)'\n",
    "    print(msg)\n",
    "    return stat,p\n",
    "\n",
    "def teste_anderson(dados):\n",
    "    result = anderson(dados)\n",
    "    stat = round(result.statistic, 4)\n",
    "    p = 0\n",
    "    result_mat = []\n",
    "    for i in range(len(result.critical_values)):\n",
    "        sl, cv = result.significance_level[i], result.critical_values[i]\n",
    "        if result.statistic < result.critical_values[i]:\n",
    "            msg = 'Teste de anderson - A amostra parece gaussiana (não rejeita H0)'\n",
    "        else:\n",
    "            msg = 'Teste de anderson - A amostra não parece gaussiana (rejeita H0)'\n",
    "        result_mat.append([len(dados), stat, sl, cv, msg])\n",
    "    print(msg)\n",
    "    \n",
    "def test_dagostino(dados):\n",
    "    stat, p = normaltest(dados)\n",
    "    alpha = 0.05\n",
    "    if p > alpha:\n",
    "        msg = \"Teste de D'Agostino - A amostra parece gaussiana (não rejeita H0)\"\n",
    "    else:\n",
    "        msg = \"Teste de D'Agostino - A amostra não parece gaussiana (rejeita H0)\"\n",
    "    print(msg)"
   ]
  },
  {
   "cell_type": "code",
   "execution_count": 126,
   "metadata": {},
   "outputs": [
    {
     "name": "stdout",
     "output_type": "stream",
     "text": [
      "Teste de shapiro - A amostra não parece gaussiana (rejeita H0)\n",
      "Teste de anderson - A amostra não parece gaussiana (rejeita H0)\n",
      "Teste de D'Agostino - A amostra não parece gaussiana (rejeita H0)\n",
      "********************************************************************************\n",
      "Teste de shapiro - A amostra não parece gaussiana (rejeita H0)\n",
      "Teste de anderson - A amostra não parece gaussiana (rejeita H0)\n",
      "Teste de D'Agostino - A amostra não parece gaussiana (rejeita H0)\n"
     ]
    }
   ],
   "source": [
    "# solução com o teste desejado\n",
    "\n",
    "teste_shapiro(Aventura[Aventura>0])\n",
    "teste_anderson(Aventura[Aventura>0])\n",
    "test_dagostino(Aventura[Aventura>0])\n",
    "print(\"*\" * 80)\n",
    "teste_shapiro(Horror[Horror>0])\n",
    "teste_anderson(Horror[Horror>0])\n",
    "test_dagostino(Horror[Horror>0])"
   ]
  },
  {
   "cell_type": "markdown",
   "metadata": {},
   "source": [
    "### Solução (explique sua conclusão):\n",
    "\n",
    "    Não foi necessário realizar os testes para saber que as duas distribuições não são gaussiana, mas utilizei da matemática para ter como aliada. Logo, esses dados foram retirados a partir de uma coleta de dados com viés, que podemos citar a preferência dos usuários por um certa categoria de filmes ou o número de filmes disponveis em um determinado tipo.\n",
    "\n",
    "    Portanto, minha sugestão ainda fica a mesma e também posso adicionar que os filmes de aventura tem mais chances de ser um preferências dos usuários da plataforma.\n"
   ]
  },
  {
   "cell_type": "markdown",
   "metadata": {},
   "source": [
    "## Pergunta: Faça os mesmos boxplots para as notas médias (`nota_media`) dos gêneros `Adventure` e `Horror`."
   ]
  },
  {
   "cell_type": "code",
   "execution_count": 127,
   "metadata": {},
   "outputs": [],
   "source": [
    "# solução:\n",
    "nota_media_horror = filmes.query('Horror==1').nota_media\n",
    "nota_media_aventura = filmes.query('Adventure==1').nota_media"
   ]
  },
  {
   "cell_type": "code",
   "execution_count": 128,
   "metadata": {},
   "outputs": [
    {
     "data": {
      "text/plain": [
       "{'whiskers': [<matplotlib.lines.Line2D at 0x13fc8ef8>,\n",
       "  <matplotlib.lines.Line2D at 0x13fd50d0>,\n",
       "  <matplotlib.lines.Line2D at 0x13fd5ac0>,\n",
       "  <matplotlib.lines.Line2D at 0x13fd5c58>],\n",
       " 'caps': [<matplotlib.lines.Line2D at 0x13fd5280>,\n",
       "  <matplotlib.lines.Line2D at 0x13fd5430>,\n",
       "  <matplotlib.lines.Line2D at 0x13fd5df0>,\n",
       "  <matplotlib.lines.Line2D at 0x13fd5f88>],\n",
       " 'boxes': [<matplotlib.lines.Line2D at 0x13fc8d48>,\n",
       "  <matplotlib.lines.Line2D at 0x13fd5928>],\n",
       " 'medians': [<matplotlib.lines.Line2D at 0x13fd55e0>,\n",
       "  <matplotlib.lines.Line2D at 0x13fdf148>],\n",
       " 'fliers': [<matplotlib.lines.Line2D at 0x13fd5760>,\n",
       "  <matplotlib.lines.Line2D at 0x13fdf2b0>],\n",
       " 'means': []}"
      ]
     },
     "execution_count": 128,
     "metadata": {},
     "output_type": "execute_result"
    },
    {
     "data": {
      "image/png": "[encoded data removed]",
      "text/plain": [
       "<Figure size 432x288 with 1 Axes>"
      ]
     },
     "metadata": {
      "needs_background": "light"
     },
     "output_type": "display_data"
    }
   ],
   "source": [
    "plt.boxplot([nota_media_aventura,nota_media_horror])"
   ]
  },
  {
   "cell_type": "markdown",
   "metadata": {},
   "source": [
    "## Pergunta: Quero fazer um filme que seja sucesso de crítica, com pessoas dando notas altas, mesmo que não tenha um número muito grande de pessoas assistindo. Qual gênero você recomenda se tenho que escolher somente um entre `Adventure` e `Horror`?"
   ]
  },
  {
   "cell_type": "markdown",
   "metadata": {},
   "source": [
    "### Solução:\n",
    "    Horror, pois há uma maior chance do que receber notas mais altas com filmes desse tipo. Veja no boxplot acima, a distribuição da categoria horror é mais densa nos intervalos [3.4, 4.0] e os filmes de aventura no [3.4, 3.8].\n"
   ]
  },
  {
   "cell_type": "markdown",
   "metadata": {},
   "source": [
    "## Pergunta: nossa análise foi até então visual. Aplique um teste estatístico para verificar se existe significância estatística na distribuição das notas dos filmes de `Adventure` e `Horror`.\n",
    "\n",
    "Passos:\n",
    "\n",
    "- visualize a distribuição de ambas através de histogramas\n",
    "- se suspeitar normalidade na distribuição, faça um teste de normalidade para ambas\n",
    "- aplique um teste adequado de comparação das distribuições\n",
    "- explique o resultado encontrado\n",
    "- utilize p=0.05"
   ]
  },
  {
   "cell_type": "code",
   "execution_count": 129,
   "metadata": {},
   "outputs": [
    {
     "data": {
      "text/plain": [
       "<matplotlib.axes._subplots.AxesSubplot at 0x13fe7790>"
      ]
     },
     "execution_count": 129,
     "metadata": {},
     "output_type": "execute_result"
    },
    {
     "data": {
      "image/png": "[encoded data removed]",
      "text/plain": [
       "<Figure size 432x288 with 1 Axes>"
      ]
     },
     "metadata": {
      "needs_background": "light"
     },
     "output_type": "display_data"
    }
   ],
   "source": [
    "# solucao histograma de aventura\n",
    "nota_media_aventura.hist()"
   ]
  },
  {
   "cell_type": "code",
   "execution_count": 130,
   "metadata": {},
   "outputs": [
    {
     "data": {
      "text/plain": [
       "<matplotlib.axes._subplots.AxesSubplot at 0x14026bf8>"
      ]
     },
     "execution_count": 130,
     "metadata": {},
     "output_type": "execute_result"
    },
    {
     "data": {
      "image/png": "[encoded data removed]",
      "text/plain": [
       "<Figure size 432x288 with 1 Axes>"
      ]
     },
     "metadata": {
      "needs_background": "light"
     },
     "output_type": "display_data"
    }
   ],
   "source": [
    "# solucao histograma de horror\n",
    "nota_media_horror.hist()"
   ]
  },
  {
   "cell_type": "code",
   "execution_count": 131,
   "metadata": {},
   "outputs": [
    {
     "name": "stdout",
     "output_type": "stream",
     "text": [
      "Teste de shapiro - A amostra não parece gaussiana (rejeita H0)\n",
      "Teste de anderson - A amostra parece gaussiana (não rejeita H0)\n",
      "Teste de D'Agostino - A amostra parece gaussiana (não rejeita H0)\n",
      "********************************************************************************\n",
      "Teste de shapiro - A amostra não parece gaussiana (rejeita H0)\n",
      "Teste de anderson - A amostra não parece gaussiana (rejeita H0)\n",
      "Teste de D'Agostino - A amostra não parece gaussiana (rejeita H0)\n"
     ]
    }
   ],
   "source": [
    "# solucao teste de normalidade ou justificativa para nao utiliza-lo\n",
    "teste_shapiro(nota_media_horror)\n",
    "teste_anderson(nota_media_horror)\n",
    "test_dagostino(nota_media_horror)\n",
    "print(\"*\" * 80)\n",
    "teste_shapiro(nota_media_aventura)\n",
    "teste_anderson(nota_media_aventura)\n",
    "test_dagostino(nota_media_aventura)"
   ]
  },
  {
   "cell_type": "markdown",
   "metadata": {},
   "source": [
    "### Solução com o teste desejado => Explicação dos resultados\n",
    "\n",
    "    Não foi necessário realizar os testes para saber que as duas distribuições não são gaussiana, mas utilizei da matemática para ter como aliada. Logo, esses dados foram retirados a partir de uma coleta de dados com viés, que podemos citar a preferência dos usuários por um certa categoria de filmes ou o número de filmes disponveis em um determinado tipo."
   ]
  },
  {
   "cell_type": "markdown",
   "metadata": {},
   "source": [
    "## Sua recomendação para maior sucesso de crítica em nota alta entre `Horror` e `Adventure` continua a mesma? Explique.\n",
    "\n"
   ]
  },
  {
   "cell_type": "markdown",
   "metadata": {},
   "source": [
    "### Solução:\n",
    "\n",
    "    Não, pois vendo que a categoria de filmes Adventure se mostrou que suas amostras se comportam como uma gaussiana em dois dos três testes. Além disso, segundo o histograma do filme de aventuras, vemos que boa parte dos filmes esta no intervalo [3.4, 4.0].\n",
    "    "
   ]
  },
  {
   "cell_type": "markdown",
   "metadata": {},
   "source": [
    "## Pergunta: Quero fazer um filme que seja primeiro sucesso de crítica, com pessoas dando notas altas. Em segundo lugar quero que seja popular (mais pessoas assistam). Com as informações visuais e estatísticas, supondo poder escolher somente um, qual dois 2 gêneros você recomenda agora? `Horror` ou `Adventure`?"
   ]
  },
  {
   "cell_type": "markdown",
   "metadata": {},
   "source": [
    "### Solução:\n",
    "\n",
    "    Pelos os testes anteriores, vemos que o mais aconselhado é fazer filmes de aventura(Adventure).\n"
   ]
  },
  {
   "cell_type": "markdown",
   "metadata": {},
   "source": [
    "## Pergunta: Quais são os top 5 filmes dos 2 generos mais assistidas?\n",
    "\n",
    "- utilize os 2 generos mais votados em `votos_por_genero`\n",
    "- utilize a `nota_media` para definir o top 5 filmes\n",
    "- o resultado são 5, não 10 filmes"
   ]
  },
  {
   "cell_type": "code",
   "execution_count": 132,
   "metadata": {},
   "outputs": [],
   "source": [
    "aux = df_popularidade.sort_values('total_de_votos',ascending=False)\n",
    "votos_por_genero = aux.iloc[[0,1]]"
   ]
  },
  {
   "cell_type": "code",
   "execution_count": 133,
   "metadata": {},
   "outputs": [
    {
     "data": {
      "text/html": [
       "<div>\n",
       "<style scoped>\n",
       "    .dataframe tbody tr th:only-of-type {\n",
       "        vertical-align: middle;\n",
       "    }\n",
       "\n",
       "    .dataframe tbody tr th {\n",
       "        vertical-align: top;\n",
       "    }\n",
       "\n",
       "    .dataframe thead th {\n",
       "        text-align: right;\n",
       "    }\n",
       "</style>\n",
       "<table border=\"1\" class=\"dataframe\">\n",
       "  <thead>\n",
       "    <tr style=\"text-align: right;\">\n",
       "      <th></th>\n",
       "      <th>Genero</th>\n",
       "      <th>Frequencia</th>\n",
       "      <th>total_de_votos</th>\n",
       "      <th>Voto/Filme</th>\n",
       "    </tr>\n",
       "  </thead>\n",
       "  <tbody>\n",
       "    <tr>\n",
       "      <th>0</th>\n",
       "      <td>Action</td>\n",
       "      <td>164</td>\n",
       "      <td>15734.0</td>\n",
       "      <td>95.939024</td>\n",
       "    </tr>\n",
       "    <tr>\n",
       "      <th>7</th>\n",
       "      <td>Drama</td>\n",
       "      <td>166</td>\n",
       "      <td>15445.0</td>\n",
       "      <td>93.042169</td>\n",
       "    </tr>\n",
       "  </tbody>\n",
       "</table>\n",
       "</div>"
      ],
      "text/plain": [
       "   Genero  Frequencia  total_de_votos  Voto/Filme\n",
       "0  Action         164         15734.0   95.939024\n",
       "7   Drama         166         15445.0   93.042169"
      ]
     },
     "execution_count": 133,
     "metadata": {},
     "output_type": "execute_result"
    }
   ],
   "source": [
    "# solução: calculando os 2 generos mais votados\n",
    "votos_por_genero"
   ]
  },
  {
   "cell_type": "code",
   "execution_count": 143,
   "metadata": {},
   "outputs": [
    {
     "data": {
      "text/html": [
       "<div>\n",
       "<style scoped>\n",
       "    .dataframe tbody tr th:only-of-type {\n",
       "        vertical-align: middle;\n",
       "    }\n",
       "\n",
       "    .dataframe tbody tr th {\n",
       "        vertical-align: top;\n",
       "    }\n",
       "\n",
       "    .dataframe thead th {\n",
       "        text-align: right;\n",
       "    }\n",
       "</style>\n",
       "<table border=\"1\" class=\"dataframe\">\n",
       "  <thead>\n",
       "    <tr style=\"text-align: right;\">\n",
       "      <th></th>\n",
       "      <th>titulo</th>\n",
       "      <th>ano_de_lancamento</th>\n",
       "      <th>nota_media</th>\n",
       "      <th>total_de_votos</th>\n",
       "      <th>Action</th>\n",
       "      <th>Adventure</th>\n",
       "      <th>Animation</th>\n",
       "      <th>Children</th>\n",
       "      <th>Comedy</th>\n",
       "      <th>Crime</th>\n",
       "      <th>...</th>\n",
       "      <th>FilmNoir</th>\n",
       "      <th>Horror</th>\n",
       "      <th>IMAX</th>\n",
       "      <th>Musical</th>\n",
       "      <th>Mystery</th>\n",
       "      <th>Romance</th>\n",
       "      <th>SciFi</th>\n",
       "      <th>Thriller</th>\n",
       "      <th>War</th>\n",
       "      <th>Western</th>\n",
       "    </tr>\n",
       "    <tr>\n",
       "      <th>filmeId</th>\n",
       "      <th></th>\n",
       "      <th></th>\n",
       "      <th></th>\n",
       "      <th></th>\n",
       "      <th></th>\n",
       "      <th></th>\n",
       "      <th></th>\n",
       "      <th></th>\n",
       "      <th></th>\n",
       "      <th></th>\n",
       "      <th></th>\n",
       "      <th></th>\n",
       "      <th></th>\n",
       "      <th></th>\n",
       "      <th></th>\n",
       "      <th></th>\n",
       "      <th></th>\n",
       "      <th></th>\n",
       "      <th></th>\n",
       "      <th></th>\n",
       "      <th></th>\n",
       "    </tr>\n",
       "  </thead>\n",
       "  <tbody>\n",
       "    <tr>\n",
       "      <th>2959</th>\n",
       "      <td>Fight Club (1999)</td>\n",
       "      <td>1999.0</td>\n",
       "      <td>4.272936</td>\n",
       "      <td>218.0</td>\n",
       "      <td>1</td>\n",
       "      <td>0</td>\n",
       "      <td>0</td>\n",
       "      <td>0</td>\n",
       "      <td>0</td>\n",
       "      <td>1</td>\n",
       "      <td>...</td>\n",
       "      <td>0</td>\n",
       "      <td>0</td>\n",
       "      <td>0</td>\n",
       "      <td>0</td>\n",
       "      <td>0</td>\n",
       "      <td>0</td>\n",
       "      <td>0</td>\n",
       "      <td>1</td>\n",
       "      <td>0</td>\n",
       "      <td>0</td>\n",
       "    </tr>\n",
       "    <tr>\n",
       "      <th>58559</th>\n",
       "      <td>Dark Knight, The (2008)</td>\n",
       "      <td>2008.0</td>\n",
       "      <td>4.238255</td>\n",
       "      <td>149.0</td>\n",
       "      <td>1</td>\n",
       "      <td>0</td>\n",
       "      <td>0</td>\n",
       "      <td>0</td>\n",
       "      <td>0</td>\n",
       "      <td>1</td>\n",
       "      <td>...</td>\n",
       "      <td>0</td>\n",
       "      <td>0</td>\n",
       "      <td>1</td>\n",
       "      <td>0</td>\n",
       "      <td>0</td>\n",
       "      <td>0</td>\n",
       "      <td>0</td>\n",
       "      <td>0</td>\n",
       "      <td>0</td>\n",
       "      <td>0</td>\n",
       "    </tr>\n",
       "    <tr>\n",
       "      <th>1197</th>\n",
       "      <td>Princess Bride, The (1987)</td>\n",
       "      <td>1987.0</td>\n",
       "      <td>4.232394</td>\n",
       "      <td>142.0</td>\n",
       "      <td>1</td>\n",
       "      <td>1</td>\n",
       "      <td>0</td>\n",
       "      <td>0</td>\n",
       "      <td>1</td>\n",
       "      <td>0</td>\n",
       "      <td>...</td>\n",
       "      <td>0</td>\n",
       "      <td>0</td>\n",
       "      <td>0</td>\n",
       "      <td>0</td>\n",
       "      <td>0</td>\n",
       "      <td>1</td>\n",
       "      <td>0</td>\n",
       "      <td>0</td>\n",
       "      <td>0</td>\n",
       "      <td>0</td>\n",
       "    </tr>\n",
       "    <tr>\n",
       "      <th>260</th>\n",
       "      <td>Star Wars: Episode IV - A New Hope (1977)</td>\n",
       "      <td>1977.0</td>\n",
       "      <td>4.231076</td>\n",
       "      <td>251.0</td>\n",
       "      <td>1</td>\n",
       "      <td>1</td>\n",
       "      <td>0</td>\n",
       "      <td>0</td>\n",
       "      <td>0</td>\n",
       "      <td>0</td>\n",
       "      <td>...</td>\n",
       "      <td>0</td>\n",
       "      <td>0</td>\n",
       "      <td>0</td>\n",
       "      <td>0</td>\n",
       "      <td>0</td>\n",
       "      <td>0</td>\n",
       "      <td>1</td>\n",
       "      <td>0</td>\n",
       "      <td>0</td>\n",
       "      <td>0</td>\n",
       "    </tr>\n",
       "    <tr>\n",
       "      <th>1208</th>\n",
       "      <td>Apocalypse Now (1979)</td>\n",
       "      <td>1979.0</td>\n",
       "      <td>4.219626</td>\n",
       "      <td>107.0</td>\n",
       "      <td>1</td>\n",
       "      <td>0</td>\n",
       "      <td>0</td>\n",
       "      <td>0</td>\n",
       "      <td>0</td>\n",
       "      <td>0</td>\n",
       "      <td>...</td>\n",
       "      <td>0</td>\n",
       "      <td>0</td>\n",
       "      <td>0</td>\n",
       "      <td>0</td>\n",
       "      <td>0</td>\n",
       "      <td>0</td>\n",
       "      <td>0</td>\n",
       "      <td>0</td>\n",
       "      <td>1</td>\n",
       "      <td>0</td>\n",
       "    </tr>\n",
       "  </tbody>\n",
       "</table>\n",
       "<p>5 rows × 23 columns</p>\n",
       "</div>"
      ],
      "text/plain": [
       "                                            titulo  ano_de_lancamento  \\\n",
       "filmeId                                                                 \n",
       "2959                             Fight Club (1999)             1999.0   \n",
       "58559                      Dark Knight, The (2008)             2008.0   \n",
       "1197                    Princess Bride, The (1987)             1987.0   \n",
       "260      Star Wars: Episode IV - A New Hope (1977)             1977.0   \n",
       "1208                         Apocalypse Now (1979)             1979.0   \n",
       "\n",
       "         nota_media  total_de_votos  Action  Adventure  Animation  Children  \\\n",
       "filmeId                                                                       \n",
       "2959       4.272936           218.0       1          0          0         0   \n",
       "58559      4.238255           149.0       1          0          0         0   \n",
       "1197       4.232394           142.0       1          1          0         0   \n",
       "260        4.231076           251.0       1          1          0         0   \n",
       "1208       4.219626           107.0       1          0          0         0   \n",
       "\n",
       "         Comedy  Crime  ...  FilmNoir  Horror  IMAX  Musical  Mystery  \\\n",
       "filmeId                 ...                                             \n",
       "2959          0      1  ...         0       0     0        0        0   \n",
       "58559         0      1  ...         0       0     1        0        0   \n",
       "1197          1      0  ...         0       0     0        0        0   \n",
       "260           0      0  ...         0       0     0        0        0   \n",
       "1208          0      0  ...         0       0     0        0        0   \n",
       "\n",
       "         Romance  SciFi  Thriller  War  Western  \n",
       "filmeId                                          \n",
       "2959           0      0         1    0        0  \n",
       "58559          0      0         0    0        0  \n",
       "1197           1      0         0    0        0  \n",
       "260            0      1         0    0        0  \n",
       "1208           0      0         0    1        0  \n",
       "\n",
       "[5 rows x 23 columns]"
      ]
     },
     "execution_count": 143,
     "metadata": {},
     "output_type": "execute_result"
    }
   ],
   "source": [
    "# solução: encontrando os top 5 filmes desses generos\n",
    "top5_action = filmes.query('Action == 1').sort_values('nota_media',ascending=False)\n",
    "top5_action.iloc[[0,1,2,3,4]]"
   ]
  },
  {
   "cell_type": "code",
   "execution_count": 142,
   "metadata": {},
   "outputs": [
    {
     "data": {
      "text/html": [
       "<div>\n",
       "<style scoped>\n",
       "    .dataframe tbody tr th:only-of-type {\n",
       "        vertical-align: middle;\n",
       "    }\n",
       "\n",
       "    .dataframe tbody tr th {\n",
       "        vertical-align: top;\n",
       "    }\n",
       "\n",
       "    .dataframe thead th {\n",
       "        text-align: right;\n",
       "    }\n",
       "</style>\n",
       "<table border=\"1\" class=\"dataframe\">\n",
       "  <thead>\n",
       "    <tr style=\"text-align: right;\">\n",
       "      <th></th>\n",
       "      <th>titulo</th>\n",
       "      <th>ano_de_lancamento</th>\n",
       "      <th>nota_media</th>\n",
       "      <th>total_de_votos</th>\n",
       "      <th>Action</th>\n",
       "      <th>Adventure</th>\n",
       "      <th>Animation</th>\n",
       "      <th>Children</th>\n",
       "      <th>Comedy</th>\n",
       "      <th>Crime</th>\n",
       "      <th>...</th>\n",
       "      <th>FilmNoir</th>\n",
       "      <th>Horror</th>\n",
       "      <th>IMAX</th>\n",
       "      <th>Musical</th>\n",
       "      <th>Mystery</th>\n",
       "      <th>Romance</th>\n",
       "      <th>SciFi</th>\n",
       "      <th>Thriller</th>\n",
       "      <th>War</th>\n",
       "      <th>Western</th>\n",
       "    </tr>\n",
       "    <tr>\n",
       "      <th>filmeId</th>\n",
       "      <th></th>\n",
       "      <th></th>\n",
       "      <th></th>\n",
       "      <th></th>\n",
       "      <th></th>\n",
       "      <th></th>\n",
       "      <th></th>\n",
       "      <th></th>\n",
       "      <th></th>\n",
       "      <th></th>\n",
       "      <th></th>\n",
       "      <th></th>\n",
       "      <th></th>\n",
       "      <th></th>\n",
       "      <th></th>\n",
       "      <th></th>\n",
       "      <th></th>\n",
       "      <th></th>\n",
       "      <th></th>\n",
       "      <th></th>\n",
       "      <th></th>\n",
       "    </tr>\n",
       "  </thead>\n",
       "  <tbody>\n",
       "    <tr>\n",
       "      <th>318</th>\n",
       "      <td>Shawshank Redemption, The (1994)</td>\n",
       "      <td>1994.0</td>\n",
       "      <td>4.429022</td>\n",
       "      <td>317.0</td>\n",
       "      <td>0</td>\n",
       "      <td>0</td>\n",
       "      <td>0</td>\n",
       "      <td>0</td>\n",
       "      <td>0</td>\n",
       "      <td>1</td>\n",
       "      <td>...</td>\n",
       "      <td>0</td>\n",
       "      <td>0</td>\n",
       "      <td>0</td>\n",
       "      <td>0</td>\n",
       "      <td>0</td>\n",
       "      <td>0</td>\n",
       "      <td>0</td>\n",
       "      <td>0</td>\n",
       "      <td>0</td>\n",
       "      <td>0</td>\n",
       "    </tr>\n",
       "    <tr>\n",
       "      <th>858</th>\n",
       "      <td>Godfather, The (1972)</td>\n",
       "      <td>1972.0</td>\n",
       "      <td>4.289062</td>\n",
       "      <td>192.0</td>\n",
       "      <td>0</td>\n",
       "      <td>0</td>\n",
       "      <td>0</td>\n",
       "      <td>0</td>\n",
       "      <td>0</td>\n",
       "      <td>1</td>\n",
       "      <td>...</td>\n",
       "      <td>0</td>\n",
       "      <td>0</td>\n",
       "      <td>0</td>\n",
       "      <td>0</td>\n",
       "      <td>0</td>\n",
       "      <td>0</td>\n",
       "      <td>0</td>\n",
       "      <td>0</td>\n",
       "      <td>0</td>\n",
       "      <td>0</td>\n",
       "    </tr>\n",
       "    <tr>\n",
       "      <th>2959</th>\n",
       "      <td>Fight Club (1999)</td>\n",
       "      <td>1999.0</td>\n",
       "      <td>4.272936</td>\n",
       "      <td>218.0</td>\n",
       "      <td>1</td>\n",
       "      <td>0</td>\n",
       "      <td>0</td>\n",
       "      <td>0</td>\n",
       "      <td>0</td>\n",
       "      <td>1</td>\n",
       "      <td>...</td>\n",
       "      <td>0</td>\n",
       "      <td>0</td>\n",
       "      <td>0</td>\n",
       "      <td>0</td>\n",
       "      <td>0</td>\n",
       "      <td>0</td>\n",
       "      <td>0</td>\n",
       "      <td>1</td>\n",
       "      <td>0</td>\n",
       "      <td>0</td>\n",
       "    </tr>\n",
       "    <tr>\n",
       "      <th>1276</th>\n",
       "      <td>Cool Hand Luke (1967)</td>\n",
       "      <td>1967.0</td>\n",
       "      <td>4.271930</td>\n",
       "      <td>57.0</td>\n",
       "      <td>0</td>\n",
       "      <td>0</td>\n",
       "      <td>0</td>\n",
       "      <td>0</td>\n",
       "      <td>0</td>\n",
       "      <td>0</td>\n",
       "      <td>...</td>\n",
       "      <td>0</td>\n",
       "      <td>0</td>\n",
       "      <td>0</td>\n",
       "      <td>0</td>\n",
       "      <td>0</td>\n",
       "      <td>0</td>\n",
       "      <td>0</td>\n",
       "      <td>0</td>\n",
       "      <td>0</td>\n",
       "      <td>0</td>\n",
       "    </tr>\n",
       "    <tr>\n",
       "      <th>1221</th>\n",
       "      <td>Godfather: Part II, The (1974)</td>\n",
       "      <td>1974.0</td>\n",
       "      <td>4.259690</td>\n",
       "      <td>129.0</td>\n",
       "      <td>0</td>\n",
       "      <td>0</td>\n",
       "      <td>0</td>\n",
       "      <td>0</td>\n",
       "      <td>0</td>\n",
       "      <td>1</td>\n",
       "      <td>...</td>\n",
       "      <td>0</td>\n",
       "      <td>0</td>\n",
       "      <td>0</td>\n",
       "      <td>0</td>\n",
       "      <td>0</td>\n",
       "      <td>0</td>\n",
       "      <td>0</td>\n",
       "      <td>0</td>\n",
       "      <td>0</td>\n",
       "      <td>0</td>\n",
       "    </tr>\n",
       "  </tbody>\n",
       "</table>\n",
       "<p>5 rows × 23 columns</p>\n",
       "</div>"
      ],
      "text/plain": [
       "                                   titulo  ano_de_lancamento  nota_media  \\\n",
       "filmeId                                                                    \n",
       "318      Shawshank Redemption, The (1994)             1994.0    4.429022   \n",
       "858                 Godfather, The (1972)             1972.0    4.289062   \n",
       "2959                    Fight Club (1999)             1999.0    4.272936   \n",
       "1276                Cool Hand Luke (1967)             1967.0    4.271930   \n",
       "1221       Godfather: Part II, The (1974)             1974.0    4.259690   \n",
       "\n",
       "         total_de_votos  Action  Adventure  Animation  Children  Comedy  \\\n",
       "filmeId                                                                   \n",
       "318               317.0       0          0          0         0       0   \n",
       "858               192.0       0          0          0         0       0   \n",
       "2959              218.0       1          0          0         0       0   \n",
       "1276               57.0       0          0          0         0       0   \n",
       "1221              129.0       0          0          0         0       0   \n",
       "\n",
       "         Crime  ...  FilmNoir  Horror  IMAX  Musical  Mystery  Romance  SciFi  \\\n",
       "filmeId         ...                                                             \n",
       "318          1  ...         0       0     0        0        0        0      0   \n",
       "858          1  ...         0       0     0        0        0        0      0   \n",
       "2959         1  ...         0       0     0        0        0        0      0   \n",
       "1276         0  ...         0       0     0        0        0        0      0   \n",
       "1221         1  ...         0       0     0        0        0        0      0   \n",
       "\n",
       "         Thriller  War  Western  \n",
       "filmeId                          \n",
       "318             0    0        0  \n",
       "858             0    0        0  \n",
       "2959            1    0        0  \n",
       "1276            0    0        0  \n",
       "1221            0    0        0  \n",
       "\n",
       "[5 rows x 23 columns]"
      ]
     },
     "execution_count": 142,
     "metadata": {},
     "output_type": "execute_result"
    }
   ],
   "source": [
    "top5_drama = filmes.query('Drama == 1').sort_values('nota_media',ascending=False)\n",
    "top5_drama.iloc[[0,1,2,3,4]]"
   ]
  },
  {
   "cell_type": "markdown",
   "metadata": {},
   "source": [
    "## Pergunta: Quais são os 2 generos com maior valor de correlação com a `nota_media`? E os 2 com menor valor de correlação com a `nota_media`?\n",
    "\n",
    "- O pandas possui a função `corr` para calcular correlação entre todas as colunas"
   ]
  },
  {
   "cell_type": "code",
   "execution_count": 175,
   "metadata": {},
   "outputs": [
    {
     "data": {
      "text/plain": [
       "nota_media           1.000000\n",
       "total_de_votos       0.342584\n",
       "Drama                0.277662\n",
       "Crime                0.190220\n",
       "Mystery              0.129914\n",
       "War                  0.125615\n",
       "FilmNoir             0.081766\n",
       "IMAX                 0.064931\n",
       "Animation            0.043071\n",
       "Documentary         -0.003486\n",
       "Musical             -0.008529\n",
       "Thriller            -0.016782\n",
       "Fantasy             -0.020986\n",
       "Children            -0.030360\n",
       "Horror              -0.033877\n",
       "Western             -0.059642\n",
       "Romance             -0.072002\n",
       "Adventure           -0.079985\n",
       "SciFi               -0.136717\n",
       "Action              -0.154089\n",
       "ano_de_lancamento   -0.159146\n",
       "Comedy              -0.256005\n",
       "Name: nota_media, dtype: float64"
      ]
     },
     "execution_count": 175,
     "metadata": {},
     "output_type": "execute_result"
    }
   ],
   "source": [
    "aux = filmes.corr().sort_values('nota_media',ascending=False)['nota_media']\n",
    "aux"
   ]
  },
  {
   "cell_type": "code",
   "execution_count": 177,
   "metadata": {},
   "outputs": [
    {
     "name": "stdout",
     "output_type": "stream",
     "text": [
      "As duas categorias com maiores correlação são Drama(0.28) e Crime(0.19)\n",
      "********************************************************************************\n",
      "As duas categorias com Menores correlação são Documentário(-0.003) e Musical(-0.01)\n"
     ]
    }
   ],
   "source": [
    "# solucao\n",
    "print(\"As duas categorias com maiores correlação são Drama({}) e Crime({})\".format(aux[2].round(2),aux[3].round(2)))\n",
    "print(\"*\"*80)\n",
    "print(\"As duas categorias com Menores correlação são Documentário({}) e Musical({})\".format(aux[9].round(3),aux[10].round(2)))"
   ]
  },
  {
   "cell_type": "markdown",
   "metadata": {},
   "source": [
    "## Pergunta: Quais são os 2 generos com maior valor de correlação com `total_de_votos`? E quais os 2 com menor valor de correlação com `total_de_votos`?"
   ]
  },
  {
   "cell_type": "code",
   "execution_count": 189,
   "metadata": {},
   "outputs": [
    {
     "data": {
      "text/plain": [
       "total_de_votos       1.000000\n",
       "nota_media           0.342584\n",
       "Adventure            0.104380\n",
       "War                  0.087999\n",
       "Thriller             0.085525\n",
       "Crime                0.079766\n",
       "Action               0.066239\n",
       "SciFi                0.063802\n",
       "Animation            0.023442\n",
       "Drama                0.018779\n",
       "Children             0.001764\n",
       "Mystery             -0.007051\n",
       "Fantasy             -0.009976\n",
       "IMAX                -0.016285\n",
       "Musical             -0.024741\n",
       "ano_de_lancamento   -0.028709\n",
       "Horror              -0.036132\n",
       "FilmNoir            -0.039408\n",
       "Romance             -0.045427\n",
       "Documentary         -0.055010\n",
       "Western             -0.060789\n",
       "Comedy              -0.128527\n",
       "Name: total_de_votos, dtype: float64"
      ]
     },
     "execution_count": 189,
     "metadata": {},
     "output_type": "execute_result"
    }
   ],
   "source": [
    "aux = filmes.corr().sort_values('total_de_votos',ascending=False)['total_de_votos']\n",
    "aux"
   ]
  },
  {
   "cell_type": "code",
   "execution_count": 185,
   "metadata": {},
   "outputs": [
    {
     "name": "stdout",
     "output_type": "stream",
     "text": [
      "As duas categorias com maiores correlação são Aventura(0.1) e Guerra(0.09)\n",
      "********************************************************************************\n",
      "As duas categorias com Menores correlação são Infantil(0.002) e Mistério(-0.007)\n"
     ]
    }
   ],
   "source": [
    "# solucao\n",
    "print(\"As duas categorias com maiores correlação são Aventura({}) e Guerra({})\".format(aux[2].round(2),aux[3].round(2)))\n",
    "print(\"*\"*80)\n",
    "print(\"As duas categorias com Menores correlação são Infantil({}) e Mistério({})\".format(aux[10].round(3),aux[11].round(3)))"
   ]
  },
  {
   "cell_type": "markdown",
   "metadata": {},
   "source": [
    "## Pergunta: Visualize graficamente o relacionamento entre ano de lançamento e nota média\n",
    "\n",
    "- Use o gráfico `lineplot`"
   ]
  },
  {
   "cell_type": "code",
   "execution_count": 205,
   "metadata": {},
   "outputs": [
    {
     "data": {
      "text/plain": [
       "Text(0.5, 1.0, 'Gráfico que mostra a correlação entre nota média e ana de lançamento')"
      ]
     },
     "execution_count": 205,
     "metadata": {},
     "output_type": "execute_result"
    },
    {
     "data": {
      "image/png": "[encoded data removed]",
      "text/plain": [
       "<Figure size 1440x576 with 1 Axes>"
      ]
     },
     "metadata": {
      "needs_background": "light"
     },
     "output_type": "display_data"
    }
   ],
   "source": [
    "# solucao\n",
    "total_de_votos_e_ano_lan_values = filmes[['nota_media','ano_de_lancamento']]\n",
    "plt.figure(figsize=(20,8))\n",
    "ax = sns.lineplot(x='ano_de_lancamento',y='nota_media',data=total_de_votos_e_ano_lan_values)\n",
    "ax.set_xlabel('Ano de lançamento',fontsize=20)\n",
    "ax.set_ylabel('Nota média',fontsize=20)\n",
    "ax.set_title('Gráfico que mostra a correlação entre nota média e ana de lançamento',fontsize=20)"
   ]
  },
  {
   "cell_type": "markdown",
   "metadata": {},
   "source": [
    "## Pergunta: Interprete a correlação entre `ano_de_lancamento` e a `nota_media`?\n",
    "\n",
    "- Calcule a correlação numericamente (use o `corr` do pandas)\n",
    "- Correlação não implica causalidade, qual \"problema\" na coleta dos dados pode gerar esse tipo de correlação?"
   ]
  },
  {
   "cell_type": "code",
   "execution_count": 203,
   "metadata": {},
   "outputs": [
    {
     "data": {
      "text/html": [
       "<div>\n",
       "<style scoped>\n",
       "    .dataframe tbody tr th:only-of-type {\n",
       "        vertical-align: middle;\n",
       "    }\n",
       "\n",
       "    .dataframe tbody tr th {\n",
       "        vertical-align: top;\n",
       "    }\n",
       "\n",
       "    .dataframe thead th {\n",
       "        text-align: right;\n",
       "    }\n",
       "</style>\n",
       "<table border=\"1\" class=\"dataframe\">\n",
       "  <thead>\n",
       "    <tr style=\"text-align: right;\">\n",
       "      <th></th>\n",
       "      <th>nota_media</th>\n",
       "      <th>ano_de_lancamento</th>\n",
       "    </tr>\n",
       "  </thead>\n",
       "  <tbody>\n",
       "    <tr>\n",
       "      <th>nota_media</th>\n",
       "      <td>1.000000</td>\n",
       "      <td>-0.159146</td>\n",
       "    </tr>\n",
       "    <tr>\n",
       "      <th>ano_de_lancamento</th>\n",
       "      <td>-0.159146</td>\n",
       "      <td>1.000000</td>\n",
       "    </tr>\n",
       "  </tbody>\n",
       "</table>\n",
       "</div>"
      ],
      "text/plain": [
       "                   nota_media  ano_de_lancamento\n",
       "nota_media           1.000000          -0.159146\n",
       "ano_de_lancamento   -0.159146           1.000000"
      ]
     },
     "execution_count": 203,
     "metadata": {},
     "output_type": "execute_result"
    }
   ],
   "source": [
    "# solução (código)\n",
    "corr_total_de_votos_e_ano_lan_values = filmes[['nota_media','ano_de_lancamento']].corr()\n",
    "corr_total_de_votos_e_ano_lan_values"
   ]
  },
  {
   "cell_type": "code",
   "execution_count": 207,
   "metadata": {},
   "outputs": [
    {
     "data": {
      "text/plain": [
       "Text(0.5, 1.0, 'Gráfico que mostra a correlação entre nota média e ana de lançamento')"
      ]
     },
     "execution_count": 207,
     "metadata": {},
     "output_type": "execute_result"
    },
    {
     "data": {
      "image/png": "[encoded data removed]",
      "text/plain": [
       "<Figure size 1440x432 with 1 Axes>"
      ]
     },
     "metadata": {
      "needs_background": "light"
     },
     "output_type": "display_data"
    }
   ],
   "source": [
    "plt.figure(figsize=(20,6))\n",
    "ax = sns.scatterplot(x='ano_de_lancamento',y='nota_media',data=total_de_votos_e_ano_lan_values)\n",
    "ax.set_xlabel('Ano de lançamento',fontsize=20)\n",
    "ax.set_ylabel('Nota média',fontsize=20)\n",
    "ax.set_title('Gráfico que mostra a correlação entre nota média e ana de lançamento',fontsize=20)"
   ]
  },
  {
   "cell_type": "markdown",
   "metadata": {},
   "source": [
    "### Solução (explicação)\n",
    "\n",
    "    O que podemos ver que a há mais filmes entre as decadas de 1990 e 2010 e isso causa o baixo valor de correlação(próximo a zero).\n"
   ]
  },
  {
   "cell_type": "code",
   "execution_count": 275,
   "metadata": {},
   "outputs": [
    {
     "data": {
      "image/png": "[encoded data removed]",
      "text/plain": [
       "<Figure size 432x288 with 1 Axes>"
      ]
     },
     "metadata": {
      "needs_background": "light"
     },
     "output_type": "display_data"
    }
   ],
   "source": [
    "ano_lan = []\n",
    "media = []\n",
    "for i in range(len(filmes[['nota_media','ano_de_lancamento']])):\n",
    "    if filmes[['nota_media','ano_de_lancamento']].iloc[i].values[1] > 1994:\n",
    "        ano_lan.append(filmes['ano_de_lancamento'].iloc[i])\n",
    "        media.append(filmes['nota_media'].iloc[i])\n",
    "decada_de_90_pra_frente = pd.DataFrame({'Ano_lan':ano_lan,'Media':media})\n",
    "ax = sns.scatterplot(x=\"Ano_lan\",y=\"Media\",data=decada_de_90_pra_frente)\n",
    "ax = sns.lineplot(x=\"Ano_lan\",y=\"Media\",data=decada_de_90_pra_frente,color='red')"
   ]
  },
  {
   "cell_type": "code",
   "execution_count": 276,
   "metadata": {},
   "outputs": [
    {
     "data": {
      "text/html": [
       "<div>\n",
       "<style scoped>\n",
       "    .dataframe tbody tr th:only-of-type {\n",
       "        vertical-align: middle;\n",
       "    }\n",
       "\n",
       "    .dataframe tbody tr th {\n",
       "        vertical-align: top;\n",
       "    }\n",
       "\n",
       "    .dataframe thead th {\n",
       "        text-align: right;\n",
       "    }\n",
       "</style>\n",
       "<table border=\"1\" class=\"dataframe\">\n",
       "  <thead>\n",
       "    <tr style=\"text-align: right;\">\n",
       "      <th></th>\n",
       "      <th>Ano_lan</th>\n",
       "      <th>Media</th>\n",
       "    </tr>\n",
       "  </thead>\n",
       "  <tbody>\n",
       "    <tr>\n",
       "      <th>Ano_lan</th>\n",
       "      <td>1.000000</td>\n",
       "      <td>0.348603</td>\n",
       "    </tr>\n",
       "    <tr>\n",
       "      <th>Media</th>\n",
       "      <td>0.348603</td>\n",
       "      <td>1.000000</td>\n",
       "    </tr>\n",
       "  </tbody>\n",
       "</table>\n",
       "</div>"
      ],
      "text/plain": [
       "          Ano_lan     Media\n",
       "Ano_lan  1.000000  0.348603\n",
       "Media    0.348603  1.000000"
      ]
     },
     "execution_count": 276,
     "metadata": {},
     "output_type": "execute_result"
    }
   ],
   "source": [
    "decada_de_90_pra_frente.corr()"
   ]
  },
  {
   "cell_type": "markdown",
   "metadata": {},
   "source": [
    "Observe que já há um valor positivo e dobro do módulo do valor da correlação anterior."
   ]
  },
  {
   "cell_type": "markdown",
   "metadata": {},
   "source": [
    "## Pergunta: analise um pairplot\n",
    "\n",
    "- crie uma variável chamada `infos` baseada nas colunas `ano_de_lancamento`, `nota_media` e `total_de_votos` de `filmes`\n",
    "- faça o pairplot usando seaborn\n",
    "- coloque uma regressão linear para cada pequeno plot dentro dele"
   ]
  },
  {
   "cell_type": "code",
   "execution_count": 282,
   "metadata": {},
   "outputs": [
    {
     "data": {
      "image/png": "[encoded data removed]",
      "text/plain": [
       "<Figure size 540x540 with 12 Axes>"
      ]
     },
     "metadata": {
      "needs_background": "light"
     },
     "output_type": "display_data"
    }
   ],
   "source": [
    "# solução\n",
    "infos = filmes[['ano_de_lancamento','nota_media','total_de_votos']]\n",
    "ax = sns.pairplot(infos,kind='reg')"
   ]
  },
  {
   "cell_type": "markdown",
   "metadata": {},
   "source": [
    "## Pergunta: analise um pairplot dos filmes de `Animation`\n",
    "\n",
    "- use o dataframe `filmes`\n",
    "- em um único pairplot separe com cores distintas os filmes da categoria `Animation` dos outros\n",
    "- use uma palete como `husl`\n",
    "- use marcadores distintos para cada um dos dois grupos\n",
    "- faça o pairplot usando seaborn e coloque uma regressão linear para cada pequeno plot dentro dele\n",
    "- tanto em x quanto y use somente três variáveis: `total_de_votos`, `ano_de_lancamento`, `nota_media`"
   ]
  },
  {
   "cell_type": "code",
   "execution_count": 288,
   "metadata": {},
   "outputs": [
    {
     "data": {
      "text/html": [
       "<div>\n",
       "<style scoped>\n",
       "    .dataframe tbody tr th:only-of-type {\n",
       "        vertical-align: middle;\n",
       "    }\n",
       "\n",
       "    .dataframe tbody tr th {\n",
       "        vertical-align: top;\n",
       "    }\n",
       "\n",
       "    .dataframe thead th {\n",
       "        text-align: right;\n",
       "    }\n",
       "</style>\n",
       "<table border=\"1\" class=\"dataframe\">\n",
       "  <thead>\n",
       "    <tr style=\"text-align: right;\">\n",
       "      <th></th>\n",
       "      <th>ano_de_lancamento</th>\n",
       "      <th>nota_media</th>\n",
       "      <th>total_de_votos</th>\n",
       "      <th>Animation</th>\n",
       "    </tr>\n",
       "    <tr>\n",
       "      <th>filmeId</th>\n",
       "      <th></th>\n",
       "      <th></th>\n",
       "      <th></th>\n",
       "      <th></th>\n",
       "    </tr>\n",
       "  </thead>\n",
       "  <tbody>\n",
       "    <tr>\n",
       "      <th>1</th>\n",
       "      <td>1995.0</td>\n",
       "      <td>3.920930</td>\n",
       "      <td>215.0</td>\n",
       "      <td>1</td>\n",
       "    </tr>\n",
       "    <tr>\n",
       "      <th>2</th>\n",
       "      <td>1995.0</td>\n",
       "      <td>3.431818</td>\n",
       "      <td>110.0</td>\n",
       "      <td>0</td>\n",
       "    </tr>\n",
       "    <tr>\n",
       "      <th>3</th>\n",
       "      <td>1995.0</td>\n",
       "      <td>3.259615</td>\n",
       "      <td>52.0</td>\n",
       "      <td>0</td>\n",
       "    </tr>\n",
       "    <tr>\n",
       "      <th>6</th>\n",
       "      <td>1995.0</td>\n",
       "      <td>3.946078</td>\n",
       "      <td>102.0</td>\n",
       "      <td>0</td>\n",
       "    </tr>\n",
       "    <tr>\n",
       "      <th>7</th>\n",
       "      <td>1995.0</td>\n",
       "      <td>3.185185</td>\n",
       "      <td>54.0</td>\n",
       "      <td>0</td>\n",
       "    </tr>\n",
       "    <tr>\n",
       "      <th>...</th>\n",
       "      <td>...</td>\n",
       "      <td>...</td>\n",
       "      <td>...</td>\n",
       "      <td>...</td>\n",
       "    </tr>\n",
       "    <tr>\n",
       "      <th>109374</th>\n",
       "      <td>2014.0</td>\n",
       "      <td>3.778846</td>\n",
       "      <td>52.0</td>\n",
       "      <td>0</td>\n",
       "    </tr>\n",
       "    <tr>\n",
       "      <th>109487</th>\n",
       "      <td>2014.0</td>\n",
       "      <td>3.993151</td>\n",
       "      <td>73.0</td>\n",
       "      <td>0</td>\n",
       "    </tr>\n",
       "    <tr>\n",
       "      <th>112852</th>\n",
       "      <td>2014.0</td>\n",
       "      <td>4.050847</td>\n",
       "      <td>59.0</td>\n",
       "      <td>0</td>\n",
       "    </tr>\n",
       "    <tr>\n",
       "      <th>116797</th>\n",
       "      <td>2014.0</td>\n",
       "      <td>4.020000</td>\n",
       "      <td>50.0</td>\n",
       "      <td>0</td>\n",
       "    </tr>\n",
       "    <tr>\n",
       "      <th>122904</th>\n",
       "      <td>2016.0</td>\n",
       "      <td>3.833333</td>\n",
       "      <td>54.0</td>\n",
       "      <td>0</td>\n",
       "    </tr>\n",
       "  </tbody>\n",
       "</table>\n",
       "<p>450 rows × 4 columns</p>\n",
       "</div>"
      ],
      "text/plain": [
       "         ano_de_lancamento  nota_media  total_de_votos  Animation\n",
       "filmeId                                                          \n",
       "1                   1995.0    3.920930           215.0          1\n",
       "2                   1995.0    3.431818           110.0          0\n",
       "3                   1995.0    3.259615            52.0          0\n",
       "6                   1995.0    3.946078           102.0          0\n",
       "7                   1995.0    3.185185            54.0          0\n",
       "...                    ...         ...             ...        ...\n",
       "109374              2014.0    3.778846            52.0          0\n",
       "109487              2014.0    3.993151            73.0          0\n",
       "112852              2014.0    4.050847            59.0          0\n",
       "116797              2014.0    4.020000            50.0          0\n",
       "122904              2016.0    3.833333            54.0          0\n",
       "\n",
       "[450 rows x 4 columns]"
      ]
     },
     "execution_count": 288,
     "metadata": {},
     "output_type": "execute_result"
    }
   ],
   "source": [
    "infos = filmes[['ano_de_lancamento','nota_media','total_de_votos','Animation']]\n",
    "infos"
   ]
  },
  {
   "cell_type": "code",
   "execution_count": 290,
   "metadata": {},
   "outputs": [
    {
     "ename": "RuntimeError",
     "evalue": "Selected KDE bandwidth is 0. Cannot estimate density.",
     "output_type": "error",
     "traceback": [
      "\u001b[1;31m---------------------------------------------------------------------------\u001b[0m",
      "\u001b[1;31mValueError\u001b[0m                                Traceback (most recent call last)",
      "\u001b[1;32mc:\\python38\\lib\\site-packages\\statsmodels\\nonparametric\\kde.py\u001b[0m in \u001b[0;36mkdensityfft\u001b[1;34m(X, kernel, bw, weights, gridsize, adjust, clip, cut, retgrid)\u001b[0m\n\u001b[0;32m    450\u001b[0m     \u001b[1;32mtry\u001b[0m\u001b[1;33m:\u001b[0m\u001b[1;33m\u001b[0m\u001b[1;33m\u001b[0m\u001b[0m\n\u001b[1;32m--> 451\u001b[1;33m         \u001b[0mbw\u001b[0m \u001b[1;33m=\u001b[0m \u001b[0mfloat\u001b[0m\u001b[1;33m(\u001b[0m\u001b[0mbw\u001b[0m\u001b[1;33m)\u001b[0m\u001b[1;33m\u001b[0m\u001b[1;33m\u001b[0m\u001b[0m\n\u001b[0m\u001b[0;32m    452\u001b[0m     \u001b[1;32mexcept\u001b[0m\u001b[1;33m:\u001b[0m\u001b[1;33m\u001b[0m\u001b[1;33m\u001b[0m\u001b[0m\n",
      "\u001b[1;31mValueError\u001b[0m: could not convert string to float: 'scott'",
      "\nDuring handling of the above exception, another exception occurred:\n",
      "\u001b[1;31mRuntimeError\u001b[0m                              Traceback (most recent call last)",
      "\u001b[1;32m<ipython-input-290-aa09773cca91>\u001b[0m in \u001b[0;36m<module>\u001b[1;34m\u001b[0m\n\u001b[1;32m----> 1\u001b[1;33m \u001b[0msns\u001b[0m\u001b[1;33m.\u001b[0m\u001b[0mpairplot\u001b[0m\u001b[1;33m(\u001b[0m\u001b[0minfos\u001b[0m\u001b[1;33m,\u001b[0m\u001b[0mkind\u001b[0m\u001b[1;33m=\u001b[0m\u001b[1;34m'reg'\u001b[0m\u001b[1;33m,\u001b[0m\u001b[0mpalette\u001b[0m\u001b[1;33m=\u001b[0m\u001b[1;34m'husl'\u001b[0m\u001b[1;33m,\u001b[0m\u001b[0mhue\u001b[0m\u001b[1;33m=\u001b[0m\u001b[1;34m'Animation'\u001b[0m\u001b[1;33m)\u001b[0m\u001b[1;33m\u001b[0m\u001b[1;33m\u001b[0m\u001b[0m\n\u001b[0m",
      "\u001b[1;32mc:\\python38\\lib\\site-packages\\seaborn\\axisgrid.py\u001b[0m in \u001b[0;36mpairplot\u001b[1;34m(data, hue, hue_order, palette, vars, x_vars, y_vars, kind, diag_kind, markers, height, aspect, dropna, plot_kws, diag_kws, grid_kws, size)\u001b[0m\n\u001b[0;32m   2109\u001b[0m             \u001b[0mdiag_kws\u001b[0m\u001b[1;33m.\u001b[0m\u001b[0msetdefault\u001b[0m\u001b[1;33m(\u001b[0m\u001b[1;34m\"shade\"\u001b[0m\u001b[1;33m,\u001b[0m \u001b[1;32mTrue\u001b[0m\u001b[1;33m)\u001b[0m\u001b[1;33m\u001b[0m\u001b[1;33m\u001b[0m\u001b[0m\n\u001b[0;32m   2110\u001b[0m             \u001b[0mdiag_kws\u001b[0m\u001b[1;33m[\u001b[0m\u001b[1;34m\"legend\"\u001b[0m\u001b[1;33m]\u001b[0m \u001b[1;33m=\u001b[0m \u001b[1;32mFalse\u001b[0m\u001b[1;33m\u001b[0m\u001b[1;33m\u001b[0m\u001b[0m\n\u001b[1;32m-> 2111\u001b[1;33m             \u001b[0mgrid\u001b[0m\u001b[1;33m.\u001b[0m\u001b[0mmap_diag\u001b[0m\u001b[1;33m(\u001b[0m\u001b[0mkdeplot\u001b[0m\u001b[1;33m,\u001b[0m \u001b[1;33m**\u001b[0m\u001b[0mdiag_kws\u001b[0m\u001b[1;33m)\u001b[0m\u001b[1;33m\u001b[0m\u001b[1;33m\u001b[0m\u001b[0m\n\u001b[0m\u001b[0;32m   2112\u001b[0m \u001b[1;33m\u001b[0m\u001b[0m\n\u001b[0;32m   2113\u001b[0m     \u001b[1;31m# Maybe plot on the off-diagonals\u001b[0m\u001b[1;33m\u001b[0m\u001b[1;33m\u001b[0m\u001b[1;33m\u001b[0m\u001b[0m\n",
      "\u001b[1;32mc:\\python38\\lib\\site-packages\\seaborn\\axisgrid.py\u001b[0m in \u001b[0;36mmap_diag\u001b[1;34m(self, func, **kwargs)\u001b[0m\n\u001b[0;32m   1397\u001b[0m                     \u001b[0mcolor\u001b[0m \u001b[1;33m=\u001b[0m \u001b[0mfixed_color\u001b[0m\u001b[1;33m\u001b[0m\u001b[1;33m\u001b[0m\u001b[0m\n\u001b[0;32m   1398\u001b[0m \u001b[1;33m\u001b[0m\u001b[0m\n\u001b[1;32m-> 1399\u001b[1;33m                 \u001b[0mfunc\u001b[0m\u001b[1;33m(\u001b[0m\u001b[0mdata_k\u001b[0m\u001b[1;33m,\u001b[0m \u001b[0mlabel\u001b[0m\u001b[1;33m=\u001b[0m\u001b[0mlabel_k\u001b[0m\u001b[1;33m,\u001b[0m \u001b[0mcolor\u001b[0m\u001b[1;33m=\u001b[0m\u001b[0mcolor\u001b[0m\u001b[1;33m,\u001b[0m \u001b[1;33m**\u001b[0m\u001b[0mkwargs\u001b[0m\u001b[1;33m)\u001b[0m\u001b[1;33m\u001b[0m\u001b[1;33m\u001b[0m\u001b[0m\n\u001b[0m\u001b[0;32m   1400\u001b[0m \u001b[1;33m\u001b[0m\u001b[0m\n\u001b[0;32m   1401\u001b[0m             \u001b[0mself\u001b[0m\u001b[1;33m.\u001b[0m\u001b[0m_clean_axis\u001b[0m\u001b[1;33m(\u001b[0m\u001b[0max\u001b[0m\u001b[1;33m)\u001b[0m\u001b[1;33m\u001b[0m\u001b[1;33m\u001b[0m\u001b[0m\n",
      "\u001b[1;32mc:\\python38\\lib\\site-packages\\seaborn\\distributions.py\u001b[0m in \u001b[0;36mkdeplot\u001b[1;34m(data, data2, shade, vertical, kernel, bw, gridsize, cut, clip, legend, cumulative, shade_lowest, cbar, cbar_ax, cbar_kws, ax, **kwargs)\u001b[0m\n\u001b[0;32m    687\u001b[0m                                 cbar, cbar_ax, cbar_kws, ax, **kwargs)\n\u001b[0;32m    688\u001b[0m     \u001b[1;32melse\u001b[0m\u001b[1;33m:\u001b[0m\u001b[1;33m\u001b[0m\u001b[1;33m\u001b[0m\u001b[0m\n\u001b[1;32m--> 689\u001b[1;33m         ax = _univariate_kdeplot(data, shade, vertical, kernel, bw,\n\u001b[0m\u001b[0;32m    690\u001b[0m                                  \u001b[0mgridsize\u001b[0m\u001b[1;33m,\u001b[0m \u001b[0mcut\u001b[0m\u001b[1;33m,\u001b[0m \u001b[0mclip\u001b[0m\u001b[1;33m,\u001b[0m \u001b[0mlegend\u001b[0m\u001b[1;33m,\u001b[0m \u001b[0max\u001b[0m\u001b[1;33m,\u001b[0m\u001b[1;33m\u001b[0m\u001b[1;33m\u001b[0m\u001b[0m\n\u001b[0;32m    691\u001b[0m                                  cumulative=cumulative, **kwargs)\n",
      "\u001b[1;32mc:\\python38\\lib\\site-packages\\seaborn\\distributions.py\u001b[0m in \u001b[0;36m_univariate_kdeplot\u001b[1;34m(data, shade, vertical, kernel, bw, gridsize, cut, clip, legend, ax, cumulative, **kwargs)\u001b[0m\n\u001b[0;32m    279\u001b[0m     \u001b[1;32mif\u001b[0m \u001b[0m_has_statsmodels\u001b[0m\u001b[1;33m:\u001b[0m\u001b[1;33m\u001b[0m\u001b[1;33m\u001b[0m\u001b[0m\n\u001b[0;32m    280\u001b[0m         \u001b[1;31m# Prefer using statsmodels for kernel flexibility\u001b[0m\u001b[1;33m\u001b[0m\u001b[1;33m\u001b[0m\u001b[1;33m\u001b[0m\u001b[0m\n\u001b[1;32m--> 281\u001b[1;33m         x, y = _statsmodels_univariate_kde(data, kernel, bw,\n\u001b[0m\u001b[0;32m    282\u001b[0m                                            \u001b[0mgridsize\u001b[0m\u001b[1;33m,\u001b[0m \u001b[0mcut\u001b[0m\u001b[1;33m,\u001b[0m \u001b[0mclip\u001b[0m\u001b[1;33m,\u001b[0m\u001b[1;33m\u001b[0m\u001b[1;33m\u001b[0m\u001b[0m\n\u001b[0;32m    283\u001b[0m                                            cumulative=cumulative)\n",
      "\u001b[1;32mc:\\python38\\lib\\site-packages\\seaborn\\distributions.py\u001b[0m in \u001b[0;36m_statsmodels_univariate_kde\u001b[1;34m(data, kernel, bw, gridsize, cut, clip, cumulative)\u001b[0m\n\u001b[0;32m    353\u001b[0m     \u001b[0mfft\u001b[0m \u001b[1;33m=\u001b[0m \u001b[0mkernel\u001b[0m \u001b[1;33m==\u001b[0m \u001b[1;34m\"gau\"\u001b[0m\u001b[1;33m\u001b[0m\u001b[1;33m\u001b[0m\u001b[0m\n\u001b[0;32m    354\u001b[0m     \u001b[0mkde\u001b[0m \u001b[1;33m=\u001b[0m \u001b[0msmnp\u001b[0m\u001b[1;33m.\u001b[0m\u001b[0mKDEUnivariate\u001b[0m\u001b[1;33m(\u001b[0m\u001b[0mdata\u001b[0m\u001b[1;33m)\u001b[0m\u001b[1;33m\u001b[0m\u001b[1;33m\u001b[0m\u001b[0m\n\u001b[1;32m--> 355\u001b[1;33m     \u001b[0mkde\u001b[0m\u001b[1;33m.\u001b[0m\u001b[0mfit\u001b[0m\u001b[1;33m(\u001b[0m\u001b[0mkernel\u001b[0m\u001b[1;33m,\u001b[0m \u001b[0mbw\u001b[0m\u001b[1;33m,\u001b[0m \u001b[0mfft\u001b[0m\u001b[1;33m,\u001b[0m \u001b[0mgridsize\u001b[0m\u001b[1;33m=\u001b[0m\u001b[0mgridsize\u001b[0m\u001b[1;33m,\u001b[0m \u001b[0mcut\u001b[0m\u001b[1;33m=\u001b[0m\u001b[0mcut\u001b[0m\u001b[1;33m,\u001b[0m \u001b[0mclip\u001b[0m\u001b[1;33m=\u001b[0m\u001b[0mclip\u001b[0m\u001b[1;33m)\u001b[0m\u001b[1;33m\u001b[0m\u001b[1;33m\u001b[0m\u001b[0m\n\u001b[0m\u001b[0;32m    356\u001b[0m     \u001b[1;32mif\u001b[0m \u001b[0mcumulative\u001b[0m\u001b[1;33m:\u001b[0m\u001b[1;33m\u001b[0m\u001b[1;33m\u001b[0m\u001b[0m\n\u001b[0;32m    357\u001b[0m         \u001b[0mgrid\u001b[0m\u001b[1;33m,\u001b[0m \u001b[0my\u001b[0m \u001b[1;33m=\u001b[0m \u001b[0mkde\u001b[0m\u001b[1;33m.\u001b[0m\u001b[0msupport\u001b[0m\u001b[1;33m,\u001b[0m \u001b[0mkde\u001b[0m\u001b[1;33m.\u001b[0m\u001b[0mcdf\u001b[0m\u001b[1;33m\u001b[0m\u001b[1;33m\u001b[0m\u001b[0m\n",
      "\u001b[1;32mc:\\python38\\lib\\site-packages\\statsmodels\\nonparametric\\kde.py\u001b[0m in \u001b[0;36mfit\u001b[1;34m(self, kernel, bw, fft, weights, gridsize, adjust, cut, clip)\u001b[0m\n\u001b[0;32m    136\u001b[0m                 \u001b[0mmsg\u001b[0m \u001b[1;33m=\u001b[0m \u001b[1;34m\"Weights are not implemented for fft\"\u001b[0m\u001b[1;33m\u001b[0m\u001b[1;33m\u001b[0m\u001b[0m\n\u001b[0;32m    137\u001b[0m                 \u001b[1;32mraise\u001b[0m \u001b[0mNotImplementedError\u001b[0m\u001b[1;33m(\u001b[0m\u001b[0mmsg\u001b[0m\u001b[1;33m)\u001b[0m\u001b[1;33m\u001b[0m\u001b[1;33m\u001b[0m\u001b[0m\n\u001b[1;32m--> 138\u001b[1;33m             density, grid, bw = kdensityfft(endog, kernel=kernel, bw=bw,\n\u001b[0m\u001b[0;32m    139\u001b[0m                     \u001b[0madjust\u001b[0m\u001b[1;33m=\u001b[0m\u001b[0madjust\u001b[0m\u001b[1;33m,\u001b[0m \u001b[0mweights\u001b[0m\u001b[1;33m=\u001b[0m\u001b[0mweights\u001b[0m\u001b[1;33m,\u001b[0m \u001b[0mgridsize\u001b[0m\u001b[1;33m=\u001b[0m\u001b[0mgridsize\u001b[0m\u001b[1;33m,\u001b[0m\u001b[1;33m\u001b[0m\u001b[1;33m\u001b[0m\u001b[0m\n\u001b[0;32m    140\u001b[0m                     clip=clip, cut=cut)\n",
      "\u001b[1;32mc:\\python38\\lib\\site-packages\\statsmodels\\nonparametric\\kde.py\u001b[0m in \u001b[0;36mkdensityfft\u001b[1;34m(X, kernel, bw, weights, gridsize, adjust, clip, cut, retgrid)\u001b[0m\n\u001b[0;32m    451\u001b[0m         \u001b[0mbw\u001b[0m \u001b[1;33m=\u001b[0m \u001b[0mfloat\u001b[0m\u001b[1;33m(\u001b[0m\u001b[0mbw\u001b[0m\u001b[1;33m)\u001b[0m\u001b[1;33m\u001b[0m\u001b[1;33m\u001b[0m\u001b[0m\n\u001b[0;32m    452\u001b[0m     \u001b[1;32mexcept\u001b[0m\u001b[1;33m:\u001b[0m\u001b[1;33m\u001b[0m\u001b[1;33m\u001b[0m\u001b[0m\n\u001b[1;32m--> 453\u001b[1;33m         \u001b[0mbw\u001b[0m \u001b[1;33m=\u001b[0m \u001b[0mbandwidths\u001b[0m\u001b[1;33m.\u001b[0m\u001b[0mselect_bandwidth\u001b[0m\u001b[1;33m(\u001b[0m\u001b[0mX\u001b[0m\u001b[1;33m,\u001b[0m \u001b[0mbw\u001b[0m\u001b[1;33m,\u001b[0m \u001b[0mkern\u001b[0m\u001b[1;33m)\u001b[0m \u001b[1;31m# will cross-val fit this pattern?\u001b[0m\u001b[1;33m\u001b[0m\u001b[1;33m\u001b[0m\u001b[0m\n\u001b[0m\u001b[0;32m    454\u001b[0m     \u001b[0mbw\u001b[0m \u001b[1;33m*=\u001b[0m \u001b[0madjust\u001b[0m\u001b[1;33m\u001b[0m\u001b[1;33m\u001b[0m\u001b[0m\n\u001b[0;32m    455\u001b[0m \u001b[1;33m\u001b[0m\u001b[0m\n",
      "\u001b[1;32mc:\\python38\\lib\\site-packages\\statsmodels\\nonparametric\\bandwidths.py\u001b[0m in \u001b[0;36mselect_bandwidth\u001b[1;34m(x, bw, kernel)\u001b[0m\n\u001b[0;32m    172\u001b[0m         \u001b[1;31m# eventually this can fall back on another selection criterion.\u001b[0m\u001b[1;33m\u001b[0m\u001b[1;33m\u001b[0m\u001b[1;33m\u001b[0m\u001b[0m\n\u001b[0;32m    173\u001b[0m         \u001b[0merr\u001b[0m \u001b[1;33m=\u001b[0m \u001b[1;34m\"Selected KDE bandwidth is 0. Cannot estimate density.\"\u001b[0m\u001b[1;33m\u001b[0m\u001b[1;33m\u001b[0m\u001b[0m\n\u001b[1;32m--> 174\u001b[1;33m         \u001b[1;32mraise\u001b[0m \u001b[0mRuntimeError\u001b[0m\u001b[1;33m(\u001b[0m\u001b[0merr\u001b[0m\u001b[1;33m)\u001b[0m\u001b[1;33m\u001b[0m\u001b[1;33m\u001b[0m\u001b[0m\n\u001b[0m\u001b[0;32m    175\u001b[0m     \u001b[1;32melse\u001b[0m\u001b[1;33m:\u001b[0m\u001b[1;33m\u001b[0m\u001b[1;33m\u001b[0m\u001b[0m\n\u001b[0;32m    176\u001b[0m         \u001b[1;32mreturn\u001b[0m \u001b[0mbandwidth\u001b[0m\u001b[1;33m\u001b[0m\u001b[1;33m\u001b[0m\u001b[0m\n",
      "\u001b[1;31mRuntimeError\u001b[0m: Selected KDE bandwidth is 0. Cannot estimate density."
     ]
    },
    {
     "data": {
      "image/png": "[encoded data removed]",
      "text/plain": [
       "<Figure size 720x720 with 20 Axes>"
      ]
     },
     "metadata": {
      "needs_background": "light"
     },
     "output_type": "display_data"
    }
   ],
   "source": [
    "sns.pairplot(infos,kind='reg',palette='husl',hue='Animation')"
   ]
  },
  {
   "cell_type": "markdown",
   "metadata": {},
   "source": [
    "## Pergunta: Analise a regressão em relação ao ano de lançamento.\n",
    "\n",
    "- Como parece se comportar a `nota_media` de filmes de `Animation` mais antigos e mais recentes? (ano_de_lancamento x nota_media). Essa correlação parece ser baixa, mas parece ser linear?\n",
    "- E o `ano_de_lancamento` x `total_de_votos`?\n",
    "- E das outras categorias? Compare isso com os outros filmes.\n",
    "- O que leva você levantar como hipótese para esse resultado?"
   ]
  },
  {
   "cell_type": "markdown",
   "metadata": {},
   "source": [
    "### Solução:\n",
    "\n"
   ]
  },
  {
   "cell_type": "markdown",
   "metadata": {},
   "source": [
    "## Pergunta: Explore\n",
    "\n",
    "- compartilhe conosco 2 visualizações extras que julgar interessante\n",
    "- explique o que encontrou\n",
    "- use quantas células (texto ou código) julgar necessário"
   ]
  },
  {
   "cell_type": "code",
   "execution_count": null,
   "metadata": {},
   "outputs": [],
   "source": [
    "# solução"
   ]
  },
  {
   "cell_type": "code",
   "execution_count": null,
   "metadata": {},
   "outputs": [],
   "source": []
  }
 ],
 "metadata": {
  "kernelspec": {
   "display_name": "Python 3",
   "language": "python",
   "name": "python3"
  },
  "language_info": {
   "codemirror_mode": {
    "name": "ipython",
    "version": 3
   },
   "file_extension": ".py",
   "mimetype": "text/x-python",
   "name": "python",
   "nbconvert_exporter": "python",
   "pygments_lexer": "ipython3",
   "version": "3.8.3"
  }
 },
 "nbformat": 4,
 "nbformat_minor": 2
}

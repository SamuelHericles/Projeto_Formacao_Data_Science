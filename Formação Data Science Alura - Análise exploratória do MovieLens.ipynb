{
 "cells": [
  {
   "cell_type": "markdown",
   "metadata": {},
   "source": [
    "## Pergunta: Coloque um cabeçalho nesse notebook com o seu nome e resumindo o que descobriu ao explorar esses dados"
   ]
  },
  {
   "cell_type": "markdown",
   "metadata": {},
   "source": [
    "### <span style=\"color:red\">  Aluno : Samuel Hericles Souza Silveira </span>\n",
    "    \n",
    "### <span style=\"color:red\"> Data da realização: 07/06/2002 </span>"
   ]
  },
  {
   "cell_type": "markdown",
   "metadata": {},
   "source": [
    "## Formação Data Science Alura - Análise exploratória do MovieLens\n",
    "\n",
    "Na formação de Data Scienda www.alura.com.br um dos conjuntos de dados que utilizamos é o de avaliações para filmes no site MovieLens. Neste projeto faremos uma análise exploratória desses dados."
   ]
  },
  {
   "cell_type": "markdown",
   "metadata": {},
   "source": [
    "### Dicas para o projeto completo:\n",
    "\n",
    "- todo gráfico deve ter um título, labels e legendas que fazem sentido\n",
    "- configure um tamanho adequado para os gráficos\n",
    "- utilize as versões dos arquivos de dados disponíveis no github"
   ]
  },
  {
   "cell_type": "markdown",
   "metadata": {},
   "source": [
    "## Pergunta: conferindo as versões utilizadas\n",
    "\n",
    "- Devemos usar pandas 0.24.0 ou mais recente\n",
    "- Devemos usar seaborn 0.9.0 ou mais recente\n",
    "- Devemos usar scipy 1.2.0 ou mais recente"
   ]
  },
  {
   "cell_type": "code",
   "execution_count": 452,
   "metadata": {},
   "outputs": [],
   "source": [
    "# Caso não possua algumas dessas bibliotecas, descomente-a e rode esta célula.\n",
    "\n",
    "# !pip install pandas==\"0.24.0\" --quiet\n",
    "# !pip install seaborn==\"0.9.0\" --quiet\n",
    "# !pip install scipy==\"1.2.0\" --quiet\n",
    "# !pip install statsmodels\n",
    "# !pip install matplotlib"
   ]
  },
  {
   "cell_type": "code",
   "execution_count": 453,
   "metadata": {},
   "outputs": [
    {
     "name": "stdout",
     "output_type": "stream",
     "text": [
      "Usando pandas 1.0.4\n",
      "Usando seaborn 0.9.0\n",
      "Usando scipy 1.4.1\n"
     ]
    }
   ],
   "source": [
    "import pandas as pd\n",
    "import seaborn as sns\n",
    "import scipy\n",
    "import matplotlib.pyplot as plt\n",
    "from scipy.stats import shapiro \n",
    "from scipy.stats import  anderson\n",
    "from scipy.stats import normaltest \n",
    "\n",
    "print(\"Usando pandas %s\" % pd.__version__)\n",
    "print(\"Usando seaborn %s\" % sns.__version__)\n",
    "print(\"Usando scipy %s\" % scipy.__version__)"
   ]
  },
  {
   "cell_type": "markdown",
   "metadata": {},
   "source": [
    "## Pergunta: carregue os filmes\n",
    "\n",
    "- os dados `https://raw.githubusercontent.com/alura-cursos/formacao-data-science/master/movies.csv` devem ser carregado em `filmes`\n",
    "- renomeie as colunas para `filmeId`, `titulo` e `generos`\n",
    "- configure o indice (`index`) para ser o `filmeId`"
   ]
  },
  {
   "cell_type": "code",
   "execution_count": 454,
   "metadata": {},
   "outputs": [],
   "source": [
    "# solução\n",
    "filmes = pd.read_csv('https://raw.githubusercontent.com/alura-cursos/formacao-data-science/master/movies.csv')\n",
    "filmes.columns = ['filmeId','titulo','generos']\n",
    "filmes.set_index('filmeId',inplace=True)"
   ]
  },
  {
   "cell_type": "code",
   "execution_count": 455,
   "metadata": {},
   "outputs": [
    {
     "data": {
      "text/html": [
       "<div>\n",
       "<style scoped>\n",
       "    .dataframe tbody tr th:only-of-type {\n",
       "        vertical-align: middle;\n",
       "    }\n",
       "\n",
       "    .dataframe tbody tr th {\n",
       "        vertical-align: top;\n",
       "    }\n",
       "\n",
       "    .dataframe thead th {\n",
       "        text-align: right;\n",
       "    }\n",
       "</style>\n",
       "<table border=\"1\" class=\"dataframe\">\n",
       "  <thead>\n",
       "    <tr style=\"text-align: right;\">\n",
       "      <th></th>\n",
       "      <th>titulo</th>\n",
       "      <th>generos</th>\n",
       "    </tr>\n",
       "    <tr>\n",
       "      <th>filmeId</th>\n",
       "      <th></th>\n",
       "      <th></th>\n",
       "    </tr>\n",
       "  </thead>\n",
       "  <tbody>\n",
       "    <tr>\n",
       "      <th>1</th>\n",
       "      <td>Toy Story (1995)</td>\n",
       "      <td>Adventure|Animation|Children|Comedy|Fantasy</td>\n",
       "    </tr>\n",
       "    <tr>\n",
       "      <th>2</th>\n",
       "      <td>Jumanji (1995)</td>\n",
       "      <td>Adventure|Children|Fantasy</td>\n",
       "    </tr>\n",
       "    <tr>\n",
       "      <th>3</th>\n",
       "      <td>Grumpier Old Men (1995)</td>\n",
       "      <td>Comedy|Romance</td>\n",
       "    </tr>\n",
       "    <tr>\n",
       "      <th>4</th>\n",
       "      <td>Waiting to Exhale (1995)</td>\n",
       "      <td>Comedy|Drama|Romance</td>\n",
       "    </tr>\n",
       "    <tr>\n",
       "      <th>5</th>\n",
       "      <td>Father of the Bride Part II (1995)</td>\n",
       "      <td>Comedy</td>\n",
       "    </tr>\n",
       "  </tbody>\n",
       "</table>\n",
       "</div>"
      ],
      "text/plain": [
       "                                     titulo  \\\n",
       "filmeId                                       \n",
       "1                          Toy Story (1995)   \n",
       "2                            Jumanji (1995)   \n",
       "3                   Grumpier Old Men (1995)   \n",
       "4                  Waiting to Exhale (1995)   \n",
       "5        Father of the Bride Part II (1995)   \n",
       "\n",
       "                                             generos  \n",
       "filmeId                                               \n",
       "1        Adventure|Animation|Children|Comedy|Fantasy  \n",
       "2                         Adventure|Children|Fantasy  \n",
       "3                                     Comedy|Romance  \n",
       "4                               Comedy|Drama|Romance  \n",
       "5                                             Comedy  "
      ]
     },
     "execution_count": 455,
     "metadata": {},
     "output_type": "execute_result"
    }
   ],
   "source": [
    "filmes.head()"
   ]
  },
  {
   "cell_type": "code",
   "execution_count": 456,
   "metadata": {
    "scrolled": true
   },
   "outputs": [
    {
     "name": "stdout",
     "output_type": "stream",
     "text": [
      "Carregamos 9742 filmes\n"
     ]
    }
   ],
   "source": [
    "print(\"Carregamos %d filmes\" % len(filmes))\n",
    "if(len(filmes) != 9742):\n",
    "    print(\"ERRO! O conjunto de dados que estamos trabalhando nesse projeto possui 9742 elementos.\")"
   ]
  },
  {
   "cell_type": "markdown",
   "metadata": {},
   "source": [
    "Vamos extrair o ano dos filmes (código já pronto): "
   ]
  },
  {
   "cell_type": "code",
   "execution_count": 457,
   "metadata": {},
   "outputs": [
    {
     "data": {
      "text/html": [
       "<div>\n",
       "<style scoped>\n",
       "    .dataframe tbody tr th:only-of-type {\n",
       "        vertical-align: middle;\n",
       "    }\n",
       "\n",
       "    .dataframe tbody tr th {\n",
       "        vertical-align: top;\n",
       "    }\n",
       "\n",
       "    .dataframe thead th {\n",
       "        text-align: right;\n",
       "    }\n",
       "</style>\n",
       "<table border=\"1\" class=\"dataframe\">\n",
       "  <thead>\n",
       "    <tr style=\"text-align: right;\">\n",
       "      <th></th>\n",
       "      <th>titulo</th>\n",
       "      <th>generos</th>\n",
       "      <th>ano_de_lancamento</th>\n",
       "    </tr>\n",
       "    <tr>\n",
       "      <th>filmeId</th>\n",
       "      <th></th>\n",
       "      <th></th>\n",
       "      <th></th>\n",
       "    </tr>\n",
       "  </thead>\n",
       "  <tbody>\n",
       "    <tr>\n",
       "      <th>1</th>\n",
       "      <td>Toy Story (1995)</td>\n",
       "      <td>Adventure|Animation|Children|Comedy|Fantasy</td>\n",
       "      <td>1995.0</td>\n",
       "    </tr>\n",
       "    <tr>\n",
       "      <th>2</th>\n",
       "      <td>Jumanji (1995)</td>\n",
       "      <td>Adventure|Children|Fantasy</td>\n",
       "      <td>1995.0</td>\n",
       "    </tr>\n",
       "    <tr>\n",
       "      <th>3</th>\n",
       "      <td>Grumpier Old Men (1995)</td>\n",
       "      <td>Comedy|Romance</td>\n",
       "      <td>1995.0</td>\n",
       "    </tr>\n",
       "    <tr>\n",
       "      <th>4</th>\n",
       "      <td>Waiting to Exhale (1995)</td>\n",
       "      <td>Comedy|Drama|Romance</td>\n",
       "      <td>1995.0</td>\n",
       "    </tr>\n",
       "    <tr>\n",
       "      <th>5</th>\n",
       "      <td>Father of the Bride Part II (1995)</td>\n",
       "      <td>Comedy</td>\n",
       "      <td>1995.0</td>\n",
       "    </tr>\n",
       "  </tbody>\n",
       "</table>\n",
       "</div>"
      ],
      "text/plain": [
       "                                     titulo  \\\n",
       "filmeId                                       \n",
       "1                          Toy Story (1995)   \n",
       "2                            Jumanji (1995)   \n",
       "3                   Grumpier Old Men (1995)   \n",
       "4                  Waiting to Exhale (1995)   \n",
       "5        Father of the Bride Part II (1995)   \n",
       "\n",
       "                                             generos  ano_de_lancamento  \n",
       "filmeId                                                                  \n",
       "1        Adventure|Animation|Children|Comedy|Fantasy             1995.0  \n",
       "2                         Adventure|Children|Fantasy             1995.0  \n",
       "3                                     Comedy|Romance             1995.0  \n",
       "4                               Comedy|Drama|Romance             1995.0  \n",
       "5                                             Comedy             1995.0  "
      ]
     },
     "execution_count": 457,
     "metadata": {},
     "output_type": "execute_result"
    }
   ],
   "source": [
    "ano_de_lancamento = filmes.titulo.str.extract(\"\\((\\d{4})\\)\")\n",
    "filmes['ano_de_lancamento'] = ano_de_lancamento.astype(float)\n",
    "filmes.head()"
   ]
  },
  {
   "cell_type": "markdown",
   "metadata": {},
   "source": [
    "## Pergunta: carregando as notas\n",
    "\n",
    "- os dados `https://raw.githubusercontent.com/alura-cursos/formacao-data-science/master/ratings.csv` devem ser carregado em `notas`\n",
    "- renomeie as colunas para `usuarioId`, `filmeId`, `nota` e `momento`"
   ]
  },
  {
   "cell_type": "code",
   "execution_count": 458,
   "metadata": {},
   "outputs": [],
   "source": [
    "# solução\n",
    "notas = pd.read_csv('https://raw.githubusercontent.com/alura-cursos/formacao-data-science/master/ratings.csv')\n",
    "notas.columns = ['usuarioId','filmeId','nota','momento']"
   ]
  },
  {
   "cell_type": "code",
   "execution_count": 459,
   "metadata": {},
   "outputs": [
    {
     "data": {
      "text/html": [
       "<div>\n",
       "<style scoped>\n",
       "    .dataframe tbody tr th:only-of-type {\n",
       "        vertical-align: middle;\n",
       "    }\n",
       "\n",
       "    .dataframe tbody tr th {\n",
       "        vertical-align: top;\n",
       "    }\n",
       "\n",
       "    .dataframe thead th {\n",
       "        text-align: right;\n",
       "    }\n",
       "</style>\n",
       "<table border=\"1\" class=\"dataframe\">\n",
       "  <thead>\n",
       "    <tr style=\"text-align: right;\">\n",
       "      <th></th>\n",
       "      <th>usuarioId</th>\n",
       "      <th>filmeId</th>\n",
       "      <th>nota</th>\n",
       "      <th>momento</th>\n",
       "    </tr>\n",
       "  </thead>\n",
       "  <tbody>\n",
       "    <tr>\n",
       "      <th>0</th>\n",
       "      <td>1</td>\n",
       "      <td>1</td>\n",
       "      <td>4.0</td>\n",
       "      <td>964982703</td>\n",
       "    </tr>\n",
       "    <tr>\n",
       "      <th>1</th>\n",
       "      <td>1</td>\n",
       "      <td>3</td>\n",
       "      <td>4.0</td>\n",
       "      <td>964981247</td>\n",
       "    </tr>\n",
       "    <tr>\n",
       "      <th>2</th>\n",
       "      <td>1</td>\n",
       "      <td>6</td>\n",
       "      <td>4.0</td>\n",
       "      <td>964982224</td>\n",
       "    </tr>\n",
       "    <tr>\n",
       "      <th>3</th>\n",
       "      <td>1</td>\n",
       "      <td>47</td>\n",
       "      <td>5.0</td>\n",
       "      <td>964983815</td>\n",
       "    </tr>\n",
       "    <tr>\n",
       "      <th>4</th>\n",
       "      <td>1</td>\n",
       "      <td>50</td>\n",
       "      <td>5.0</td>\n",
       "      <td>964982931</td>\n",
       "    </tr>\n",
       "  </tbody>\n",
       "</table>\n",
       "</div>"
      ],
      "text/plain": [
       "   usuarioId  filmeId  nota    momento\n",
       "0          1        1   4.0  964982703\n",
       "1          1        3   4.0  964981247\n",
       "2          1        6   4.0  964982224\n",
       "3          1       47   5.0  964983815\n",
       "4          1       50   5.0  964982931"
      ]
     },
     "execution_count": 459,
     "metadata": {},
     "output_type": "execute_result"
    }
   ],
   "source": [
    "notas.head()"
   ]
  },
  {
   "cell_type": "markdown",
   "metadata": {},
   "source": [
    "## Pergunta: gere uma nova feature, a média dos votos por filme\n",
    "\n",
    "- crie uma nova coluna chamada `nota_media` dentro do dataframe `filmes`\n",
    "\n",
    "Dicas:\n",
    "- como filmeId já é o indice de seu dataframe filmes, se você possui uma série com o número de votos por filme, basta atribuir uma nova coluna normalmente que será usado o mesmo índice"
   ]
  },
  {
   "cell_type": "code",
   "execution_count": 460,
   "metadata": {},
   "outputs": [],
   "source": [
    "# solução\n",
    "filme_por_nota = notas.groupby('filmeId').nota\n",
    "media_do_filme = filme_por_nota.mean()\n",
    "filmes['nota_media'] = media_do_filme"
   ]
  },
  {
   "cell_type": "markdown",
   "metadata": {},
   "source": [
    "<span style='color:blue'>\n",
    "Organiza pelo o groupby o id dos filmes e capturando sua nota, após isso, cálcula a média dos grupos.\n",
    "</span>"
   ]
  },
  {
   "cell_type": "code",
   "execution_count": 461,
   "metadata": {},
   "outputs": [
    {
     "data": {
      "text/html": [
       "<div>\n",
       "<style scoped>\n",
       "    .dataframe tbody tr th:only-of-type {\n",
       "        vertical-align: middle;\n",
       "    }\n",
       "\n",
       "    .dataframe tbody tr th {\n",
       "        vertical-align: top;\n",
       "    }\n",
       "\n",
       "    .dataframe thead th {\n",
       "        text-align: right;\n",
       "    }\n",
       "</style>\n",
       "<table border=\"1\" class=\"dataframe\">\n",
       "  <thead>\n",
       "    <tr style=\"text-align: right;\">\n",
       "      <th></th>\n",
       "      <th>titulo</th>\n",
       "      <th>generos</th>\n",
       "      <th>ano_de_lancamento</th>\n",
       "      <th>nota_media</th>\n",
       "    </tr>\n",
       "    <tr>\n",
       "      <th>filmeId</th>\n",
       "      <th></th>\n",
       "      <th></th>\n",
       "      <th></th>\n",
       "      <th></th>\n",
       "    </tr>\n",
       "  </thead>\n",
       "  <tbody>\n",
       "    <tr>\n",
       "      <th>1</th>\n",
       "      <td>Toy Story (1995)</td>\n",
       "      <td>Adventure|Animation|Children|Comedy|Fantasy</td>\n",
       "      <td>1995.0</td>\n",
       "      <td>3.920930</td>\n",
       "    </tr>\n",
       "    <tr>\n",
       "      <th>2</th>\n",
       "      <td>Jumanji (1995)</td>\n",
       "      <td>Adventure|Children|Fantasy</td>\n",
       "      <td>1995.0</td>\n",
       "      <td>3.431818</td>\n",
       "    </tr>\n",
       "    <tr>\n",
       "      <th>3</th>\n",
       "      <td>Grumpier Old Men (1995)</td>\n",
       "      <td>Comedy|Romance</td>\n",
       "      <td>1995.0</td>\n",
       "      <td>3.259615</td>\n",
       "    </tr>\n",
       "    <tr>\n",
       "      <th>4</th>\n",
       "      <td>Waiting to Exhale (1995)</td>\n",
       "      <td>Comedy|Drama|Romance</td>\n",
       "      <td>1995.0</td>\n",
       "      <td>2.357143</td>\n",
       "    </tr>\n",
       "    <tr>\n",
       "      <th>5</th>\n",
       "      <td>Father of the Bride Part II (1995)</td>\n",
       "      <td>Comedy</td>\n",
       "      <td>1995.0</td>\n",
       "      <td>3.071429</td>\n",
       "    </tr>\n",
       "  </tbody>\n",
       "</table>\n",
       "</div>"
      ],
      "text/plain": [
       "                                     titulo  \\\n",
       "filmeId                                       \n",
       "1                          Toy Story (1995)   \n",
       "2                            Jumanji (1995)   \n",
       "3                   Grumpier Old Men (1995)   \n",
       "4                  Waiting to Exhale (1995)   \n",
       "5        Father of the Bride Part II (1995)   \n",
       "\n",
       "                                             generos  ano_de_lancamento  \\\n",
       "filmeId                                                                   \n",
       "1        Adventure|Animation|Children|Comedy|Fantasy             1995.0   \n",
       "2                         Adventure|Children|Fantasy             1995.0   \n",
       "3                                     Comedy|Romance             1995.0   \n",
       "4                               Comedy|Drama|Romance             1995.0   \n",
       "5                                             Comedy             1995.0   \n",
       "\n",
       "         nota_media  \n",
       "filmeId              \n",
       "1          3.920930  \n",
       "2          3.431818  \n",
       "3          3.259615  \n",
       "4          2.357143  \n",
       "5          3.071429  "
      ]
     },
     "execution_count": 461,
     "metadata": {},
     "output_type": "execute_result"
    }
   ],
   "source": [
    "filmes.head()"
   ]
  },
  {
   "cell_type": "markdown",
   "metadata": {},
   "source": [
    "## Pergunta: remova os filmes com menos de 50 avaliações\n",
    "\n",
    "- conte o número de notas por filme\n",
    "- adicione uma coluna nova chamada `total_de_votos` a `filmes` que representa o número de avaliações que aquele filme teve no conjunto de dados\n",
    "- remova os que tem 49 ou menos de `filmes`"
   ]
  },
  {
   "cell_type": "markdown",
   "metadata": {},
   "source": [
    "## Solução"
   ]
  },
  {
   "cell_type": "code",
   "execution_count": 462,
   "metadata": {},
   "outputs": [],
   "source": [
    "# solução para calcular o total de votos por filme\n",
    "total_de_votos = notas['filmeId'].value_counts()\n",
    "filmes['total_de_votos'] = total_de_votos"
   ]
  },
  {
   "cell_type": "markdown",
   "metadata": {},
   "source": [
    "<span style='color:blue'>\n",
    "Conta a quantidade de notas dos filme, usando value_counts() ele organiza pelo index(filmeId) assim encotramos os valores.\n",
    "</span>"
   ]
  },
  {
   "cell_type": "code",
   "execution_count": 463,
   "metadata": {},
   "outputs": [],
   "source": [
    "# solução para criar a nova coluna e filtrar os filmes\n",
    "\n",
    "index_filmes_menos_50 = filmes.query('total_de_votos < 50').index\n",
    "index_filmes_menos_50\n",
    "filmes.drop(index = index_filmes_menos_50,inplace=True)\n",
    "filmes.dropna(inplace=True)"
   ]
  },
  {
   "cell_type": "markdown",
   "metadata": {},
   "source": [
    "<span style='color:blue'>\n",
    "Usando a função query() que retorna uma característica específica do dataframe, após isso organizamos os valores.\n",
    "</span>"
   ]
  },
  {
   "cell_type": "code",
   "execution_count": 464,
   "metadata": {},
   "outputs": [
    {
     "data": {
      "text/html": [
       "<div>\n",
       "<style scoped>\n",
       "    .dataframe tbody tr th:only-of-type {\n",
       "        vertical-align: middle;\n",
       "    }\n",
       "\n",
       "    .dataframe tbody tr th {\n",
       "        vertical-align: top;\n",
       "    }\n",
       "\n",
       "    .dataframe thead th {\n",
       "        text-align: right;\n",
       "    }\n",
       "</style>\n",
       "<table border=\"1\" class=\"dataframe\">\n",
       "  <thead>\n",
       "    <tr style=\"text-align: right;\">\n",
       "      <th></th>\n",
       "      <th>titulo</th>\n",
       "      <th>generos</th>\n",
       "      <th>ano_de_lancamento</th>\n",
       "      <th>nota_media</th>\n",
       "      <th>total_de_votos</th>\n",
       "    </tr>\n",
       "    <tr>\n",
       "      <th>filmeId</th>\n",
       "      <th></th>\n",
       "      <th></th>\n",
       "      <th></th>\n",
       "      <th></th>\n",
       "      <th></th>\n",
       "    </tr>\n",
       "  </thead>\n",
       "  <tbody>\n",
       "    <tr>\n",
       "      <th>1</th>\n",
       "      <td>Toy Story (1995)</td>\n",
       "      <td>Adventure|Animation|Children|Comedy|Fantasy</td>\n",
       "      <td>1995.0</td>\n",
       "      <td>3.920930</td>\n",
       "      <td>215.0</td>\n",
       "    </tr>\n",
       "    <tr>\n",
       "      <th>2</th>\n",
       "      <td>Jumanji (1995)</td>\n",
       "      <td>Adventure|Children|Fantasy</td>\n",
       "      <td>1995.0</td>\n",
       "      <td>3.431818</td>\n",
       "      <td>110.0</td>\n",
       "    </tr>\n",
       "    <tr>\n",
       "      <th>3</th>\n",
       "      <td>Grumpier Old Men (1995)</td>\n",
       "      <td>Comedy|Romance</td>\n",
       "      <td>1995.0</td>\n",
       "      <td>3.259615</td>\n",
       "      <td>52.0</td>\n",
       "    </tr>\n",
       "    <tr>\n",
       "      <th>6</th>\n",
       "      <td>Heat (1995)</td>\n",
       "      <td>Action|Crime|Thriller</td>\n",
       "      <td>1995.0</td>\n",
       "      <td>3.946078</td>\n",
       "      <td>102.0</td>\n",
       "    </tr>\n",
       "    <tr>\n",
       "      <th>7</th>\n",
       "      <td>Sabrina (1995)</td>\n",
       "      <td>Comedy|Romance</td>\n",
       "      <td>1995.0</td>\n",
       "      <td>3.185185</td>\n",
       "      <td>54.0</td>\n",
       "    </tr>\n",
       "  </tbody>\n",
       "</table>\n",
       "</div>"
      ],
      "text/plain": [
       "                          titulo                                      generos  \\\n",
       "filmeId                                                                         \n",
       "1               Toy Story (1995)  Adventure|Animation|Children|Comedy|Fantasy   \n",
       "2                 Jumanji (1995)                   Adventure|Children|Fantasy   \n",
       "3        Grumpier Old Men (1995)                               Comedy|Romance   \n",
       "6                    Heat (1995)                        Action|Crime|Thriller   \n",
       "7                 Sabrina (1995)                               Comedy|Romance   \n",
       "\n",
       "         ano_de_lancamento  nota_media  total_de_votos  \n",
       "filmeId                                                 \n",
       "1                   1995.0    3.920930           215.0  \n",
       "2                   1995.0    3.431818           110.0  \n",
       "3                   1995.0    3.259615            52.0  \n",
       "6                   1995.0    3.946078           102.0  \n",
       "7                   1995.0    3.185185            54.0  "
      ]
     },
     "execution_count": 464,
     "metadata": {},
     "output_type": "execute_result"
    }
   ],
   "source": [
    "filmes.head()"
   ]
  },
  {
   "cell_type": "markdown",
   "metadata": {},
   "source": [
    "# Visualizando os dados gerais"
   ]
  },
  {
   "cell_type": "markdown",
   "metadata": {},
   "source": [
    "## Pergunta: Visualize as notas médias\n",
    "\n",
    "- histograma\n",
    "- cummulative distribution function\n",
    "\n",
    "Dicas:\n",
    "\n",
    "- lembre-se de colocar um título nas imagens além de nomes nos eixos x e y\n",
    "- para gerar a versão cumulativa lembre-se de usar os parâmetros `hist_kws` e `kde_kws` para definir `'cumulative'=True`"
   ]
  },
  {
   "cell_type": "markdown",
   "metadata": {},
   "source": [
    "<span style='color:blue'>\n",
    "Fiz esta célula pois não estava entedendo os valores no eixo y dos histogramas do matplotlib e seaborn. Logo, depois percebi que os valores lá contidos são a percetagem de dados que percentem a tal intervalo compreendido no eixo x.\n",
    "</span>"
   ]
  },
  {
   "cell_type": "code",
   "execution_count": null,
   "metadata": {},
   "outputs": [],
   "source": [
    "medias = filmes['nota_media'].round(2).value_counts().index.transpose()\n",
    "freq_medias = filmes['nota_media'].round(2).value_counts().values.transpose()\n",
    "colunas = {'Medias':medias,'Frequência':freq_medias}\n",
    "medias_das_notas = pd.DataFrame(data=colunas)\n",
    "medias_das_notas.set_index('Medias')    \n",
    "sns.barplot(x=\"Frequência\",y=\"Medias\",data=medias_das_notas,color='y')"
   ]
  },
  {
   "cell_type": "markdown",
   "metadata": {},
   "source": [
    "<span style='color:blue'>\n",
    "Assim, as duas células abaixo são as requeridas pelo instrutor.\n",
    "</span>"
   ]
  },
  {
   "cell_type": "code",
   "execution_count": null,
   "metadata": {},
   "outputs": [],
   "source": [
    "# solução histograma\n",
    "plt.figure(figsize=(8,5))\n",
    "ax = sns.distplot(filmes['nota_media'],color='blue')\n",
    "ax.set(xlabel = 'nota média', ylabel='Percetagens de filmes',title=\"Histograma - Média das notas dos filmes\")\n",
    "ax.grid()"
   ]
  },
  {
   "cell_type": "markdown",
   "metadata": {},
   "source": [
    "<span style='color:blue'>\n",
    "Este histograma está proximo a uma gaussina com valores de skewness perto de zero e curtose mesoocurtica.\n",
    "</span>"
   ]
  },
  {
   "cell_type": "code",
   "execution_count": null,
   "metadata": {},
   "outputs": [],
   "source": [
    "# solução cumulativa\n",
    "kwargs = {'cumulative':True}\n",
    "ax = sns.distplot(filmes['nota_media'],hist_kws=kwargs)\n",
    "ax = sns.kdeplot(filmes['nota_media'],cumulative=True)\n",
    "ax.set(xlabel = 'Nota média', ylabel='Percetagens de filmes(%)',title=\"Gráfico cumulativo - Média das notas dos filmes\")\n",
    "ax.grid()"
   ]
  },
  {
   "cell_type": "markdown",
   "metadata": {},
   "source": [
    "<span style='color:blue'>\n",
    "Não consegui retirar a linha em azul que compreende susposta gaussiana(veja nos testes mais abaixo) da função displot, essa linha refere-se ao histograma das notas médias dos filmes, como vista na célula acima.\n",
    "</span>"
   ]
  },
  {
   "cell_type": "markdown",
   "metadata": {},
   "source": [
    "## Pergunta: Visualize o total de votos\n",
    "\n",
    "- histograma\n",
    "- cummulative distribution function"
   ]
  },
  {
   "cell_type": "code",
   "execution_count": null,
   "metadata": {},
   "outputs": [],
   "source": [
    "# solução histograma\n",
    "ax = sns.distplot(filmes['total_de_votos'],color='blue')\n",
    "ax.set(xlabel = 'Nota média', ylabel='% do total de votos',title=\"Histograma - Total de votos dos filmes\")\n",
    "ax.grid()"
   ]
  },
  {
   "cell_type": "markdown",
   "metadata": {},
   "source": [
    "<span style='color:blue'>\n",
    "Este histograma está proximo a uma gaussina com skewness>0 e curtose leptocurtica.\n",
    "</span>"
   ]
  },
  {
   "cell_type": "code",
   "execution_count": null,
   "metadata": {},
   "outputs": [],
   "source": [
    "# solução cumulativa\n",
    "kwargs = {'cumulative':True}\n",
    "ax = sns.distplot(filmes['total_de_votos'],hist_kws=kwargs)\n",
    "ax = sns.kdeplot(filmes['total_de_votos'],cumulative=True)\n",
    "ax.set(xlabel = 'Total de votos', ylabel='% de filmes',title=\"Gráfico cumulativo - Total de votos dos filmes\")\n",
    "ax.grid()"
   ]
  },
  {
   "cell_type": "markdown",
   "metadata": {},
   "source": [
    "## Pergunta: 20% dos filmes do dataframe tem nota maior que? \n",
    "\n",
    "- lembre-se da função `quantile` do pandas"
   ]
  },
  {
   "cell_type": "code",
   "execution_count": null,
   "metadata": {},
   "outputs": [],
   "source": [
    "# solução\n",
    "nota_limite_dos_20_porcento = filmes['nota_media'].quantile(0.2)\n",
    "nota_limite_dos_20_porcento"
   ]
  },
  {
   "cell_type": "markdown",
   "metadata": {},
   "source": [
    "<span style='color:blue'>\n",
    "A minha duvída aqui é que este 20% são dos piores filmes ou dos melhores filmes, o que fiz na célula acima foi dos piores filmes pegando todo o conjunto de dados.\n",
    "</span>"
   ]
  },
  {
   "cell_type": "code",
   "execution_count": null,
   "metadata": {},
   "outputs": [],
   "source": [
    "print(\"20 porcento dos filmes tem nota maior que de %.2f\" % nota_limite_dos_20_porcento)"
   ]
  },
  {
   "cell_type": "markdown",
   "metadata": {},
   "source": [
    "<span style='color:blue'>\n",
    "Aqui abaixo mostro a nota média dos 20% dos melhores filmes.\n",
    "</span>"
   ]
  },
  {
   "cell_type": "code",
   "execution_count": null,
   "metadata": {},
   "outputs": [],
   "source": [
    "nota_limite_dos_80_porcento = filmes['nota_media'].quantile(0.8)\n",
    "nota_limite_dos_80_porcento\n",
    "print(\"20 porcento dos melhores filmes tem nota maior que de %.2f\" % nota_limite_dos_80_porcento)"
   ]
  },
  {
   "cell_type": "markdown",
   "metadata": {},
   "source": [
    "## Vamos separar a coluna `generos` em diversas colunas.\n",
    "\n",
    "- O código já está pronto."
   ]
  },
  {
   "cell_type": "code",
   "execution_count": null,
   "metadata": {},
   "outputs": [],
   "source": [
    "filmes['generos'] = filmes['generos'].str.replace('-', '')\n",
    "generos = filmes['generos'].str.get_dummies()\n",
    "print(\"Temos %d generos distintos\" % generos.shape[1])"
   ]
  },
  {
   "cell_type": "code",
   "execution_count": null,
   "metadata": {},
   "outputs": [],
   "source": [
    "filmes = filmes.join(generos).drop(columns=['generos'], axis=1)\n",
    "filmes.head()"
   ]
  },
  {
   "cell_type": "markdown",
   "metadata": {},
   "source": [
    "## Pergunta: visualização de quantos filmes existem por genero\n",
    "\n",
    "- Para cada um dos generos você deve agrupar o número de filmes\n",
    "- Ordene as barras, na esquerda o genero com mais filmes, na direita o que tem menos filmes\n",
    "\n",
    "Dica:\n",
    "\n",
    "- Para fazer a soma de uma ou mais colunas individualmente você pode usar `seu_dataframe.sum()`\n",
    "- Não precisa usar o dataframe `filmes`, somente o dataframe `generos`\n",
    "- Em certas situações é mais fácil usar as funções de plotagem do pandas ao invés do seaborn"
   ]
  },
  {
   "cell_type": "code",
   "execution_count": null,
   "metadata": {},
   "outputs": [],
   "source": [
    "# solução\n",
    "genero = ['Action','Adventure', 'Animation', 'Children',\n",
    "           'Comedy', 'Crime', 'Documentary', 'Drama',\n",
    "           'Fantasy', 'FilmNoir', 'Horror', 'IMAX',\n",
    "           'Musical', 'Mystery','Romance', 'SciFi',\n",
    "           'Thriller', 'War', 'Western']\n",
    "quantidade_de_filmes_por_genero = []\n",
    "for i in genero:\n",
    "    quantidade_de_filmes_por_genero.append(filmes[i].sum())\n",
    "df_freq_filmes = pd.DataFrame({'Genero':genero,\n",
    "                               'Frequencia':quantidade_de_filmes_por_genero})\n",
    "df_popularidade = df_freq_filmes\n",
    "df_freq_filmes = df_freq_filmes.sort_values('Frequencia',ascending=False)\n",
    "df_freq_filmes.reset_index(drop=True, inplace=True)\n",
    "df_freq_filmes.head()"
   ]
  },
  {
   "cell_type": "markdown",
   "metadata": {},
   "source": [
    "<span style='color:blue'>\n",
    "Pega todos os generos de filmes, a partir deles soma quantidade de vezes que que sua colunas possui valores 1's e insere no dataframe.\n",
    "</span>"
   ]
  },
  {
   "cell_type": "code",
   "execution_count": null,
   "metadata": {},
   "outputs": [],
   "source": [
    "plt.figure(figsize=(20,8))\n",
    "ax = sns.barplot(x=\"Genero\",y=\"Frequencia\",data=df_freq_filmes,palette='GnBu_d')\n",
    "ax.set_xlabel('Gêneros',fontsize=20)\n",
    "ax.set_ylabel('Frequêncas',fontsize=20)\n",
    "ax.set_title('Frequências de filmes por gênero',fontsize=30)"
   ]
  },
  {
   "cell_type": "markdown",
   "metadata": {},
   "source": [
    "<span style='color:blue'>\n",
    "Vemos que filmes de drama e ação são bem proximos, além de filmes de crime e romance. Outra coisa a se notar, que se não todos, mas a maioria dos filmes possuem mais de duas categorias, logo duas ou mais categorias podem está presentes em filmes o que pode mostrar que alguns tipos de filmes podem ter contagens bem próximas.\n",
    "</span>"
   ]
  },
  {
   "cell_type": "markdown",
   "metadata": {},
   "source": [
    "## Pergunta: Quais são os 5 generos com mais filmes?\n",
    "\n",
    "Dica:\n",
    "\n",
    "- `sort_values()` pode ordenar uma Series do pandas"
   ]
  },
  {
   "cell_type": "code",
   "execution_count": null,
   "metadata": {},
   "outputs": [],
   "source": [
    "# solução\n",
    "top5_generos_em_quantidade_de_filmes = df_freq_filmes.head()"
   ]
  },
  {
   "cell_type": "code",
   "execution_count": null,
   "metadata": {},
   "outputs": [],
   "source": [
    "print(top5_generos_em_quantidade_de_filmes)"
   ]
  },
  {
   "cell_type": "markdown",
   "metadata": {},
   "source": [
    "## Pergunta: visualização de votos por genero\n",
    "\n",
    "- o código que gera os votos por genero já está pronto\n",
    "- ordene as categorias da mais visualizada para a menos visualizada\n",
    "- gere a visualização por genero"
   ]
  },
  {
   "cell_type": "code",
   "execution_count": null,
   "metadata": {},
   "outputs": [],
   "source": [
    "votos_por_genero_por_filme = pd.DataFrame((generos.values.T * filmes['total_de_votos'].values).T, columns = generos.columns)\n",
    "votos_por_genero_por_filme.head()"
   ]
  },
  {
   "cell_type": "code",
   "execution_count": null,
   "metadata": {},
   "outputs": [],
   "source": [
    "# solucão\n",
    "total_de_votos = []\n",
    "for i in votos_por_genero_por_filme.columns:\n",
    "    total_de_votos.append(votos_por_genero_por_filme[i].sum())\n",
    "df_popularidade['total_de_votos'] = total_de_votos\n",
    "total_de_votos"
   ]
  },
  {
   "cell_type": "markdown",
   "metadata": {},
   "source": [
    "<span style='color:blue'>\n",
    "Soma a quantidade de votos por categoria e organiza o vetor em ordem descrecente.\n",
    "</span>"
   ]
  },
  {
   "cell_type": "code",
   "execution_count": null,
   "metadata": {},
   "outputs": [],
   "source": [
    "# solução\n",
    "qt_de_votos_por_generos = pd.DataFrame({'Genero':votos_por_genero_por_filme.columns,\n",
    "                                        'Total de votos':total_de_votos})\n",
    "qt_de_votos_por_generos.reset_index(drop=True, inplace=True)\n",
    "qt_de_votos_por_generos.sort_values('Total de votos',ascending=False,inplace=True)\n",
    "qt_de_votos_por_generos.head()"
   ]
  },
  {
   "cell_type": "markdown",
   "metadata": {},
   "source": [
    "<span style='color:blue'>\n",
    "Coloca os resultados em um dataframe para facilitar a visualização do ranking.\n",
    "</span>"
   ]
  },
  {
   "cell_type": "code",
   "execution_count": null,
   "metadata": {},
   "outputs": [],
   "source": [
    "plt.figure(figsize=(20,8))\n",
    "ax = sns.barplot(x=\"Genero\",y=\"Total de votos\",data=qt_de_votos_por_generos,palette='GnBu_d')\n",
    "ax.set_xlabel('Gêneros',fontsize=20)\n",
    "ax.set_ylabel('Quantidade de votos',fontsize=20)\n",
    "ax.set_title('Quantidade de votos por gênero',fontsize=30)"
   ]
  },
  {
   "cell_type": "markdown",
   "metadata": {},
   "source": [
    "<span style='color:blue'>\n",
    "Vemos que filmes de drama e comédia são bem proximos, além de filmes de crime e SciFi. Outra coisa a se notar, que se não todos, mas a maioria dos filmes possuem mais de duas categorias, logo duas ou mais categorias podem está presentes em filmes o que pode mostrar que alguns tipos de filmes podem ter contagens bem próximas. Sendo assim, se um usuário votou em uma categoria pode está também votando em outra(as) junta.\n",
    "</span>"
   ]
  },
  {
   "cell_type": "markdown",
   "metadata": {},
   "source": [
    "## Pergunta : votos por filme por genero\n",
    "\n",
    "Queremos entender a quantidade de votos em relação a quantidade de filmes existentes naquele genero.\n",
    "\n",
    "Por exemplo: \n",
    "- se temos 1000 votos de `Ação` e 10 filmes desse genero, foram 100 votos por filme nesse genero.\n",
    "- se o gênero `Documentário` tem 2 filmes e 500 votos, ele tem 250 votos por filme nesse gênero.\n",
    "\n",
    "Queremos entender isso, a \"popularidade\" média de um filme em cada categoria, isto é, o número de votos dividido pelo número de filmes, organizado para cada categoria.\n",
    "\n",
    "- Você já possui o número de votos por genero\n",
    "- Calcule o número de votos por genero dividido pelo total de filmes por genero\n",
    "- Ordene do maior para o menor\n",
    "- Plote um gráfico para visualizarmos esses dados"
   ]
  },
  {
   "cell_type": "code",
   "execution_count": null,
   "metadata": {},
   "outputs": [],
   "source": [
    "# solucao código\n",
    "df_popularidade['Voto/Filme'] = df_popularidade['total_de_votos']/df_popularidade['Frequencia']\n",
    "df_popularidade.sort_values('Voto/Filme',ascending=False, inplace=True)"
   ]
  },
  {
   "cell_type": "code",
   "execution_count": null,
   "metadata": {},
   "outputs": [],
   "source": [
    "df_popularidade"
   ]
  },
  {
   "cell_type": "code",
   "execution_count": null,
   "metadata": {},
   "outputs": [],
   "source": [
    "# solução com visualização \n",
    "plt.figure(figsize=(20,8))\n",
    "ax = sns.barplot(x=\"Genero\",y=\"Voto/Filme\",data=df_popularidade,palette='GnBu_d')\n",
    "ax.set_xlabel('Gêneros',fontsize=20)\n",
    "ax.set_ylabel('Voto/Filme',fontsize=20)\n",
    "ax.set_title('Votos por filme por genero',fontsize=30)"
   ]
  },
  {
   "cell_type": "markdown",
   "metadata": {},
   "source": [
    "<span style='color:blue'>\n",
    "A categoria War tem maior valor de Voto/Filme pois a mesma tem apenas 19 filmes mas 2113 votos, ou seja, poucos filmes e muitos votos. Além disso, pode-se perceber um gosto dos usuários por filmes desse tipo em comparação de filmes de Western(velho oeste) que 12 filmes mas apenas 900 votos.\n",
    "    \n",
    "Contundo, pode-se também levar em questão sobre o argumentos de filmes com mais de uma categoria que filmes de guerra pode se correlacionar bem com todos os outros tipos de filmes.\n",
    "</span>"
   ]
  },
  {
   "cell_type": "markdown",
   "metadata": {},
   "source": [
    "## Pergunta: Olhando as 3 últimas visualizações o que você conclui sobre os generos `Action` e `War`?"
   ]
  },
  {
   "cell_type": "code",
   "execution_count": null,
   "metadata": {},
   "outputs": [],
   "source": [
    "df_popularidade"
   ]
  },
  {
   "cell_type": "markdown",
   "metadata": {},
   "source": [
    "### Solução (texto livre):\n",
    "    \n",
    "<span style='color:red'>\n",
    "    A nota do gênero Action é mais confiavel, pois houve mais pessoas vontado nesse estilo de filme. Logo, ocorre o contrário no genêro War porque ele recebe o valor valor em Voto/Filmes, mas só há 19 filmes e mais de 2000 votos. Além disso, vemos que os usuários gostam mais de filmes de ação, por conta que há mais filmes nessa categoria.\n",
    "</span>\n",
    "\n",
    "    "
   ]
  },
  {
   "cell_type": "markdown",
   "metadata": {},
   "source": [
    "## Pergunta: Crie 2 boxplots no mesmo plot comparando a coluna `total_de_votos` dos filmes de categoria `Horror` e `Adventure`  \n",
    "\n",
    "Dica:\n",
    "\n",
    "- as vezes é mais fácil usar o boxplot do matplotlib ao invés do seaborn\n",
    "- plt.boxplot suporta o parâmetro labels com uma lista de nomes para cada boxplot plotado"
   ]
  },
  {
   "cell_type": "code",
   "execution_count": null,
   "metadata": {},
   "outputs": [],
   "source": [
    "# solução:\n",
    "plt.boxplot([votos_por_genero_por_filme['Horror'],votos_por_genero_por_filme['Adventure']])\n",
    "plt.xticks([1, 2], ['Horror','Adventure'])\n",
    "plt.title('Boxplot dos filmes de horror e aventura',fontsize=16)\n",
    "plt.xlabel('Categoria de filme',fontsize=14)\n",
    "plt.ylabel('Quantidade de votos',fontsize=14)"
   ]
  },
  {
   "cell_type": "markdown",
   "metadata": {},
   "source": [
    "\n",
    "<span style='color:blue'>\n",
    "Este boxplot não mostra muita coisa, pois há uma enorme quantidade de valores nulos isso faz com as medidas de tedência central(média, mediana, moda, quartis,etc) que dependem da quantidade de amostra para dar um resultado mostram valores errados. Então, se retirarmos esses valores, podemos ver algo mais atraente para conclusões.\n",
    "</span>"
   ]
  },
  {
   "cell_type": "code",
   "execution_count": null,
   "metadata": {},
   "outputs": [],
   "source": [
    "Horror = votos_por_genero_por_filme['Horror']\n",
    "Aventura = votos_por_genero_por_filme['Adventure']\n",
    "plt.boxplot([Horror[Horror>0],Aventura[Aventura>0]])\n",
    "plt.xticks([1, 2], ['Horror','Adventure'])\n",
    "plt.title('Boxplot dos filmes de horror e aventura',fontsize=16)\n",
    "plt.xlabel('Categoria de filme',fontsize=14)\n",
    "plt.ylabel('Quantidade de votos',fontsize=14)"
   ]
  },
  {
   "cell_type": "markdown",
   "metadata": {},
   "source": [
    "## Pergunta: mostre agora um boxplot para cada uma das categorias\n",
    "\n",
    "Dica:\n",
    "- use generos.columns para acessar todos os gêneros\n",
    "- já removemos os hífens dos nomes das colunas quando criamos as colunas de gêneros\n",
    "- plt (pyplot) do matplotlib suporta a função xticks(rotation=90) para rotacionar os labels"
   ]
  },
  {
   "cell_type": "code",
   "execution_count": null,
   "metadata": {},
   "outputs": [],
   "source": [
    "plt.figure(figsize=(18,8))\n",
    "plt.boxplot(votos_por_genero_por_filme[generos.columns.values].transpose())\n",
    "plt.xticks([1, 2, 3, 4, 5, 6, 7, 8, 9, 10, 11, 12, 13, 14, 15, 16, 17, 18, 19], generos.columns.values)\n",
    "plt.title('Boxplot de tipos de filmes - sem a remoção do zeros',fontsize=16)\n",
    "plt.xlabel('Categoria de filme',fontsize=14)\n",
    "plt.ylabel('Quantidade de votos',fontsize=14)\n",
    "plt.grid()"
   ]
  },
  {
   "cell_type": "markdown",
   "metadata": {},
   "source": [
    "<span style='color:blue'>\n",
    "Este boxplot não mostra muita coisa, pois há uma enorme quantidade de valores nulos isso faz com as medidas de tedência central(média, mediana, moda, quartis,etc) que dependem da quantidade de amostra para dar um resultado mostram valores errados. Então, se retirarmos esses valores, podemos ver algo mais atraente para conclusões.\n",
    "</span>"
   ]
  },
  {
   "cell_type": "code",
   "execution_count": null,
   "metadata": {},
   "outputs": [],
   "source": [
    "a = []\n",
    "for i in generos.columns.values:\n",
    "    a.append(votos_por_genero_por_filme[i].values)\n",
    "b = []\n",
    "for i in range(1,19):\n",
    "    b.append(a[i][a[i]>0].transpose())\n",
    "\n",
    "plt.figure(figsize=(18,8))\n",
    "plt.boxplot(b)\n",
    "plt.xticks([1, 2, 3, 4, 5, 6, 7, 8, 9, 10, 11, 12, 13, 14, 15, 16, 17, 18, 19], generos.columns.values)\n",
    "plt.title('Boxplot de tipos de filmes - com a remoção do zeros',fontsize=16)\n",
    "plt.xlabel('Categoria de filme',fontsize=14)\n",
    "plt.ylabel('Quantidade de votos',fontsize=14)\n",
    "plt.grid()"
   ]
  },
  {
   "cell_type": "markdown",
   "metadata": {},
   "source": [
    "## Pergunta: desejo criar um filme com somente um dos gêneros: `Horror` ou `Adventure`. Quero ter uma chance maior de ter um faturamento que pague minhas contas, mesmo que não seja um super sucesso absurdo de vendas. Qual dos 2 gêneros você sugere?"
   ]
  },
  {
   "cell_type": "code",
   "execution_count": null,
   "metadata": {},
   "outputs": [],
   "source": [
    "Aventura = votos_por_genero_por_filme['Adventure']\n",
    "Horror = votos_por_genero_por_filme['Horror']\n",
    "\n",
    "plt.boxplot([Aventura[Aventura>0],Horror[Horror>0]])\n",
    "plt.xticks([1,2], ['Aventura','Horror'])\n",
    "plt.title('Boxplot de filmes de Horror e aventura',fontsize=16)\n",
    "plt.xlabel('Categoria de filme',fontsize=14)\n",
    "plt.ylabel('Quantidade de votos',fontsize=14)\n",
    "plt.grid()"
   ]
  },
  {
   "cell_type": "markdown",
   "metadata": {},
   "source": [
    "### Solução:\n",
    "\n",
    "<span style='color:red'>\n",
    "    Cria um filme de aventura! pois há um público maior nele(com base no total de votos), e você tem uma maior chance de obter uma boa nota conforme é visto no boxplot acima. Além disso,a mediana é mais proxima da média e a maior parte dos filmes são muito votados, ou seja, tem mais chance de serem vistos.\n",
    "\n",
    "</span>\n"
   ]
  },
  {
   "cell_type": "markdown",
   "metadata": {},
   "source": [
    "## Pergunta: nossa análise foi até então visual. Aplique um teste estatístico para verificar se existe significância estatística na distribuição dos votos dos filmes de `Adventure` e `Horror`. Sua recomendação continua a mesma? Explique.\n",
    "\n",
    "Passos:\n",
    "\n",
    "- visualize a distribuição de ambas através de histogramas\n",
    "- se suspeitar normalidade na distribuição, faça um teste de normalidade para ambas\n",
    "- aplique um teste adequado de comparação das distribuições\n",
    "- explique o resultado encontrado\n",
    "- utilize p=0.05"
   ]
  },
  {
   "cell_type": "code",
   "execution_count": null,
   "metadata": {
    "scrolled": true
   },
   "outputs": [],
   "source": [
    "# solucao histograma de aventura\n",
    "\n",
    "# Retirando os zeros no conjunto temos:\n",
    "plt.figure(figsize=(8,4))\n",
    "ax = Aventura[Aventura>0].hist()\n",
    "ax = plt.title('Histograma do números de votos de filmes de aventura',fontsize=14)\n",
    "ax = plt.xlabel('Número de votos',fontsize=14)\n",
    "ax = plt.ylabel('Quantidade de filmes',fontsize=14)"
   ]
  },
  {
   "cell_type": "markdown",
   "metadata": {},
   "source": [
    "<span style='color:blue'>\n",
    "Aqui podemos notar que pode parecer com uma distibuição gaussiana com skewness>0 e curtoe leptocurtica, mas para ter certeza faremos abaixo os testes estatítiscos.\n",
    "</span>"
   ]
  },
  {
   "cell_type": "code",
   "execution_count": null,
   "metadata": {},
   "outputs": [],
   "source": [
    "# solucao histograma de horror\n",
    "\n",
    "# Retirando os zeros no conjunto temos:\n",
    "plt.figure(figsize=(8,4))\n",
    "Horror[Horror>0].hist()\n",
    "ax = plt.title('Histograma do números de votos de filmes de horror',fontsize=14)\n",
    "ax = plt.xlabel('Número de votos',fontsize=14)\n",
    "ax = plt.ylabel('Quantidade de filmes',fontsize=14)"
   ]
  },
  {
   "cell_type": "markdown",
   "metadata": {},
   "source": [
    "<span style='color:blue'>\n",
    "Aqui podemos notar que  não parece com uma distibuição gaussiana, mas para ter certeza faremos abaixo os testes estatítiscos.\n",
    "</span>"
   ]
  },
  {
   "cell_type": "code",
   "execution_count": null,
   "metadata": {},
   "outputs": [],
   "source": [
    "# solucao teste de normalidade ou justificativa para nao utiliza-lo\n",
    "\n",
    "# Teste shapiro-wilk avalia se as amostra se comportam em uma gaussiana, boa para um pequeno conjunto de amostras.\n",
    "def teste_shapiro(dados):\n",
    "    stat,p = shapiro(dados)\n",
    "    alfa  =  0.05 \n",
    "    if  p  >  alfa : \n",
    "        msg  =  'Teste de shapiro - A amostra parece gaussiana (falha ao rejeitar H0)' \n",
    "    else : \n",
    "        msg  =  'Teste de shapiro - A amostra não parece gaussiana (rejeita H0)'\n",
    "    print(msg)\n",
    "    return stat,p\n",
    "\n",
    "# Teste de anderson, que avalia qual tipo de distribuição os dados se comportam, retorna vários valores além do valor p.\n",
    "def teste_anderson(dados):\n",
    "    result = anderson(dados)\n",
    "    stat = round(result.statistic, 4)\n",
    "    p = 0\n",
    "    result_mat = []\n",
    "    for i in range(len(result.critical_values)):\n",
    "        sl, cv = result.significance_level[i], result.critical_values[i]\n",
    "        if result.statistic < result.critical_values[i]:\n",
    "            msg = 'Teste de anderson - A amostra parece gaussiana (não rejeita H0)'\n",
    "        else:\n",
    "            msg = 'Teste de anderson - A amostra não parece gaussiana (rejeita H0)'\n",
    "        result_mat.append([len(dados), stat, sl, cv, msg])\n",
    "    print(msg)\n",
    "\n",
    "# Teste D'Agostino ou K² teste, retorna um remuso estatístico dos dados.\n",
    "def test_dagostino(dados):\n",
    "    stat, p = normaltest(dados)\n",
    "    alpha = 0.05\n",
    "    if p > alpha:\n",
    "        msg = \"Teste de D'Agostino - A amostra parece gaussiana (não rejeita H0)\"\n",
    "    else:\n",
    "        msg = \"Teste de D'Agostino - A amostra não parece gaussiana (rejeita H0)\"\n",
    "    print(msg)"
   ]
  },
  {
   "cell_type": "code",
   "execution_count": null,
   "metadata": {},
   "outputs": [],
   "source": [
    "# solução com o teste desejado\n",
    "\n",
    "teste_shapiro(Aventura[Aventura>0])\n",
    "teste_anderson(Aventura[Aventura>0])\n",
    "test_dagostino(Aventura[Aventura>0])\n",
    "print(\"*\" * 80)\n",
    "teste_shapiro(Horror[Horror>0])\n",
    "teste_anderson(Horror[Horror>0])\n",
    "test_dagostino(Horror[Horror>0])"
   ]
  },
  {
   "cell_type": "markdown",
   "metadata": {},
   "source": [
    "### Solução (explique sua conclusão):\n",
    "<span style='color:red'>\n",
    "\n",
    "Não foi necessário realizar os testes para saber que as duas distribuições não são gaussiana, mas utilizei da matemática para ter como aliada. Logo, esses dados foram retirados a partir de uma coleta de dados com viés, que podemos citar a preferência dos usuários por um certa categoria de filmes ou o número de filmes disponveis em um determinado tipo.\n",
    "Portanto, minha sugestão ainda fica a mesma e também posso adicionar que os filmes de aventura tem mais chances de ser um preferências dos usuários da plataforma.\n",
    "    \n",
    "</span>\n",
    "\n"
   ]
  },
  {
   "cell_type": "markdown",
   "metadata": {},
   "source": [
    "## Pergunta: Faça os mesmos boxplots para as notas médias (`nota_media`) dos gêneros `Adventure` e `Horror`."
   ]
  },
  {
   "cell_type": "code",
   "execution_count": null,
   "metadata": {},
   "outputs": [],
   "source": [
    "# solução:\n",
    "nota_media_horror = filmes.query('Horror==1').nota_media\n",
    "nota_media_aventura = filmes.query('Adventure==1').nota_media\n"
   ]
  },
  {
   "cell_type": "code",
   "execution_count": null,
   "metadata": {},
   "outputs": [],
   "source": [
    "plt.boxplot([nota_media_aventura,nota_media_horror])\n",
    "plt.xticks([1,2], ['Aventura','Horror'])\n",
    "plt.title('Boxplot de filmes de Horror e aventura',fontsize=16)\n",
    "plt.xlabel('Categoria de filme',fontsize=14)\n",
    "plt.ylabel('Nota média',fontsize=14)\n",
    "plt.grid()"
   ]
  },
  {
   "cell_type": "markdown",
   "metadata": {},
   "source": [
    "## Pergunta: Quero fazer um filme que seja sucesso de crítica, com pessoas dando notas altas, mesmo que não tenha um número muito grande de pessoas assistindo. Qual gênero você recomenda se tenho que escolher somente um entre `Adventure` e `Horror`?"
   ]
  },
  {
   "cell_type": "markdown",
   "metadata": {},
   "source": [
    "### Solução:\n",
    "<span style='color:red'>\n",
    "Horror, pois há uma maior chance do que receber notas mais altas com filmes desse tipo. Veja no boxplot acima, a distribuição da categoria horror é mais densa nos intervalos [3.4, 4.0] e os filmes de aventura no [3.4, 3.8].\n",
    "</span>"
   ]
  },
  {
   "cell_type": "markdown",
   "metadata": {},
   "source": [
    "## Pergunta: nossa análise foi até então visual. Aplique um teste estatístico para verificar se existe significância estatística na distribuição das notas dos filmes de `Adventure` e `Horror`.\n",
    "\n",
    "Passos:\n",
    "\n",
    "- visualize a distribuição de ambas através de histogramas\n",
    "- se suspeitar normalidade na distribuição, faça um teste de normalidade para ambas\n",
    "- aplique um teste adequado de comparação das distribuições\n",
    "- explique o resultado encontrado\n",
    "- utilize p=0.05"
   ]
  },
  {
   "cell_type": "code",
   "execution_count": null,
   "metadata": {},
   "outputs": [],
   "source": [
    "# solucao histograma de aventura\n",
    "plt.figure(figsize=(8,4))\n",
    "nota_media_aventura.hist()\n",
    "ax = plt.title('Histograma das notas médias de filmes de aventura',fontsize=14)\n",
    "ax = plt.xlabel('Notas médias',fontsize=14)\n",
    "ax = plt.ylabel('Quantidade de filmes',fontsize=14)"
   ]
  },
  {
   "cell_type": "markdown",
   "metadata": {},
   "source": [
    "<span style='color:blue'>\n",
    "Aqui podemos notar que pode parecer com uma distibuição gaussiana com skewness negativa e curtose mesocurtica, mas para ter certeza faremos abaixo os testes estatítiscos.\n",
    "</span>"
   ]
  },
  {
   "cell_type": "code",
   "execution_count": null,
   "metadata": {},
   "outputs": [],
   "source": [
    "# solucao histograma de horror\n",
    "plt.figure(figsize=(8,4))\n",
    "nota_media_horror.hist()\n",
    "ax = plt.title('Histograma das notas médias de filmes de horror',fontsize=14)\n",
    "ax = plt.xlabel('Notas médias',fontsize=14)\n",
    "ax = plt.ylabel('Quantidade de filmes',fontsize=14)"
   ]
  },
  {
   "cell_type": "markdown",
   "metadata": {},
   "source": [
    "<span style='color:blue'>\n",
    "Aqui podemos notar que pode parecer com uma distibuição gaussiana com skewness>0 e curtoe leptocurtica, mas para ter certeza faremos abaixo os testes estatítiscos.\n",
    "</span>"
   ]
  },
  {
   "cell_type": "code",
   "execution_count": null,
   "metadata": {},
   "outputs": [],
   "source": [
    "# solucao teste de normalidade ou justificativa para nao utiliza-lo\n",
    "teste_shapiro(nota_media_horror)\n",
    "teste_anderson(nota_media_horror)\n",
    "test_dagostino(nota_media_horror)\n",
    "print(\"*\" * 80)\n",
    "teste_shapiro(nota_media_aventura)\n",
    "teste_anderson(nota_media_aventura)\n",
    "test_dagostino(nota_media_aventura)"
   ]
  },
  {
   "cell_type": "markdown",
   "metadata": {},
   "source": [
    "### Solução com o teste desejado => Explicação dos resultados\n",
    "<span style='color:red'>\n",
    "    Não foi necessário realizar os testes para saber que as duas distribuições não são gaussiana, mas utilizei da matemática para ter como aliada. Logo, esses dados foram retirados a partir de uma coleta de dados com viés, que podemos citar a preferência dos usuários por um certa categoria de filmes ou o número de filmes disponveis em um determinado tipo.\n",
    "</span>"
   ]
  },
  {
   "cell_type": "markdown",
   "metadata": {},
   "source": [
    "## Sua recomendação para maior sucesso de crítica em nota alta entre `Horror` e `Adventure` continua a mesma? Explique.\n",
    "\n"
   ]
  },
  {
   "cell_type": "markdown",
   "metadata": {},
   "source": [
    "### Solução:\n",
    "<span style='color:red'>\n",
    "    Não, pois vendo que a categoria de filmes Adventure se mostrou que suas amostras se comportam como uma gaussiana em dois dos três testes. Além disso, segundo o histograma do filme de aventuras, vemos que boa parte dos filmes esta no intervalo [3.4, 4.0].\n",
    "</span>"
   ]
  },
  {
   "cell_type": "markdown",
   "metadata": {},
   "source": [
    "## Pergunta: Quero fazer um filme que seja primeiro sucesso de crítica, com pessoas dando notas altas. Em segundo lugar quero que seja popular (mais pessoas assistam). Com as informações visuais e estatísticas, supondo poder escolher somente um, qual dois 2 gêneros você recomenda agora? `Horror` ou `Adventure`?"
   ]
  },
  {
   "cell_type": "markdown",
   "metadata": {},
   "source": [
    "### Solução:\n",
    "<span style='color:red'>\n",
    "    Pelos os testes anteriores, vemos que o mais aconselhado é fazer filmes de aventura(Adventure).\n",
    "</span>"
   ]
  },
  {
   "cell_type": "markdown",
   "metadata": {},
   "source": [
    "## Pergunta: Quais são os top 5 filmes dos 2 generos mais assistidas?\n",
    "\n",
    "- utilize os 2 generos mais votados em `votos_por_genero`\n",
    "- utilize a `nota_media` para definir o top 5 filmes\n",
    "- o resultado são 5, não 10 filmes"
   ]
  },
  {
   "cell_type": "code",
   "execution_count": null,
   "metadata": {},
   "outputs": [],
   "source": [
    "aux = df_popularidade.sort_values('total_de_votos',ascending=False)\n",
    "votos_por_genero = aux.iloc[[0,1]]"
   ]
  },
  {
   "cell_type": "code",
   "execution_count": null,
   "metadata": {},
   "outputs": [],
   "source": [
    "# solução: calculando os 2 generos mais votados\n",
    "votos_por_genero"
   ]
  },
  {
   "cell_type": "code",
   "execution_count": null,
   "metadata": {},
   "outputs": [],
   "source": [
    "# solução: encontrando os top 5 filmes desses generos\n",
    "top5_action = filmes.query('Action == 1').sort_values('nota_media',ascending=False)\n",
    "top5_action.iloc[[0,1,2,3,4]]"
   ]
  },
  {
   "cell_type": "code",
   "execution_count": null,
   "metadata": {},
   "outputs": [],
   "source": [
    "top5_drama = filmes.query('Drama == 1').sort_values('nota_media',ascending=False)\n",
    "top5_drama.iloc[[0,1,2,3,4]]"
   ]
  },
  {
   "cell_type": "markdown",
   "metadata": {},
   "source": [
    "## Pergunta: Quais são os 2 generos com maior valor de correlação com a `nota_media`? E os 2 com menor valor de correlação com a `nota_media`?\n",
    "\n",
    "- O pandas possui a função `corr` para calcular correlação entre todas as colunas"
   ]
  },
  {
   "cell_type": "code",
   "execution_count": null,
   "metadata": {},
   "outputs": [],
   "source": [
    "aux = filmes.corr().sort_values('nota_media',ascending=False)['nota_media']\n",
    "aux"
   ]
  },
  {
   "cell_type": "code",
   "execution_count": null,
   "metadata": {},
   "outputs": [],
   "source": [
    "# solucao\n",
    "print(\"As duas categorias com maiores correlação são Drama({}) e Crime({})\".format(aux[2].round(2),aux[3].round(2)))\n",
    "print(\"*\"*80)\n",
    "print(\"As duas categorias com Menores correlação são Documentário({}) e Musical({})\".format(aux[9].round(3),aux[10].round(2)))"
   ]
  },
  {
   "cell_type": "markdown",
   "metadata": {},
   "source": [
    "## Pergunta: Quais são os 2 generos com maior valor de correlação com `total_de_votos`? E quais os 2 com menor valor de correlação com `total_de_votos`?"
   ]
  },
  {
   "cell_type": "code",
   "execution_count": null,
   "metadata": {},
   "outputs": [],
   "source": [
    "aux = filmes.corr().sort_values('total_de_votos',ascending=False)['total_de_votos']\n",
    "aux"
   ]
  },
  {
   "cell_type": "code",
   "execution_count": null,
   "metadata": {},
   "outputs": [],
   "source": [
    "# solucao\n",
    "print(\"As duas categorias com maiores correlação são Aventura({}) e Guerra({})\".format(aux[2].round(2),aux[3].round(2)))\n",
    "print(\"*\"*80)\n",
    "print(\"As duas categorias com Menores correlação são Infantil({}) e Mistério({})\".format(aux[10].round(3),aux[11].round(3)))"
   ]
  },
  {
   "cell_type": "markdown",
   "metadata": {},
   "source": [
    "## Pergunta: Visualize graficamente o relacionamento entre ano de lançamento e nota média\n",
    "\n",
    "- Use o gráfico `lineplot`"
   ]
  },
  {
   "cell_type": "code",
   "execution_count": null,
   "metadata": {},
   "outputs": [],
   "source": [
    "# solucao\n",
    "total_de_votos_e_ano_lan_values = filmes[['nota_media','ano_de_lancamento']]\n",
    "plt.figure(figsize=(20,8))\n",
    "ax = sns.lineplot(x='ano_de_lancamento',y='nota_media',data=total_de_votos_e_ano_lan_values)\n",
    "ax.set_xlabel('Ano de lançamento',fontsize=20)\n",
    "ax.set_ylabel('Nota média',fontsize=20)\n",
    "ax.set_title('Gráfico que mostra a correlação entre nota média e ana de lançamento',fontsize=20)"
   ]
  },
  {
   "cell_type": "markdown",
   "metadata": {},
   "source": [
    "## Pergunta: Interprete a correlação entre `ano_de_lancamento` e a `nota_media`?\n",
    "\n",
    "- Calcule a correlação numericamente (use o `corr` do pandas)\n",
    "- Correlação não implica causalidade, qual \"problema\" na coleta dos dados pode gerar esse tipo de correlação?"
   ]
  },
  {
   "cell_type": "code",
   "execution_count": null,
   "metadata": {},
   "outputs": [],
   "source": [
    "# solução (código)\n",
    "corr_total_de_votos_e_ano_lan_values = filmes[['nota_media','ano_de_lancamento']].corr()\n",
    "corr_total_de_votos_e_ano_lan_values"
   ]
  },
  {
   "cell_type": "code",
   "execution_count": null,
   "metadata": {},
   "outputs": [],
   "source": [
    "plt.figure(figsize=(20,6))\n",
    "ax = sns.scatterplot(x='ano_de_lancamento',y='nota_media',data=total_de_votos_e_ano_lan_values)\n",
    "ax.set_xlabel('Ano de lançamento',fontsize=20)\n",
    "ax.set_ylabel('Nota média',fontsize=20)\n",
    "ax.set_title('Gráfico que mostra a correlação entre nota média e ana de lançamento',fontsize=20)"
   ]
  },
  {
   "cell_type": "markdown",
   "metadata": {},
   "source": [
    "### Solução (explicação)\n",
    "<span style='color:red'>\n",
    "    O que podemos ver que a há mais filmes entre as decadas de 1990 e 2010 e isso causa o baixo valor de correlação(próximo a zero).\n",
    "</span>"
   ]
  },
  {
   "cell_type": "code",
   "execution_count": null,
   "metadata": {},
   "outputs": [],
   "source": [
    "ano_lan = []\n",
    "media = []\n",
    "for i in range(len(filmes[['nota_media','ano_de_lancamento']])):\n",
    "    if filmes[['nota_media','ano_de_lancamento']].iloc[i].values[1] > 1994:\n",
    "        ano_lan.append(filmes['ano_de_lancamento'].iloc[i])\n",
    "        media.append(filmes['nota_media'].iloc[i])\n",
    "decada_de_90_pra_frente = pd.DataFrame({'Ano_lan':ano_lan,'Media':media})\n",
    "\n",
    "plt.figure(figsize=(20,6))\n",
    "ax = sns.scatterplot(x=\"Ano_lan\",y=\"Media\",data=decada_de_90_pra_frente)\n",
    "ax = sns.lineplot(x=\"Ano_lan\",y=\"Media\",data=decada_de_90_pra_frente,color='red')\n",
    "ax.set_xlabel('Ano de lançamento',fontsize=14)\n",
    "ax.set_ylabel('Nota média',fontsize=14)\n",
    "ax.set_title('Correlação de nota média com ano de lançamento pós década de 90',fontsize=14)"
   ]
  },
  {
   "cell_type": "code",
   "execution_count": null,
   "metadata": {},
   "outputs": [],
   "source": [
    "decada_de_90_pra_frente.corr()"
   ]
  },
  {
   "cell_type": "code",
   "execution_count": null,
   "metadata": {},
   "outputs": [],
   "source": [
    "ano_lan = []\n",
    "media = []\n",
    "for i in range(len(filmes[['nota_media','ano_de_lancamento']])):\n",
    "    if ~(filmes[['nota_media','ano_de_lancamento']].iloc[i].values[1] > 1994):    \n",
    "        ano_lan.append(filmes['ano_de_lancamento'].iloc[i])\n",
    "        media.append(filmes['nota_media'].iloc[i])\n",
    "        \n",
    "decada_de_90_pra_tras = pd.DataFrame({'Ano_lan':ano_lan,'Media':media})\n",
    "plt.figure(figsize=(20,6))\n",
    "ax = sns.scatterplot(x=\"Ano_lan\",y=\"Media\",data=decada_de_90_pra_tras)\n",
    "ax = sns.lineplot(x=\"Ano_lan\",y=\"Media\",data=decada_de_90_pra_tras,color='red')\n",
    "ax.set_xlabel('Ano de lançamento',fontsize=14)\n",
    "ax.set_ylabel('Nota média',fontsize=14)\n",
    "ax.set_title('Correlação de nota média com ano de lançamento antes da década de 90',fontsize=14)"
   ]
  },
  {
   "cell_type": "code",
   "execution_count": null,
   "metadata": {},
   "outputs": [],
   "source": [
    "decada_de_90_pra_tras.corr()"
   ]
  },
  {
   "cell_type": "markdown",
   "metadata": {},
   "source": [
    "<span style='color:blue'>\n",
    "Observe que já há um valor positivo e dobro do módulo do valor da correlação anterior.\n",
    "</span>"
   ]
  },
  {
   "cell_type": "markdown",
   "metadata": {},
   "source": [
    "## Pergunta: analise um pairplot\n",
    "\n",
    "- crie uma variável chamada `infos` baseada nas colunas `ano_de_lancamento`, `nota_media` e `total_de_votos` de `filmes`\n",
    "- faça o pairplot usando seaborn\n",
    "- coloque uma regressão linear para cada pequeno plot dentro dele"
   ]
  },
  {
   "cell_type": "code",
   "execution_count": null,
   "metadata": {},
   "outputs": [],
   "source": [
    "# solução\n",
    "infos = filmes[['ano_de_lancamento','nota_media','total_de_votos']]\n",
    "ax = sns.pairplot(infos,kind='reg')"
   ]
  },
  {
   "cell_type": "markdown",
   "metadata": {},
   "source": [
    "## Pergunta: analise um pairplot dos filmes de `Animation`\n",
    "\n",
    "- use o dataframe `filmes`\n",
    "- em um único pairplot separe com cores distintas os filmes da categoria `Animation` dos outros\n",
    "- use uma palete como `husl`\n",
    "- use marcadores distintos para cada um dos dois grupos\n",
    "- faça o pairplot usando seaborn e coloque uma regressão linear para cada pequeno plot dentro dele\n",
    "- tanto em x quanto y use somente três variáveis: `total_de_votos`, `ano_de_lancamento`, `nota_media`"
   ]
  },
  {
   "cell_type": "code",
   "execution_count": null,
   "metadata": {},
   "outputs": [],
   "source": [
    "infos = filmes[['ano_de_lancamento','nota_media','total_de_votos','Animation']]\n",
    "infos"
   ]
  },
  {
   "cell_type": "code",
   "execution_count": null,
   "metadata": {},
   "outputs": [],
   "source": [
    "plt.figure(figsize=(20,8))\n",
    "ax = sns.pairplot(infos,kind='reg',hue='Animation',palette='husl'\n",
    "                  ,vars=['ano_de_lancamento','nota_media','total_de_votos']\n",
    "                 ,hue_order=[0,1])"
   ]
  },
  {
   "cell_type": "markdown",
   "metadata": {},
   "source": [
    "## Pergunta: Analise a regressão em relação ao ano de lançamento.\n",
    "\n",
    "- Como parece se comportar a `nota_media` de filmes de `Animation` mais antigos e mais recentes? (ano_de_lancamento x nota_media). Essa correlação parece ser baixa, mas parece ser linear?\n",
    "- E o `ano_de_lancamento` x `total_de_votos`?\n",
    "- E das outras categorias? Compare isso com os outros filmes.\n",
    "- O que leva você levantar como hipótese para esse resultado?"
   ]
  },
  {
   "cell_type": "markdown",
   "metadata": {},
   "source": [
    "### Solução:\n",
    "\n"
   ]
  },
  {
   "cell_type": "markdown",
   "metadata": {},
   "source": [
    "#### Como parece se comportar a `nota_media `de filmes de Animation mais antigos e mais recentes? (`ano_de_lancamento x nota_media`). Essa correlação parece ser baixa, mas parece ser linear?    "
   ]
  },
  {
   "cell_type": "code",
   "execution_count": null,
   "metadata": {},
   "outputs": [],
   "source": [
    "ano_lan_sim = []\n",
    "total_votos_sim = []\n",
    "ano_lan_nao = []\n",
    "total_votos_nao = []\n",
    "\n",
    "for i in range(len(filmes[['nota_media','ano_de_lancamento']])):\n",
    "    if filmes[['nota_media','ano_de_lancamento']].iloc[i].values[1] > 1990:\n",
    "        ano_lan_sim.append(filmes['ano_de_lancamento'].iloc[i])\n",
    "        total_votos_sim.append(filmes['nota_media'].iloc[i])\n",
    "    else:\n",
    "        ano_lan_nao.append(filmes['ano_de_lancamento'].iloc[i])\n",
    "        total_votos_nao.append(filmes['nota_media'].iloc[i])\n",
    "        \n",
    "decada_de_90_pra_frente = pd.DataFrame({'Ano_lancamento':ano_lan_sim,'nota_media':total_votos_sim})\n",
    "decada_de_90_pra_tras = pd.DataFrame({'Ano_lancamento':ano_lan_nao,'nota_media':total_votos_nao})\n",
    "\n",
    "\n",
    "plt.figure(figsize=(15,14))\n",
    "plt.subplot(211)\n",
    "ax1 = sns.scatterplot(x=\"Ano_lancamento\",y=\"nota_media\",data=decada_de_90_pra_frente)\n",
    "ax1 = sns.lineplot(x=\"Ano_lancamento\",y=\"nota_media\",data=decada_de_90_pra_frente,color='red')\n",
    "corr_depois_decada_1990 = decada_de_90_pra_frente.corr()['nota_media'].values[0].round(3)\n",
    "ax1.set_xlabel('Ano de lançamento', fontsize=12)\n",
    "ax1.set_ylabel('Nota média', fontsize=12)\n",
    "ax1.set_title('Ano de lançamento x nota média, depois da década de 1990 correlação de %.3f' % \n",
    "              corr_depois_decada_1990,fontsize=18)\n",
    "\n",
    "plt.subplot(212)\n",
    "ax2 = sns.scatterplot(x=\"Ano_lancamento\",y=\"nota_media\",data=decada_de_90_pra_tras)\n",
    "ax2 = sns.lineplot(x=\"Ano_lancamento\",y=\"nota_media\",data=decada_de_90_pra_tras,color='red')\n",
    "corr_antes_decada_1990 = decada_de_90_pra_tras.corr()['nota_media'].values[0].round(3)\n",
    "ax2.set_xlabel('Ano de lançamento', fontsize=12)\n",
    "ax2.set_ylabel('Nota média', fontsize=12)\n",
    "ax2.set_title('Ano de lançamento x nota média, antes da década de 1990 correlação de %.3f' % \n",
    "              corr_antes_decada_1990,fontsize=18)\n"
   ]
  },
  {
   "cell_type": "markdown",
   "metadata": {},
   "source": [
    "<span style='color:blue'>\n",
    "Quando se plota todos os valores vemos que os anos mais passados possuem pouca quantidade de filmes, logo podemos ver uma **correlação negativa** entre **ano_de_lancamento x nota_media** já se pegamos os dados a partir da **década de 1990** vemos que as notas médias possuem **correlação positiva** com o ano de lançamento do filme.\n",
    "</span>"
   ]
  },
  {
   "cell_type": "markdown",
   "metadata": {},
   "source": [
    "#### E o ano_de_lancamento x total_de_votos?"
   ]
  },
  {
   "cell_type": "code",
   "execution_count": null,
   "metadata": {},
   "outputs": [],
   "source": [
    "ano_lan_sim = []\n",
    "total_votos_sim = []\n",
    "ano_lan_nao = []\n",
    "total_votos_nao = []\n",
    "\n",
    "for i in range(len(filmes[['total_de_votos','ano_de_lancamento']])):\n",
    "    if filmes[['total_de_votos','ano_de_lancamento']].iloc[i].values[1] > 1990:\n",
    "        ano_lan_sim.append(filmes['ano_de_lancamento'].iloc[i])\n",
    "        total_votos_sim.append(filmes['total_de_votos'].iloc[i])\n",
    "    else:\n",
    "        ano_lan_nao.append(filmes['ano_de_lancamento'].iloc[i])\n",
    "        total_votos_nao.append(filmes['total_de_votos'].iloc[i])\n",
    "        \n",
    "decada_de_90_pra_frente = pd.DataFrame({'Ano_lancamento':ano_lan_sim,'total_de_votos':total_votos_sim})\n",
    "decada_de_90_pra_tras = pd.DataFrame({'Ano_lancamento':ano_lan_nao,'total_de_votos':total_votos_nao})\n",
    "\n",
    "\n",
    "plt.figure(figsize=(15,14))\n",
    "plt.subplot(211)\n",
    "ax1 = sns.scatterplot(x=\"Ano_lancamento\",y=\"total_de_votos\",data=decada_de_90_pra_frente)\n",
    "ax1 = sns.lineplot(x=\"Ano_lancamento\",y=\"total_de_votos\",data=decada_de_90_pra_frente,color='red')\n",
    "corr_depois_decada_1990 = decada_de_90_pra_frente.corr()['total_de_votos'].values[0].round(3)\n",
    "ax1.set_xlabel('Ano de lançamento', fontsize=12)\n",
    "ax1.set_ylabel('Total de votos', fontsize=12)\n",
    "ax1.set_title('Ano de lançamento x total de votos, depois da década de 1990 correlação de %.3f' % \n",
    "              corr_depois_decada_1990,fontsize=18)\n",
    "\n",
    "plt.subplot(212)\n",
    "ax2 = sns.scatterplot(x=\"Ano_lancamento\",y=\"total_de_votos\",data=decada_de_90_pra_tras)\n",
    "ax2 = sns.lineplot(x=\"Ano_lancamento\",y=\"total_de_votos\",data=decada_de_90_pra_tras,color='red')\n",
    "corr_antes_decada_1990 = decada_de_90_pra_tras.corr()['total_de_votos'].values[0].round(3)\n",
    "ax2.set_xlabel('Ano de lançamento', fontsize=12)\n",
    "ax2.set_ylabel('Total de votos', fontsize=12)\n",
    "ax2.set_title('Ano de lançamento x total de votos, antes da década de 1990 correlação de %.3f' % \n",
    "              corr_antes_decada_1990,fontsize=18)\n"
   ]
  },
  {
   "cell_type": "markdown",
   "metadata": {},
   "source": [
    "<span style='color:blue'>\n",
    "Quando se plota todos os valores vemos que os anos mais passados possuem pouca quantidade de filmes, logo podemos ver uma **correlação positiva** entre **ano_de_lancamento x total_de_votos** já se pegarmos os dados a partir da **década de 1990** vemos que as notas médias possuem **correlação negativa** com o ano de lançamento do filme.\n",
    "</span>"
   ]
  },
  {
   "cell_type": "markdown",
   "metadata": {},
   "source": [
    "\n",
    "<span style=\"color:red\">**Creio que esse gráficos já respondem as outras perguntas, pois estou analisando todos os filmes, logo caso colocassem apenas algumas categorias poderia chegar a conclusões erradas devido alguns possuirem poucos dados**</span>."
   ]
  },
  {
   "cell_type": "markdown",
   "metadata": {},
   "source": [
    "## Pergunta: Explore\n",
    "\n",
    "- compartilhe conosco 2 visualizações extras que julgar interessante\n",
    "- explique o que encontrou\n",
    "- use quantas células (texto ou código) julgar necessário"
   ]
  },
  {
   "cell_type": "markdown",
   "metadata": {},
   "source": [
    "### Solução\n",
    "<span style='color:red'>\n",
    "Primeiro, são os graficos da questão anterior, algo ocorreu que a partir da década de 1990 (pelo gráfico, em 1994 especificamente) aumentasse o número de filmes.\n",
    "</span>"
   ]
  },
  {
   "cell_type": "markdown",
   "metadata": {},
   "source": [
    "# <span style=\"color:blue\" >Análise das 5 melhores categorias</span>"
   ]
  },
  {
   "cell_type": "code",
   "execution_count": null,
   "metadata": {},
   "outputs": [],
   "source": [
    "df_popularidade.sort_values('Frequencia',ascending=False).head()"
   ]
  },
  {
   "attachments": {},
   "cell_type": "markdown",
   "metadata": {},
   "source": [
    "<span style='color:blue'>\n",
    "Os filmes de comédia são os pior avaliado dentre as 5 melhores categorias\n",
    "</span>"
   ]
  },
  {
   "cell_type": "code",
   "execution_count": null,
   "metadata": {},
   "outputs": [],
   "source": [
    "def decada_de_90(dados): \n",
    "    ano_lan_sim = []\n",
    "    total_votos_sim = []\n",
    "    ano_lan_nao = []\n",
    "    total_votos_nao = []\n",
    "\n",
    "    for i in range(len(dados[['total_de_votos','ano_de_lancamento']])):\n",
    "        if dados[['total_de_votos','ano_de_lancamento']].iloc[i].values[1] > 1990:\n",
    "            ano_lan_sim.append(dados['ano_de_lancamento'].iloc[i])\n",
    "            total_votos_sim.append(dados['total_de_votos'].iloc[i])\n",
    "        else:\n",
    "            ano_lan_nao.append(dados['ano_de_lancamento'].iloc[i])\n",
    "            total_votos_nao.append(dados['total_de_votos'].iloc[i])\n",
    "\n",
    "    decada_de_90_pra_frente = pd.DataFrame({'Ano_lancamento':ano_lan_sim,'total_de_votos':total_votos_sim})\n",
    "    decada_de_90_pra_tras = pd.DataFrame({'Ano_lancamento':ano_lan_nao,'total_de_votos':total_votos_nao})\n",
    "    return decada_de_90_pra_frente,decada_de_90_pra_tras"
   ]
  },
  {
   "cell_type": "code",
   "execution_count": null,
   "metadata": {},
   "outputs": [],
   "source": [
    "filmes_de_comedia  = filmes[['titulo','ano_de_lancamento','nota_media','total_de_votos','Comedy']].query('Comedy==1')\n",
    "filmes_de_drama    = filmes[['titulo','ano_de_lancamento','nota_media','total_de_votos','Drama']].query('Drama==1')\n",
    "filmes_de_acao     = filmes[['titulo','ano_de_lancamento','nota_media','total_de_votos','Action']].query('Action==1')\n",
    "filmes_de_aventura = filmes[['titulo','ano_de_lancamento','nota_media','total_de_votos','Adventure']].query('Adventure==1')\n",
    "filmes_de_terror   = filmes[['titulo','ano_de_lancamento','nota_media','total_de_votos','Thriller']].query('Thriller==1')"
   ]
  },
  {
   "cell_type": "code",
   "execution_count": null,
   "metadata": {},
   "outputs": [],
   "source": [
    "comedia_depois_90,comedia_antes_90 = decada_de_90(filmes_de_comedia)\n",
    "drama_depois_90,drama_antes_90 = decada_de_90(filmes_de_drama)\n",
    "acao_depois_90,acao_antes_90 = decada_de_90(filmes_de_acao)\n",
    "aventura_depois_90,aventura_antes_90 = decada_de_90(filmes_de_aventura)\n",
    "terror_depois_90,terror_antes_90 = decada_de_90(filmes_de_terror)"
   ]
  },
  {
   "cell_type": "code",
   "execution_count": null,
   "metadata": {},
   "outputs": [],
   "source": [
    "rank_de_votos_depois_90 = pd.DataFrame({'Categoria':['Comédia','Drama','Ação','Aventura','Terror'],\n",
    "                                       'Total_de_votos':[comedia_depois_90['total_de_votos'].sum(),\n",
    "                                                         drama_depois_90['total_de_votos'].sum(),\n",
    "                                                         acao_depois_90['total_de_votos'].sum(),\n",
    "                                                         aventura_depois_90['total_de_votos'].sum(),\n",
    "                                                         terror_depois_90['total_de_votos'].sum()] })\n",
    "rank_de_votos_depois_90.sort_values('Total_de_votos',ascending=False)"
   ]
  },
  {
   "cell_type": "markdown",
   "metadata": {},
   "source": [
    "A categoria **Drama** é a mais votada a partir da década de 1990, mas também os filmes de **ação** que estão em segundo estão com pouca diferença neste rank"
   ]
  },
  {
   "cell_type": "code",
   "execution_count": null,
   "metadata": {},
   "outputs": [],
   "source": [
    "rank_de_votos_antes_90 = pd.DataFrame({'Categoria':['Comédia','Drama','Ação','Aventura','Terror'],\n",
    "                                       'Total_de_votos':[comedia_antes_90['total_de_votos'].sum(),\n",
    "                                                         drama_antes_90['total_de_votos'].sum(),\n",
    "                                                         acao_antes_90['total_de_votos'].sum(),\n",
    "                                                         aventura_antes_90['total_de_votos'].sum(),\n",
    "                                                         terror_antes_90['total_de_votos'].sum()] })\n",
    "rank_de_votos_antes_90.sort_values('Total_de_votos',ascending=False)"
   ]
  },
  {
   "cell_type": "markdown",
   "metadata": {},
   "source": [
    "Já antes da década de 1990, a categoria **comédia** é estava na liderança, além disso, os filmes de **ação** também ficaram na segunda posião com uma pequena difernça."
   ]
  }
 ],
 "metadata": {
  "kernelspec": {
   "display_name": "Python 3",
   "language": "python",
   "name": "python3"
  },
  "language_info": {
   "codemirror_mode": {
    "name": "ipython",
    "version": 3
   },
   "file_extension": ".py",
   "mimetype": "text/x-python",
   "name": "python",
   "nbconvert_exporter": "python",
   "pygments_lexer": "ipython3",
   "version": "3.8.3"
  }
 },
 "nbformat": 4,
 "nbformat_minor": 2
}
